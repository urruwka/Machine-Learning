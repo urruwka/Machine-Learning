{
  "nbformat": 4,
  "nbformat_minor": 0,
  "metadata": {
    "accelerator": "GPU",
    "colab": {
      "name": "lec_convnet_pytorch.ipynb",
      "provenance": [],
      "collapsed_sections": []
    },
    "hide_input": false,
    "kernelspec": {
      "display_name": "Python 3",
      "language": "python",
      "name": "python3"
    },
    "language_info": {
      "codemirror_mode": {
        "name": "ipython",
        "version": 3
      },
      "file_extension": ".py",
      "mimetype": "text/x-python",
      "name": "python",
      "nbconvert_exporter": "python",
      "pygments_lexer": "ipython3",
      "version": "3.7.6"
    },
    "varInspector": {
      "cols": {
        "lenName": 16,
        "lenType": 16,
        "lenVar": 40
      },
      "kernels_config": {
        "python": {
          "delete_cmd_postfix": "",
          "delete_cmd_prefix": "del ",
          "library": "var_list.py",
          "varRefreshCmd": "print(var_dic_list())"
        },
        "r": {
          "delete_cmd_postfix": ") ",
          "delete_cmd_prefix": "rm(",
          "library": "var_list.r",
          "varRefreshCmd": "cat(var_dic_list()) "
        }
      },
      "types_to_exclude": [
        "module",
        "function",
        "builtin_function_or_method",
        "instance",
        "_Feature"
      ],
      "window_display": false
    },
    "widgets": {
      "application/vnd.jupyter.widget-state+json": {
        "8fdd4a7d9bb345a588e83ba630a50507": {
          "model_module": "@jupyter-widgets/controls",
          "model_name": "HBoxModel",
          "state": {
            "_view_name": "HBoxView",
            "_dom_classes": [],
            "_model_name": "HBoxModel",
            "_view_module": "@jupyter-widgets/controls",
            "_model_module_version": "1.5.0",
            "_view_count": null,
            "_view_module_version": "1.5.0",
            "box_style": "",
            "layout": "IPY_MODEL_057ff6cdd94a4abca5fbd9efeb6ea8be",
            "_model_module": "@jupyter-widgets/controls",
            "children": [
              "IPY_MODEL_aee6c984699e4dd5bfe98be7c2eda9e0",
              "IPY_MODEL_27557444b79e45f4b4356db145e1c837"
            ]
          }
        },
        "057ff6cdd94a4abca5fbd9efeb6ea8be": {
          "model_module": "@jupyter-widgets/base",
          "model_name": "LayoutModel",
          "state": {
            "_view_name": "LayoutView",
            "grid_template_rows": null,
            "right": null,
            "justify_content": null,
            "_view_module": "@jupyter-widgets/base",
            "overflow": null,
            "_model_module_version": "1.2.0",
            "_view_count": null,
            "flex_flow": null,
            "width": null,
            "min_width": null,
            "border": null,
            "align_items": null,
            "bottom": null,
            "_model_module": "@jupyter-widgets/base",
            "top": null,
            "grid_column": null,
            "overflow_y": null,
            "overflow_x": null,
            "grid_auto_flow": null,
            "grid_area": null,
            "grid_template_columns": null,
            "flex": null,
            "_model_name": "LayoutModel",
            "justify_items": null,
            "grid_row": null,
            "max_height": null,
            "align_content": null,
            "visibility": null,
            "align_self": null,
            "height": null,
            "min_height": null,
            "padding": null,
            "grid_auto_rows": null,
            "grid_gap": null,
            "max_width": null,
            "order": null,
            "_view_module_version": "1.2.0",
            "grid_template_areas": null,
            "object_position": null,
            "object_fit": null,
            "grid_auto_columns": null,
            "margin": null,
            "display": null,
            "left": null
          }
        },
        "aee6c984699e4dd5bfe98be7c2eda9e0": {
          "model_module": "@jupyter-widgets/controls",
          "model_name": "FloatProgressModel",
          "state": {
            "_view_name": "ProgressView",
            "style": "IPY_MODEL_2405ef3457a1478599b63b2f6ef21470",
            "_dom_classes": [],
            "description": "100%",
            "_model_name": "FloatProgressModel",
            "bar_style": "success",
            "max": 12000,
            "_view_module": "@jupyter-widgets/controls",
            "_model_module_version": "1.5.0",
            "value": 12000,
            "_view_count": null,
            "_view_module_version": "1.5.0",
            "orientation": "horizontal",
            "min": 0,
            "description_tooltip": null,
            "_model_module": "@jupyter-widgets/controls",
            "layout": "IPY_MODEL_c674bddeef96468ea1452134609871d4"
          }
        },
        "27557444b79e45f4b4356db145e1c837": {
          "model_module": "@jupyter-widgets/controls",
          "model_name": "HTMLModel",
          "state": {
            "_view_name": "HTMLView",
            "style": "IPY_MODEL_46768205744542729862c08026d5e050",
            "_dom_classes": [],
            "description": "",
            "_model_name": "HTMLModel",
            "placeholder": "​",
            "_view_module": "@jupyter-widgets/controls",
            "_model_module_version": "1.5.0",
            "value": " 12000/12000 [01:05&lt;00:00, 182.01it/s]",
            "_view_count": null,
            "_view_module_version": "1.5.0",
            "description_tooltip": null,
            "_model_module": "@jupyter-widgets/controls",
            "layout": "IPY_MODEL_60da1cc8658e4c478d7704ec35c98457"
          }
        },
        "2405ef3457a1478599b63b2f6ef21470": {
          "model_module": "@jupyter-widgets/controls",
          "model_name": "ProgressStyleModel",
          "state": {
            "_view_name": "StyleView",
            "_model_name": "ProgressStyleModel",
            "description_width": "initial",
            "_view_module": "@jupyter-widgets/base",
            "_model_module_version": "1.5.0",
            "_view_count": null,
            "_view_module_version": "1.2.0",
            "bar_color": null,
            "_model_module": "@jupyter-widgets/controls"
          }
        },
        "c674bddeef96468ea1452134609871d4": {
          "model_module": "@jupyter-widgets/base",
          "model_name": "LayoutModel",
          "state": {
            "_view_name": "LayoutView",
            "grid_template_rows": null,
            "right": null,
            "justify_content": null,
            "_view_module": "@jupyter-widgets/base",
            "overflow": null,
            "_model_module_version": "1.2.0",
            "_view_count": null,
            "flex_flow": null,
            "width": null,
            "min_width": null,
            "border": null,
            "align_items": null,
            "bottom": null,
            "_model_module": "@jupyter-widgets/base",
            "top": null,
            "grid_column": null,
            "overflow_y": null,
            "overflow_x": null,
            "grid_auto_flow": null,
            "grid_area": null,
            "grid_template_columns": null,
            "flex": null,
            "_model_name": "LayoutModel",
            "justify_items": null,
            "grid_row": null,
            "max_height": null,
            "align_content": null,
            "visibility": null,
            "align_self": null,
            "height": null,
            "min_height": null,
            "padding": null,
            "grid_auto_rows": null,
            "grid_gap": null,
            "max_width": null,
            "order": null,
            "_view_module_version": "1.2.0",
            "grid_template_areas": null,
            "object_position": null,
            "object_fit": null,
            "grid_auto_columns": null,
            "margin": null,
            "display": null,
            "left": null
          }
        },
        "46768205744542729862c08026d5e050": {
          "model_module": "@jupyter-widgets/controls",
          "model_name": "DescriptionStyleModel",
          "state": {
            "_view_name": "StyleView",
            "_model_name": "DescriptionStyleModel",
            "description_width": "",
            "_view_module": "@jupyter-widgets/base",
            "_model_module_version": "1.5.0",
            "_view_count": null,
            "_view_module_version": "1.2.0",
            "_model_module": "@jupyter-widgets/controls"
          }
        },
        "60da1cc8658e4c478d7704ec35c98457": {
          "model_module": "@jupyter-widgets/base",
          "model_name": "LayoutModel",
          "state": {
            "_view_name": "LayoutView",
            "grid_template_rows": null,
            "right": null,
            "justify_content": null,
            "_view_module": "@jupyter-widgets/base",
            "overflow": null,
            "_model_module_version": "1.2.0",
            "_view_count": null,
            "flex_flow": null,
            "width": null,
            "min_width": null,
            "border": null,
            "align_items": null,
            "bottom": null,
            "_model_module": "@jupyter-widgets/base",
            "top": null,
            "grid_column": null,
            "overflow_y": null,
            "overflow_x": null,
            "grid_auto_flow": null,
            "grid_area": null,
            "grid_template_columns": null,
            "flex": null,
            "_model_name": "LayoutModel",
            "justify_items": null,
            "grid_row": null,
            "max_height": null,
            "align_content": null,
            "visibility": null,
            "align_self": null,
            "height": null,
            "min_height": null,
            "padding": null,
            "grid_auto_rows": null,
            "grid_gap": null,
            "max_width": null,
            "order": null,
            "_view_module_version": "1.2.0",
            "grid_template_areas": null,
            "object_position": null,
            "object_fit": null,
            "grid_auto_columns": null,
            "margin": null,
            "display": null,
            "left": null
          }
        },
        "ba79cde6a28b4c0d872b5547fcd6c284": {
          "model_module": "@jupyter-widgets/controls",
          "model_name": "HBoxModel",
          "state": {
            "_view_name": "HBoxView",
            "_dom_classes": [],
            "_model_name": "HBoxModel",
            "_view_module": "@jupyter-widgets/controls",
            "_model_module_version": "1.5.0",
            "_view_count": null,
            "_view_module_version": "1.5.0",
            "box_style": "",
            "layout": "IPY_MODEL_d52cdc9d4362452eb9e69878254ff904",
            "_model_module": "@jupyter-widgets/controls",
            "children": [
              "IPY_MODEL_385b5cef082141cf9e35b008c9c6607f",
              "IPY_MODEL_10c3840243db43959fe76c3f87508d67"
            ]
          }
        },
        "d52cdc9d4362452eb9e69878254ff904": {
          "model_module": "@jupyter-widgets/base",
          "model_name": "LayoutModel",
          "state": {
            "_view_name": "LayoutView",
            "grid_template_rows": null,
            "right": null,
            "justify_content": null,
            "_view_module": "@jupyter-widgets/base",
            "overflow": null,
            "_model_module_version": "1.2.0",
            "_view_count": null,
            "flex_flow": null,
            "width": null,
            "min_width": null,
            "border": null,
            "align_items": null,
            "bottom": null,
            "_model_module": "@jupyter-widgets/base",
            "top": null,
            "grid_column": null,
            "overflow_y": null,
            "overflow_x": null,
            "grid_auto_flow": null,
            "grid_area": null,
            "grid_template_columns": null,
            "flex": null,
            "_model_name": "LayoutModel",
            "justify_items": null,
            "grid_row": null,
            "max_height": null,
            "align_content": null,
            "visibility": null,
            "align_self": null,
            "height": null,
            "min_height": null,
            "padding": null,
            "grid_auto_rows": null,
            "grid_gap": null,
            "max_width": null,
            "order": null,
            "_view_module_version": "1.2.0",
            "grid_template_areas": null,
            "object_position": null,
            "object_fit": null,
            "grid_auto_columns": null,
            "margin": null,
            "display": null,
            "left": null
          }
        },
        "385b5cef082141cf9e35b008c9c6607f": {
          "model_module": "@jupyter-widgets/controls",
          "model_name": "FloatProgressModel",
          "state": {
            "_view_name": "ProgressView",
            "style": "IPY_MODEL_e4103db69b6f4906a27e1eec4666f8a8",
            "_dom_classes": [],
            "description": "",
            "_model_name": "FloatProgressModel",
            "bar_style": "success",
            "max": 170498071,
            "_view_module": "@jupyter-widgets/controls",
            "_model_module_version": "1.5.0",
            "value": 170498071,
            "_view_count": null,
            "_view_module_version": "1.5.0",
            "orientation": "horizontal",
            "min": 0,
            "description_tooltip": null,
            "_model_module": "@jupyter-widgets/controls",
            "layout": "IPY_MODEL_563f335565944452b79f25d74df4f2e7"
          }
        },
        "10c3840243db43959fe76c3f87508d67": {
          "model_module": "@jupyter-widgets/controls",
          "model_name": "HTMLModel",
          "state": {
            "_view_name": "HTMLView",
            "style": "IPY_MODEL_fca55232e5bc4d99983a01a0011db4f6",
            "_dom_classes": [],
            "description": "",
            "_model_name": "HTMLModel",
            "placeholder": "​",
            "_view_module": "@jupyter-widgets/controls",
            "_model_module_version": "1.5.0",
            "value": " 170499072/? [26:29&lt;00:00, 107252.07it/s]",
            "_view_count": null,
            "_view_module_version": "1.5.0",
            "description_tooltip": null,
            "_model_module": "@jupyter-widgets/controls",
            "layout": "IPY_MODEL_cb26e80ee0dd451ea71e636e8f43a61d"
          }
        },
        "e4103db69b6f4906a27e1eec4666f8a8": {
          "model_module": "@jupyter-widgets/controls",
          "model_name": "ProgressStyleModel",
          "state": {
            "_view_name": "StyleView",
            "_model_name": "ProgressStyleModel",
            "description_width": "initial",
            "_view_module": "@jupyter-widgets/base",
            "_model_module_version": "1.5.0",
            "_view_count": null,
            "_view_module_version": "1.2.0",
            "bar_color": null,
            "_model_module": "@jupyter-widgets/controls"
          }
        },
        "563f335565944452b79f25d74df4f2e7": {
          "model_module": "@jupyter-widgets/base",
          "model_name": "LayoutModel",
          "state": {
            "_view_name": "LayoutView",
            "grid_template_rows": null,
            "right": null,
            "justify_content": null,
            "_view_module": "@jupyter-widgets/base",
            "overflow": null,
            "_model_module_version": "1.2.0",
            "_view_count": null,
            "flex_flow": null,
            "width": null,
            "min_width": null,
            "border": null,
            "align_items": null,
            "bottom": null,
            "_model_module": "@jupyter-widgets/base",
            "top": null,
            "grid_column": null,
            "overflow_y": null,
            "overflow_x": null,
            "grid_auto_flow": null,
            "grid_area": null,
            "grid_template_columns": null,
            "flex": null,
            "_model_name": "LayoutModel",
            "justify_items": null,
            "grid_row": null,
            "max_height": null,
            "align_content": null,
            "visibility": null,
            "align_self": null,
            "height": null,
            "min_height": null,
            "padding": null,
            "grid_auto_rows": null,
            "grid_gap": null,
            "max_width": null,
            "order": null,
            "_view_module_version": "1.2.0",
            "grid_template_areas": null,
            "object_position": null,
            "object_fit": null,
            "grid_auto_columns": null,
            "margin": null,
            "display": null,
            "left": null
          }
        },
        "fca55232e5bc4d99983a01a0011db4f6": {
          "model_module": "@jupyter-widgets/controls",
          "model_name": "DescriptionStyleModel",
          "state": {
            "_view_name": "StyleView",
            "_model_name": "DescriptionStyleModel",
            "description_width": "",
            "_view_module": "@jupyter-widgets/base",
            "_model_module_version": "1.5.0",
            "_view_count": null,
            "_view_module_version": "1.2.0",
            "_model_module": "@jupyter-widgets/controls"
          }
        },
        "cb26e80ee0dd451ea71e636e8f43a61d": {
          "model_module": "@jupyter-widgets/base",
          "model_name": "LayoutModel",
          "state": {
            "_view_name": "LayoutView",
            "grid_template_rows": null,
            "right": null,
            "justify_content": null,
            "_view_module": "@jupyter-widgets/base",
            "overflow": null,
            "_model_module_version": "1.2.0",
            "_view_count": null,
            "flex_flow": null,
            "width": null,
            "min_width": null,
            "border": null,
            "align_items": null,
            "bottom": null,
            "_model_module": "@jupyter-widgets/base",
            "top": null,
            "grid_column": null,
            "overflow_y": null,
            "overflow_x": null,
            "grid_auto_flow": null,
            "grid_area": null,
            "grid_template_columns": null,
            "flex": null,
            "_model_name": "LayoutModel",
            "justify_items": null,
            "grid_row": null,
            "max_height": null,
            "align_content": null,
            "visibility": null,
            "align_self": null,
            "height": null,
            "min_height": null,
            "padding": null,
            "grid_auto_rows": null,
            "grid_gap": null,
            "max_width": null,
            "order": null,
            "_view_module_version": "1.2.0",
            "grid_template_areas": null,
            "object_position": null,
            "object_fit": null,
            "grid_auto_columns": null,
            "margin": null,
            "display": null,
            "left": null
          }
        },
        "3c2cad2d3e5b41e294d3c3fa83277848": {
          "model_module": "@jupyter-widgets/controls",
          "model_name": "HBoxModel",
          "state": {
            "_view_name": "HBoxView",
            "_dom_classes": [],
            "_model_name": "HBoxModel",
            "_view_module": "@jupyter-widgets/controls",
            "_model_module_version": "1.5.0",
            "_view_count": null,
            "_view_module_version": "1.5.0",
            "box_style": "",
            "layout": "IPY_MODEL_b995dbc6e75e4311bc49aec554f01460",
            "_model_module": "@jupyter-widgets/controls",
            "children": [
              "IPY_MODEL_984758956514443fa2fdb60952b840ca",
              "IPY_MODEL_196f489ad8b2441f838dc7193bafd4d1"
            ]
          }
        },
        "b995dbc6e75e4311bc49aec554f01460": {
          "model_module": "@jupyter-widgets/base",
          "model_name": "LayoutModel",
          "state": {
            "_view_name": "LayoutView",
            "grid_template_rows": null,
            "right": null,
            "justify_content": null,
            "_view_module": "@jupyter-widgets/base",
            "overflow": null,
            "_model_module_version": "1.2.0",
            "_view_count": null,
            "flex_flow": null,
            "width": null,
            "min_width": null,
            "border": null,
            "align_items": null,
            "bottom": null,
            "_model_module": "@jupyter-widgets/base",
            "top": null,
            "grid_column": null,
            "overflow_y": null,
            "overflow_x": null,
            "grid_auto_flow": null,
            "grid_area": null,
            "grid_template_columns": null,
            "flex": null,
            "_model_name": "LayoutModel",
            "justify_items": null,
            "grid_row": null,
            "max_height": null,
            "align_content": null,
            "visibility": null,
            "align_self": null,
            "height": null,
            "min_height": null,
            "padding": null,
            "grid_auto_rows": null,
            "grid_gap": null,
            "max_width": null,
            "order": null,
            "_view_module_version": "1.2.0",
            "grid_template_areas": null,
            "object_position": null,
            "object_fit": null,
            "grid_auto_columns": null,
            "margin": null,
            "display": null,
            "left": null
          }
        },
        "984758956514443fa2fdb60952b840ca": {
          "model_module": "@jupyter-widgets/controls",
          "model_name": "FloatProgressModel",
          "state": {
            "_view_name": "ProgressView",
            "style": "IPY_MODEL_5c9fcb4219f64b5ebddd862425658594",
            "_dom_classes": [],
            "description": "100%",
            "_model_name": "FloatProgressModel",
            "bar_style": "success",
            "max": 10,
            "_view_module": "@jupyter-widgets/controls",
            "_model_module_version": "1.5.0",
            "value": 10,
            "_view_count": null,
            "_view_module_version": "1.5.0",
            "orientation": "horizontal",
            "min": 0,
            "description_tooltip": null,
            "_model_module": "@jupyter-widgets/controls",
            "layout": "IPY_MODEL_7ffe494d420946a2a5e18516e1f1d1b6"
          }
        },
        "196f489ad8b2441f838dc7193bafd4d1": {
          "model_module": "@jupyter-widgets/controls",
          "model_name": "HTMLModel",
          "state": {
            "_view_name": "HTMLView",
            "style": "IPY_MODEL_51135bf56dde4bb6b8a69893a76b24e9",
            "_dom_classes": [],
            "description": "",
            "_model_name": "HTMLModel",
            "placeholder": "​",
            "_view_module": "@jupyter-widgets/controls",
            "_model_module_version": "1.5.0",
            "value": " 10/10 [33:47&lt;00:00, 202.73s/it]",
            "_view_count": null,
            "_view_module_version": "1.5.0",
            "description_tooltip": null,
            "_model_module": "@jupyter-widgets/controls",
            "layout": "IPY_MODEL_473778356d0947b184d06945fa35b903"
          }
        },
        "5c9fcb4219f64b5ebddd862425658594": {
          "model_module": "@jupyter-widgets/controls",
          "model_name": "ProgressStyleModel",
          "state": {
            "_view_name": "StyleView",
            "_model_name": "ProgressStyleModel",
            "description_width": "initial",
            "_view_module": "@jupyter-widgets/base",
            "_model_module_version": "1.5.0",
            "_view_count": null,
            "_view_module_version": "1.2.0",
            "bar_color": null,
            "_model_module": "@jupyter-widgets/controls"
          }
        },
        "7ffe494d420946a2a5e18516e1f1d1b6": {
          "model_module": "@jupyter-widgets/base",
          "model_name": "LayoutModel",
          "state": {
            "_view_name": "LayoutView",
            "grid_template_rows": null,
            "right": null,
            "justify_content": null,
            "_view_module": "@jupyter-widgets/base",
            "overflow": null,
            "_model_module_version": "1.2.0",
            "_view_count": null,
            "flex_flow": null,
            "width": null,
            "min_width": null,
            "border": null,
            "align_items": null,
            "bottom": null,
            "_model_module": "@jupyter-widgets/base",
            "top": null,
            "grid_column": null,
            "overflow_y": null,
            "overflow_x": null,
            "grid_auto_flow": null,
            "grid_area": null,
            "grid_template_columns": null,
            "flex": null,
            "_model_name": "LayoutModel",
            "justify_items": null,
            "grid_row": null,
            "max_height": null,
            "align_content": null,
            "visibility": null,
            "align_self": null,
            "height": null,
            "min_height": null,
            "padding": null,
            "grid_auto_rows": null,
            "grid_gap": null,
            "max_width": null,
            "order": null,
            "_view_module_version": "1.2.0",
            "grid_template_areas": null,
            "object_position": null,
            "object_fit": null,
            "grid_auto_columns": null,
            "margin": null,
            "display": null,
            "left": null
          }
        },
        "51135bf56dde4bb6b8a69893a76b24e9": {
          "model_module": "@jupyter-widgets/controls",
          "model_name": "DescriptionStyleModel",
          "state": {
            "_view_name": "StyleView",
            "_model_name": "DescriptionStyleModel",
            "description_width": "",
            "_view_module": "@jupyter-widgets/base",
            "_model_module_version": "1.5.0",
            "_view_count": null,
            "_view_module_version": "1.2.0",
            "_model_module": "@jupyter-widgets/controls"
          }
        },
        "473778356d0947b184d06945fa35b903": {
          "model_module": "@jupyter-widgets/base",
          "model_name": "LayoutModel",
          "state": {
            "_view_name": "LayoutView",
            "grid_template_rows": null,
            "right": null,
            "justify_content": null,
            "_view_module": "@jupyter-widgets/base",
            "overflow": null,
            "_model_module_version": "1.2.0",
            "_view_count": null,
            "flex_flow": null,
            "width": null,
            "min_width": null,
            "border": null,
            "align_items": null,
            "bottom": null,
            "_model_module": "@jupyter-widgets/base",
            "top": null,
            "grid_column": null,
            "overflow_y": null,
            "overflow_x": null,
            "grid_auto_flow": null,
            "grid_area": null,
            "grid_template_columns": null,
            "flex": null,
            "_model_name": "LayoutModel",
            "justify_items": null,
            "grid_row": null,
            "max_height": null,
            "align_content": null,
            "visibility": null,
            "align_self": null,
            "height": null,
            "min_height": null,
            "padding": null,
            "grid_auto_rows": null,
            "grid_gap": null,
            "max_width": null,
            "order": null,
            "_view_module_version": "1.2.0",
            "grid_template_areas": null,
            "object_position": null,
            "object_fit": null,
            "grid_auto_columns": null,
            "margin": null,
            "display": null,
            "left": null
          }
        },
        "9a7932506baa46219151c87106af82ff": {
          "model_module": "@jupyter-widgets/controls",
          "model_name": "HBoxModel",
          "state": {
            "_view_name": "HBoxView",
            "_dom_classes": [],
            "_model_name": "HBoxModel",
            "_view_module": "@jupyter-widgets/controls",
            "_model_module_version": "1.5.0",
            "_view_count": null,
            "_view_module_version": "1.5.0",
            "box_style": "",
            "layout": "IPY_MODEL_df0ede7ce0e2407f9f1efbfe9f7e8d1c",
            "_model_module": "@jupyter-widgets/controls",
            "children": [
              "IPY_MODEL_b03f492232fd4149bb5e8109f3054d29",
              "IPY_MODEL_b96aa09814154d149f90ba30f056d23b"
            ]
          }
        },
        "df0ede7ce0e2407f9f1efbfe9f7e8d1c": {
          "model_module": "@jupyter-widgets/base",
          "model_name": "LayoutModel",
          "state": {
            "_view_name": "LayoutView",
            "grid_template_rows": null,
            "right": null,
            "justify_content": null,
            "_view_module": "@jupyter-widgets/base",
            "overflow": null,
            "_model_module_version": "1.2.0",
            "_view_count": null,
            "flex_flow": null,
            "width": null,
            "min_width": null,
            "border": null,
            "align_items": null,
            "bottom": null,
            "_model_module": "@jupyter-widgets/base",
            "top": null,
            "grid_column": null,
            "overflow_y": null,
            "overflow_x": null,
            "grid_auto_flow": null,
            "grid_area": null,
            "grid_template_columns": null,
            "flex": null,
            "_model_name": "LayoutModel",
            "justify_items": null,
            "grid_row": null,
            "max_height": null,
            "align_content": null,
            "visibility": null,
            "align_self": null,
            "height": null,
            "min_height": null,
            "padding": null,
            "grid_auto_rows": null,
            "grid_gap": null,
            "max_width": null,
            "order": null,
            "_view_module_version": "1.2.0",
            "grid_template_areas": null,
            "object_position": null,
            "object_fit": null,
            "grid_auto_columns": null,
            "margin": null,
            "display": null,
            "left": null
          }
        },
        "b03f492232fd4149bb5e8109f3054d29": {
          "model_module": "@jupyter-widgets/controls",
          "model_name": "FloatProgressModel",
          "state": {
            "_view_name": "ProgressView",
            "style": "IPY_MODEL_61a1e413c0ae44b59e9e40a1c8683ccb",
            "_dom_classes": [],
            "description": "100%",
            "_model_name": "FloatProgressModel",
            "bar_style": "success",
            "max": 391,
            "_view_module": "@jupyter-widgets/controls",
            "_model_module_version": "1.5.0",
            "value": 391,
            "_view_count": null,
            "_view_module_version": "1.5.0",
            "orientation": "horizontal",
            "min": 0,
            "description_tooltip": null,
            "_model_module": "@jupyter-widgets/controls",
            "layout": "IPY_MODEL_1a00428f8ef549619ccade0227b01348"
          }
        },
        "b96aa09814154d149f90ba30f056d23b": {
          "model_module": "@jupyter-widgets/controls",
          "model_name": "HTMLModel",
          "state": {
            "_view_name": "HTMLView",
            "style": "IPY_MODEL_404ba16b923641258195c533eb384c22",
            "_dom_classes": [],
            "description": "",
            "_model_name": "HTMLModel",
            "placeholder": "​",
            "_view_module": "@jupyter-widgets/controls",
            "_model_module_version": "1.5.0",
            "value": " 391/391 [33:47&lt;00:00,  5.18s/it]",
            "_view_count": null,
            "_view_module_version": "1.5.0",
            "description_tooltip": null,
            "_model_module": "@jupyter-widgets/controls",
            "layout": "IPY_MODEL_78b857bb92a648f49868823b3a26a0fb"
          }
        },
        "61a1e413c0ae44b59e9e40a1c8683ccb": {
          "model_module": "@jupyter-widgets/controls",
          "model_name": "ProgressStyleModel",
          "state": {
            "_view_name": "StyleView",
            "_model_name": "ProgressStyleModel",
            "description_width": "initial",
            "_view_module": "@jupyter-widgets/base",
            "_model_module_version": "1.5.0",
            "_view_count": null,
            "_view_module_version": "1.2.0",
            "bar_color": null,
            "_model_module": "@jupyter-widgets/controls"
          }
        },
        "1a00428f8ef549619ccade0227b01348": {
          "model_module": "@jupyter-widgets/base",
          "model_name": "LayoutModel",
          "state": {
            "_view_name": "LayoutView",
            "grid_template_rows": null,
            "right": null,
            "justify_content": null,
            "_view_module": "@jupyter-widgets/base",
            "overflow": null,
            "_model_module_version": "1.2.0",
            "_view_count": null,
            "flex_flow": null,
            "width": null,
            "min_width": null,
            "border": null,
            "align_items": null,
            "bottom": null,
            "_model_module": "@jupyter-widgets/base",
            "top": null,
            "grid_column": null,
            "overflow_y": null,
            "overflow_x": null,
            "grid_auto_flow": null,
            "grid_area": null,
            "grid_template_columns": null,
            "flex": null,
            "_model_name": "LayoutModel",
            "justify_items": null,
            "grid_row": null,
            "max_height": null,
            "align_content": null,
            "visibility": null,
            "align_self": null,
            "height": null,
            "min_height": null,
            "padding": null,
            "grid_auto_rows": null,
            "grid_gap": null,
            "max_width": null,
            "order": null,
            "_view_module_version": "1.2.0",
            "grid_template_areas": null,
            "object_position": null,
            "object_fit": null,
            "grid_auto_columns": null,
            "margin": null,
            "display": null,
            "left": null
          }
        },
        "404ba16b923641258195c533eb384c22": {
          "model_module": "@jupyter-widgets/controls",
          "model_name": "DescriptionStyleModel",
          "state": {
            "_view_name": "StyleView",
            "_model_name": "DescriptionStyleModel",
            "description_width": "",
            "_view_module": "@jupyter-widgets/base",
            "_model_module_version": "1.5.0",
            "_view_count": null,
            "_view_module_version": "1.2.0",
            "_model_module": "@jupyter-widgets/controls"
          }
        },
        "78b857bb92a648f49868823b3a26a0fb": {
          "model_module": "@jupyter-widgets/base",
          "model_name": "LayoutModel",
          "state": {
            "_view_name": "LayoutView",
            "grid_template_rows": null,
            "right": null,
            "justify_content": null,
            "_view_module": "@jupyter-widgets/base",
            "overflow": null,
            "_model_module_version": "1.2.0",
            "_view_count": null,
            "flex_flow": null,
            "width": null,
            "min_width": null,
            "border": null,
            "align_items": null,
            "bottom": null,
            "_model_module": "@jupyter-widgets/base",
            "top": null,
            "grid_column": null,
            "overflow_y": null,
            "overflow_x": null,
            "grid_auto_flow": null,
            "grid_area": null,
            "grid_template_columns": null,
            "flex": null,
            "_model_name": "LayoutModel",
            "justify_items": null,
            "grid_row": null,
            "max_height": null,
            "align_content": null,
            "visibility": null,
            "align_self": null,
            "height": null,
            "min_height": null,
            "padding": null,
            "grid_auto_rows": null,
            "grid_gap": null,
            "max_width": null,
            "order": null,
            "_view_module_version": "1.2.0",
            "grid_template_areas": null,
            "object_position": null,
            "object_fit": null,
            "grid_auto_columns": null,
            "margin": null,
            "display": null,
            "left": null
          }
        },
        "d31a9cde454a49edb946c62e6a7824bd": {
          "model_module": "@jupyter-widgets/controls",
          "model_name": "HBoxModel",
          "state": {
            "_view_name": "HBoxView",
            "_dom_classes": [],
            "_model_name": "HBoxModel",
            "_view_module": "@jupyter-widgets/controls",
            "_model_module_version": "1.5.0",
            "_view_count": null,
            "_view_module_version": "1.5.0",
            "box_style": "",
            "layout": "IPY_MODEL_94d18f6ac8f1408e8cfc3d26653ae372",
            "_model_module": "@jupyter-widgets/controls",
            "children": [
              "IPY_MODEL_463cce44855142fd892caaa3ab72f4cd",
              "IPY_MODEL_3f2c544061354476af2dfe010ee6d286"
            ]
          }
        },
        "94d18f6ac8f1408e8cfc3d26653ae372": {
          "model_module": "@jupyter-widgets/base",
          "model_name": "LayoutModel",
          "state": {
            "_view_name": "LayoutView",
            "grid_template_rows": null,
            "right": null,
            "justify_content": null,
            "_view_module": "@jupyter-widgets/base",
            "overflow": null,
            "_model_module_version": "1.2.0",
            "_view_count": null,
            "flex_flow": null,
            "width": null,
            "min_width": null,
            "border": null,
            "align_items": null,
            "bottom": null,
            "_model_module": "@jupyter-widgets/base",
            "top": null,
            "grid_column": null,
            "overflow_y": null,
            "overflow_x": null,
            "grid_auto_flow": null,
            "grid_area": null,
            "grid_template_columns": null,
            "flex": null,
            "_model_name": "LayoutModel",
            "justify_items": null,
            "grid_row": null,
            "max_height": null,
            "align_content": null,
            "visibility": null,
            "align_self": null,
            "height": null,
            "min_height": null,
            "padding": null,
            "grid_auto_rows": null,
            "grid_gap": null,
            "max_width": null,
            "order": null,
            "_view_module_version": "1.2.0",
            "grid_template_areas": null,
            "object_position": null,
            "object_fit": null,
            "grid_auto_columns": null,
            "margin": null,
            "display": null,
            "left": null
          }
        },
        "463cce44855142fd892caaa3ab72f4cd": {
          "model_module": "@jupyter-widgets/controls",
          "model_name": "FloatProgressModel",
          "state": {
            "_view_name": "ProgressView",
            "style": "IPY_MODEL_651e9bcb1ff44f51908bfc58dd9d540a",
            "_dom_classes": [],
            "description": "100%",
            "_model_name": "FloatProgressModel",
            "bar_style": "success",
            "max": 391,
            "_view_module": "@jupyter-widgets/controls",
            "_model_module_version": "1.5.0",
            "value": 391,
            "_view_count": null,
            "_view_module_version": "1.5.0",
            "orientation": "horizontal",
            "min": 0,
            "description_tooltip": null,
            "_model_module": "@jupyter-widgets/controls",
            "layout": "IPY_MODEL_2666183b2c4849d188396744f070f2b8"
          }
        },
        "3f2c544061354476af2dfe010ee6d286": {
          "model_module": "@jupyter-widgets/controls",
          "model_name": "HTMLModel",
          "state": {
            "_view_name": "HTMLView",
            "style": "IPY_MODEL_556928c9dcd749978806a3b6618a39e4",
            "_dom_classes": [],
            "description": "",
            "_model_name": "HTMLModel",
            "placeholder": "​",
            "_view_module": "@jupyter-widgets/controls",
            "_model_module_version": "1.5.0",
            "value": " 391/391 [33:27&lt;00:00,  5.13s/it]",
            "_view_count": null,
            "_view_module_version": "1.5.0",
            "description_tooltip": null,
            "_model_module": "@jupyter-widgets/controls",
            "layout": "IPY_MODEL_c4fe1f210def42a2a93cbd08dec183e7"
          }
        },
        "651e9bcb1ff44f51908bfc58dd9d540a": {
          "model_module": "@jupyter-widgets/controls",
          "model_name": "ProgressStyleModel",
          "state": {
            "_view_name": "StyleView",
            "_model_name": "ProgressStyleModel",
            "description_width": "initial",
            "_view_module": "@jupyter-widgets/base",
            "_model_module_version": "1.5.0",
            "_view_count": null,
            "_view_module_version": "1.2.0",
            "bar_color": null,
            "_model_module": "@jupyter-widgets/controls"
          }
        },
        "2666183b2c4849d188396744f070f2b8": {
          "model_module": "@jupyter-widgets/base",
          "model_name": "LayoutModel",
          "state": {
            "_view_name": "LayoutView",
            "grid_template_rows": null,
            "right": null,
            "justify_content": null,
            "_view_module": "@jupyter-widgets/base",
            "overflow": null,
            "_model_module_version": "1.2.0",
            "_view_count": null,
            "flex_flow": null,
            "width": null,
            "min_width": null,
            "border": null,
            "align_items": null,
            "bottom": null,
            "_model_module": "@jupyter-widgets/base",
            "top": null,
            "grid_column": null,
            "overflow_y": null,
            "overflow_x": null,
            "grid_auto_flow": null,
            "grid_area": null,
            "grid_template_columns": null,
            "flex": null,
            "_model_name": "LayoutModel",
            "justify_items": null,
            "grid_row": null,
            "max_height": null,
            "align_content": null,
            "visibility": null,
            "align_self": null,
            "height": null,
            "min_height": null,
            "padding": null,
            "grid_auto_rows": null,
            "grid_gap": null,
            "max_width": null,
            "order": null,
            "_view_module_version": "1.2.0",
            "grid_template_areas": null,
            "object_position": null,
            "object_fit": null,
            "grid_auto_columns": null,
            "margin": null,
            "display": null,
            "left": null
          }
        },
        "556928c9dcd749978806a3b6618a39e4": {
          "model_module": "@jupyter-widgets/controls",
          "model_name": "DescriptionStyleModel",
          "state": {
            "_view_name": "StyleView",
            "_model_name": "DescriptionStyleModel",
            "description_width": "",
            "_view_module": "@jupyter-widgets/base",
            "_model_module_version": "1.5.0",
            "_view_count": null,
            "_view_module_version": "1.2.0",
            "_model_module": "@jupyter-widgets/controls"
          }
        },
        "c4fe1f210def42a2a93cbd08dec183e7": {
          "model_module": "@jupyter-widgets/base",
          "model_name": "LayoutModel",
          "state": {
            "_view_name": "LayoutView",
            "grid_template_rows": null,
            "right": null,
            "justify_content": null,
            "_view_module": "@jupyter-widgets/base",
            "overflow": null,
            "_model_module_version": "1.2.0",
            "_view_count": null,
            "flex_flow": null,
            "width": null,
            "min_width": null,
            "border": null,
            "align_items": null,
            "bottom": null,
            "_model_module": "@jupyter-widgets/base",
            "top": null,
            "grid_column": null,
            "overflow_y": null,
            "overflow_x": null,
            "grid_auto_flow": null,
            "grid_area": null,
            "grid_template_columns": null,
            "flex": null,
            "_model_name": "LayoutModel",
            "justify_items": null,
            "grid_row": null,
            "max_height": null,
            "align_content": null,
            "visibility": null,
            "align_self": null,
            "height": null,
            "min_height": null,
            "padding": null,
            "grid_auto_rows": null,
            "grid_gap": null,
            "max_width": null,
            "order": null,
            "_view_module_version": "1.2.0",
            "grid_template_areas": null,
            "object_position": null,
            "object_fit": null,
            "grid_auto_columns": null,
            "margin": null,
            "display": null,
            "left": null
          }
        },
        "db45f83364434702aa6f2a47bc04bc73": {
          "model_module": "@jupyter-widgets/controls",
          "model_name": "HBoxModel",
          "state": {
            "_view_name": "HBoxView",
            "_dom_classes": [],
            "_model_name": "HBoxModel",
            "_view_module": "@jupyter-widgets/controls",
            "_model_module_version": "1.5.0",
            "_view_count": null,
            "_view_module_version": "1.5.0",
            "box_style": "",
            "layout": "IPY_MODEL_d7e8bfc81252427da30567aff82473aa",
            "_model_module": "@jupyter-widgets/controls",
            "children": [
              "IPY_MODEL_25162f0dc57348598eba7b52d54e1f1c",
              "IPY_MODEL_1953d5984bce4135ab90ba289888d452"
            ]
          }
        },
        "d7e8bfc81252427da30567aff82473aa": {
          "model_module": "@jupyter-widgets/base",
          "model_name": "LayoutModel",
          "state": {
            "_view_name": "LayoutView",
            "grid_template_rows": null,
            "right": null,
            "justify_content": null,
            "_view_module": "@jupyter-widgets/base",
            "overflow": null,
            "_model_module_version": "1.2.0",
            "_view_count": null,
            "flex_flow": null,
            "width": null,
            "min_width": null,
            "border": null,
            "align_items": null,
            "bottom": null,
            "_model_module": "@jupyter-widgets/base",
            "top": null,
            "grid_column": null,
            "overflow_y": null,
            "overflow_x": null,
            "grid_auto_flow": null,
            "grid_area": null,
            "grid_template_columns": null,
            "flex": null,
            "_model_name": "LayoutModel",
            "justify_items": null,
            "grid_row": null,
            "max_height": null,
            "align_content": null,
            "visibility": null,
            "align_self": null,
            "height": null,
            "min_height": null,
            "padding": null,
            "grid_auto_rows": null,
            "grid_gap": null,
            "max_width": null,
            "order": null,
            "_view_module_version": "1.2.0",
            "grid_template_areas": null,
            "object_position": null,
            "object_fit": null,
            "grid_auto_columns": null,
            "margin": null,
            "display": null,
            "left": null
          }
        },
        "25162f0dc57348598eba7b52d54e1f1c": {
          "model_module": "@jupyter-widgets/controls",
          "model_name": "FloatProgressModel",
          "state": {
            "_view_name": "ProgressView",
            "style": "IPY_MODEL_be08b2452da746e2bfe5498c8c36e9a0",
            "_dom_classes": [],
            "description": "100%",
            "_model_name": "FloatProgressModel",
            "bar_style": "success",
            "max": 391,
            "_view_module": "@jupyter-widgets/controls",
            "_model_module_version": "1.5.0",
            "value": 391,
            "_view_count": null,
            "_view_module_version": "1.5.0",
            "orientation": "horizontal",
            "min": 0,
            "description_tooltip": null,
            "_model_module": "@jupyter-widgets/controls",
            "layout": "IPY_MODEL_6b5c6fdc14234b4cb4520a8629c409c1"
          }
        },
        "1953d5984bce4135ab90ba289888d452": {
          "model_module": "@jupyter-widgets/controls",
          "model_name": "HTMLModel",
          "state": {
            "_view_name": "HTMLView",
            "style": "IPY_MODEL_adcb8cf46c5b4f76aee07d79dc431c1d",
            "_dom_classes": [],
            "description": "",
            "_model_name": "HTMLModel",
            "placeholder": "​",
            "_view_module": "@jupyter-widgets/controls",
            "_model_module_version": "1.5.0",
            "value": " 391/391 [33:07&lt;00:00,  5.08s/it]",
            "_view_count": null,
            "_view_module_version": "1.5.0",
            "description_tooltip": null,
            "_model_module": "@jupyter-widgets/controls",
            "layout": "IPY_MODEL_33342b2c7ecd408d96e41113826bae4a"
          }
        },
        "be08b2452da746e2bfe5498c8c36e9a0": {
          "model_module": "@jupyter-widgets/controls",
          "model_name": "ProgressStyleModel",
          "state": {
            "_view_name": "StyleView",
            "_model_name": "ProgressStyleModel",
            "description_width": "initial",
            "_view_module": "@jupyter-widgets/base",
            "_model_module_version": "1.5.0",
            "_view_count": null,
            "_view_module_version": "1.2.0",
            "bar_color": null,
            "_model_module": "@jupyter-widgets/controls"
          }
        },
        "6b5c6fdc14234b4cb4520a8629c409c1": {
          "model_module": "@jupyter-widgets/base",
          "model_name": "LayoutModel",
          "state": {
            "_view_name": "LayoutView",
            "grid_template_rows": null,
            "right": null,
            "justify_content": null,
            "_view_module": "@jupyter-widgets/base",
            "overflow": null,
            "_model_module_version": "1.2.0",
            "_view_count": null,
            "flex_flow": null,
            "width": null,
            "min_width": null,
            "border": null,
            "align_items": null,
            "bottom": null,
            "_model_module": "@jupyter-widgets/base",
            "top": null,
            "grid_column": null,
            "overflow_y": null,
            "overflow_x": null,
            "grid_auto_flow": null,
            "grid_area": null,
            "grid_template_columns": null,
            "flex": null,
            "_model_name": "LayoutModel",
            "justify_items": null,
            "grid_row": null,
            "max_height": null,
            "align_content": null,
            "visibility": null,
            "align_self": null,
            "height": null,
            "min_height": null,
            "padding": null,
            "grid_auto_rows": null,
            "grid_gap": null,
            "max_width": null,
            "order": null,
            "_view_module_version": "1.2.0",
            "grid_template_areas": null,
            "object_position": null,
            "object_fit": null,
            "grid_auto_columns": null,
            "margin": null,
            "display": null,
            "left": null
          }
        },
        "adcb8cf46c5b4f76aee07d79dc431c1d": {
          "model_module": "@jupyter-widgets/controls",
          "model_name": "DescriptionStyleModel",
          "state": {
            "_view_name": "StyleView",
            "_model_name": "DescriptionStyleModel",
            "description_width": "",
            "_view_module": "@jupyter-widgets/base",
            "_model_module_version": "1.5.0",
            "_view_count": null,
            "_view_module_version": "1.2.0",
            "_model_module": "@jupyter-widgets/controls"
          }
        },
        "33342b2c7ecd408d96e41113826bae4a": {
          "model_module": "@jupyter-widgets/base",
          "model_name": "LayoutModel",
          "state": {
            "_view_name": "LayoutView",
            "grid_template_rows": null,
            "right": null,
            "justify_content": null,
            "_view_module": "@jupyter-widgets/base",
            "overflow": null,
            "_model_module_version": "1.2.0",
            "_view_count": null,
            "flex_flow": null,
            "width": null,
            "min_width": null,
            "border": null,
            "align_items": null,
            "bottom": null,
            "_model_module": "@jupyter-widgets/base",
            "top": null,
            "grid_column": null,
            "overflow_y": null,
            "overflow_x": null,
            "grid_auto_flow": null,
            "grid_area": null,
            "grid_template_columns": null,
            "flex": null,
            "_model_name": "LayoutModel",
            "justify_items": null,
            "grid_row": null,
            "max_height": null,
            "align_content": null,
            "visibility": null,
            "align_self": null,
            "height": null,
            "min_height": null,
            "padding": null,
            "grid_auto_rows": null,
            "grid_gap": null,
            "max_width": null,
            "order": null,
            "_view_module_version": "1.2.0",
            "grid_template_areas": null,
            "object_position": null,
            "object_fit": null,
            "grid_auto_columns": null,
            "margin": null,
            "display": null,
            "left": null
          }
        },
        "179fc9431f294572b9d6107098fd9020": {
          "model_module": "@jupyter-widgets/controls",
          "model_name": "HBoxModel",
          "state": {
            "_view_name": "HBoxView",
            "_dom_classes": [],
            "_model_name": "HBoxModel",
            "_view_module": "@jupyter-widgets/controls",
            "_model_module_version": "1.5.0",
            "_view_count": null,
            "_view_module_version": "1.5.0",
            "box_style": "",
            "layout": "IPY_MODEL_30e23bef65eb4a0fa6d9c8adadfbbc13",
            "_model_module": "@jupyter-widgets/controls",
            "children": [
              "IPY_MODEL_dc33023b9d9a49dd9f1de1206f2b934a",
              "IPY_MODEL_42971affbf944b4bb4b728c64f1e5369"
            ]
          }
        },
        "30e23bef65eb4a0fa6d9c8adadfbbc13": {
          "model_module": "@jupyter-widgets/base",
          "model_name": "LayoutModel",
          "state": {
            "_view_name": "LayoutView",
            "grid_template_rows": null,
            "right": null,
            "justify_content": null,
            "_view_module": "@jupyter-widgets/base",
            "overflow": null,
            "_model_module_version": "1.2.0",
            "_view_count": null,
            "flex_flow": null,
            "width": null,
            "min_width": null,
            "border": null,
            "align_items": null,
            "bottom": null,
            "_model_module": "@jupyter-widgets/base",
            "top": null,
            "grid_column": null,
            "overflow_y": null,
            "overflow_x": null,
            "grid_auto_flow": null,
            "grid_area": null,
            "grid_template_columns": null,
            "flex": null,
            "_model_name": "LayoutModel",
            "justify_items": null,
            "grid_row": null,
            "max_height": null,
            "align_content": null,
            "visibility": null,
            "align_self": null,
            "height": null,
            "min_height": null,
            "padding": null,
            "grid_auto_rows": null,
            "grid_gap": null,
            "max_width": null,
            "order": null,
            "_view_module_version": "1.2.0",
            "grid_template_areas": null,
            "object_position": null,
            "object_fit": null,
            "grid_auto_columns": null,
            "margin": null,
            "display": null,
            "left": null
          }
        },
        "dc33023b9d9a49dd9f1de1206f2b934a": {
          "model_module": "@jupyter-widgets/controls",
          "model_name": "FloatProgressModel",
          "state": {
            "_view_name": "ProgressView",
            "style": "IPY_MODEL_44b84fa969b14a66a87d7175bc2fb966",
            "_dom_classes": [],
            "description": "100%",
            "_model_name": "FloatProgressModel",
            "bar_style": "success",
            "max": 391,
            "_view_module": "@jupyter-widgets/controls",
            "_model_module_version": "1.5.0",
            "value": 391,
            "_view_count": null,
            "_view_module_version": "1.5.0",
            "orientation": "horizontal",
            "min": 0,
            "description_tooltip": null,
            "_model_module": "@jupyter-widgets/controls",
            "layout": "IPY_MODEL_6d0452fca51c4fac92f83f1c4b96d078"
          }
        },
        "42971affbf944b4bb4b728c64f1e5369": {
          "model_module": "@jupyter-widgets/controls",
          "model_name": "HTMLModel",
          "state": {
            "_view_name": "HTMLView",
            "style": "IPY_MODEL_e25e8f0041274c239840272abbce0841",
            "_dom_classes": [],
            "description": "",
            "_model_name": "HTMLModel",
            "placeholder": "​",
            "_view_module": "@jupyter-widgets/controls",
            "_model_module_version": "1.5.0",
            "value": " 391/391 [32:46&lt;00:00,  5.03s/it]",
            "_view_count": null,
            "_view_module_version": "1.5.0",
            "description_tooltip": null,
            "_model_module": "@jupyter-widgets/controls",
            "layout": "IPY_MODEL_1836e6a2b4f740d98d6ede5184828679"
          }
        },
        "44b84fa969b14a66a87d7175bc2fb966": {
          "model_module": "@jupyter-widgets/controls",
          "model_name": "ProgressStyleModel",
          "state": {
            "_view_name": "StyleView",
            "_model_name": "ProgressStyleModel",
            "description_width": "initial",
            "_view_module": "@jupyter-widgets/base",
            "_model_module_version": "1.5.0",
            "_view_count": null,
            "_view_module_version": "1.2.0",
            "bar_color": null,
            "_model_module": "@jupyter-widgets/controls"
          }
        },
        "6d0452fca51c4fac92f83f1c4b96d078": {
          "model_module": "@jupyter-widgets/base",
          "model_name": "LayoutModel",
          "state": {
            "_view_name": "LayoutView",
            "grid_template_rows": null,
            "right": null,
            "justify_content": null,
            "_view_module": "@jupyter-widgets/base",
            "overflow": null,
            "_model_module_version": "1.2.0",
            "_view_count": null,
            "flex_flow": null,
            "width": null,
            "min_width": null,
            "border": null,
            "align_items": null,
            "bottom": null,
            "_model_module": "@jupyter-widgets/base",
            "top": null,
            "grid_column": null,
            "overflow_y": null,
            "overflow_x": null,
            "grid_auto_flow": null,
            "grid_area": null,
            "grid_template_columns": null,
            "flex": null,
            "_model_name": "LayoutModel",
            "justify_items": null,
            "grid_row": null,
            "max_height": null,
            "align_content": null,
            "visibility": null,
            "align_self": null,
            "height": null,
            "min_height": null,
            "padding": null,
            "grid_auto_rows": null,
            "grid_gap": null,
            "max_width": null,
            "order": null,
            "_view_module_version": "1.2.0",
            "grid_template_areas": null,
            "object_position": null,
            "object_fit": null,
            "grid_auto_columns": null,
            "margin": null,
            "display": null,
            "left": null
          }
        },
        "e25e8f0041274c239840272abbce0841": {
          "model_module": "@jupyter-widgets/controls",
          "model_name": "DescriptionStyleModel",
          "state": {
            "_view_name": "StyleView",
            "_model_name": "DescriptionStyleModel",
            "description_width": "",
            "_view_module": "@jupyter-widgets/base",
            "_model_module_version": "1.5.0",
            "_view_count": null,
            "_view_module_version": "1.2.0",
            "_model_module": "@jupyter-widgets/controls"
          }
        },
        "1836e6a2b4f740d98d6ede5184828679": {
          "model_module": "@jupyter-widgets/base",
          "model_name": "LayoutModel",
          "state": {
            "_view_name": "LayoutView",
            "grid_template_rows": null,
            "right": null,
            "justify_content": null,
            "_view_module": "@jupyter-widgets/base",
            "overflow": null,
            "_model_module_version": "1.2.0",
            "_view_count": null,
            "flex_flow": null,
            "width": null,
            "min_width": null,
            "border": null,
            "align_items": null,
            "bottom": null,
            "_model_module": "@jupyter-widgets/base",
            "top": null,
            "grid_column": null,
            "overflow_y": null,
            "overflow_x": null,
            "grid_auto_flow": null,
            "grid_area": null,
            "grid_template_columns": null,
            "flex": null,
            "_model_name": "LayoutModel",
            "justify_items": null,
            "grid_row": null,
            "max_height": null,
            "align_content": null,
            "visibility": null,
            "align_self": null,
            "height": null,
            "min_height": null,
            "padding": null,
            "grid_auto_rows": null,
            "grid_gap": null,
            "max_width": null,
            "order": null,
            "_view_module_version": "1.2.0",
            "grid_template_areas": null,
            "object_position": null,
            "object_fit": null,
            "grid_auto_columns": null,
            "margin": null,
            "display": null,
            "left": null
          }
        },
        "3f76cf85cc194a86aa931dcdac312382": {
          "model_module": "@jupyter-widgets/controls",
          "model_name": "HBoxModel",
          "state": {
            "_view_name": "HBoxView",
            "_dom_classes": [],
            "_model_name": "HBoxModel",
            "_view_module": "@jupyter-widgets/controls",
            "_model_module_version": "1.5.0",
            "_view_count": null,
            "_view_module_version": "1.5.0",
            "box_style": "",
            "layout": "IPY_MODEL_0d9fb4906a934ada9c38ebfa4cb92c33",
            "_model_module": "@jupyter-widgets/controls",
            "children": [
              "IPY_MODEL_0c6dd89762c04edbbe0374443296fa0a",
              "IPY_MODEL_5f002dc087854ff08d65d8e9db580648"
            ]
          }
        },
        "0d9fb4906a934ada9c38ebfa4cb92c33": {
          "model_module": "@jupyter-widgets/base",
          "model_name": "LayoutModel",
          "state": {
            "_view_name": "LayoutView",
            "grid_template_rows": null,
            "right": null,
            "justify_content": null,
            "_view_module": "@jupyter-widgets/base",
            "overflow": null,
            "_model_module_version": "1.2.0",
            "_view_count": null,
            "flex_flow": null,
            "width": null,
            "min_width": null,
            "border": null,
            "align_items": null,
            "bottom": null,
            "_model_module": "@jupyter-widgets/base",
            "top": null,
            "grid_column": null,
            "overflow_y": null,
            "overflow_x": null,
            "grid_auto_flow": null,
            "grid_area": null,
            "grid_template_columns": null,
            "flex": null,
            "_model_name": "LayoutModel",
            "justify_items": null,
            "grid_row": null,
            "max_height": null,
            "align_content": null,
            "visibility": null,
            "align_self": null,
            "height": null,
            "min_height": null,
            "padding": null,
            "grid_auto_rows": null,
            "grid_gap": null,
            "max_width": null,
            "order": null,
            "_view_module_version": "1.2.0",
            "grid_template_areas": null,
            "object_position": null,
            "object_fit": null,
            "grid_auto_columns": null,
            "margin": null,
            "display": null,
            "left": null
          }
        },
        "0c6dd89762c04edbbe0374443296fa0a": {
          "model_module": "@jupyter-widgets/controls",
          "model_name": "FloatProgressModel",
          "state": {
            "_view_name": "ProgressView",
            "style": "IPY_MODEL_1b5a1e4e1b884115bc0a76a17626a44e",
            "_dom_classes": [],
            "description": "100%",
            "_model_name": "FloatProgressModel",
            "bar_style": "success",
            "max": 391,
            "_view_module": "@jupyter-widgets/controls",
            "_model_module_version": "1.5.0",
            "value": 391,
            "_view_count": null,
            "_view_module_version": "1.5.0",
            "orientation": "horizontal",
            "min": 0,
            "description_tooltip": null,
            "_model_module": "@jupyter-widgets/controls",
            "layout": "IPY_MODEL_d654d258756745e7b1d8fda9f60f5849"
          }
        },
        "5f002dc087854ff08d65d8e9db580648": {
          "model_module": "@jupyter-widgets/controls",
          "model_name": "HTMLModel",
          "state": {
            "_view_name": "HTMLView",
            "style": "IPY_MODEL_9243b84e11f447359f8e76fa86f4a855",
            "_dom_classes": [],
            "description": "",
            "_model_name": "HTMLModel",
            "placeholder": "​",
            "_view_module": "@jupyter-widgets/controls",
            "_model_module_version": "1.5.0",
            "value": " 391/391 [32:27&lt;00:00,  4.98s/it]",
            "_view_count": null,
            "_view_module_version": "1.5.0",
            "description_tooltip": null,
            "_model_module": "@jupyter-widgets/controls",
            "layout": "IPY_MODEL_f700cf0dc321409eb354f25e66aa0180"
          }
        },
        "1b5a1e4e1b884115bc0a76a17626a44e": {
          "model_module": "@jupyter-widgets/controls",
          "model_name": "ProgressStyleModel",
          "state": {
            "_view_name": "StyleView",
            "_model_name": "ProgressStyleModel",
            "description_width": "initial",
            "_view_module": "@jupyter-widgets/base",
            "_model_module_version": "1.5.0",
            "_view_count": null,
            "_view_module_version": "1.2.0",
            "bar_color": null,
            "_model_module": "@jupyter-widgets/controls"
          }
        },
        "d654d258756745e7b1d8fda9f60f5849": {
          "model_module": "@jupyter-widgets/base",
          "model_name": "LayoutModel",
          "state": {
            "_view_name": "LayoutView",
            "grid_template_rows": null,
            "right": null,
            "justify_content": null,
            "_view_module": "@jupyter-widgets/base",
            "overflow": null,
            "_model_module_version": "1.2.0",
            "_view_count": null,
            "flex_flow": null,
            "width": null,
            "min_width": null,
            "border": null,
            "align_items": null,
            "bottom": null,
            "_model_module": "@jupyter-widgets/base",
            "top": null,
            "grid_column": null,
            "overflow_y": null,
            "overflow_x": null,
            "grid_auto_flow": null,
            "grid_area": null,
            "grid_template_columns": null,
            "flex": null,
            "_model_name": "LayoutModel",
            "justify_items": null,
            "grid_row": null,
            "max_height": null,
            "align_content": null,
            "visibility": null,
            "align_self": null,
            "height": null,
            "min_height": null,
            "padding": null,
            "grid_auto_rows": null,
            "grid_gap": null,
            "max_width": null,
            "order": null,
            "_view_module_version": "1.2.0",
            "grid_template_areas": null,
            "object_position": null,
            "object_fit": null,
            "grid_auto_columns": null,
            "margin": null,
            "display": null,
            "left": null
          }
        },
        "9243b84e11f447359f8e76fa86f4a855": {
          "model_module": "@jupyter-widgets/controls",
          "model_name": "DescriptionStyleModel",
          "state": {
            "_view_name": "StyleView",
            "_model_name": "DescriptionStyleModel",
            "description_width": "",
            "_view_module": "@jupyter-widgets/base",
            "_model_module_version": "1.5.0",
            "_view_count": null,
            "_view_module_version": "1.2.0",
            "_model_module": "@jupyter-widgets/controls"
          }
        },
        "f700cf0dc321409eb354f25e66aa0180": {
          "model_module": "@jupyter-widgets/base",
          "model_name": "LayoutModel",
          "state": {
            "_view_name": "LayoutView",
            "grid_template_rows": null,
            "right": null,
            "justify_content": null,
            "_view_module": "@jupyter-widgets/base",
            "overflow": null,
            "_model_module_version": "1.2.0",
            "_view_count": null,
            "flex_flow": null,
            "width": null,
            "min_width": null,
            "border": null,
            "align_items": null,
            "bottom": null,
            "_model_module": "@jupyter-widgets/base",
            "top": null,
            "grid_column": null,
            "overflow_y": null,
            "overflow_x": null,
            "grid_auto_flow": null,
            "grid_area": null,
            "grid_template_columns": null,
            "flex": null,
            "_model_name": "LayoutModel",
            "justify_items": null,
            "grid_row": null,
            "max_height": null,
            "align_content": null,
            "visibility": null,
            "align_self": null,
            "height": null,
            "min_height": null,
            "padding": null,
            "grid_auto_rows": null,
            "grid_gap": null,
            "max_width": null,
            "order": null,
            "_view_module_version": "1.2.0",
            "grid_template_areas": null,
            "object_position": null,
            "object_fit": null,
            "grid_auto_columns": null,
            "margin": null,
            "display": null,
            "left": null
          }
        },
        "e4f831deaa664bbb9462efebb0db2fcc": {
          "model_module": "@jupyter-widgets/controls",
          "model_name": "HBoxModel",
          "state": {
            "_view_name": "HBoxView",
            "_dom_classes": [],
            "_model_name": "HBoxModel",
            "_view_module": "@jupyter-widgets/controls",
            "_model_module_version": "1.5.0",
            "_view_count": null,
            "_view_module_version": "1.5.0",
            "box_style": "",
            "layout": "IPY_MODEL_e3d4a01d96644330a5eb61452584a66a",
            "_model_module": "@jupyter-widgets/controls",
            "children": [
              "IPY_MODEL_195c1f19025e4723aab6ae8aa2e464ad",
              "IPY_MODEL_11140fc18a90466a947089bf9b82c810"
            ]
          }
        },
        "e3d4a01d96644330a5eb61452584a66a": {
          "model_module": "@jupyter-widgets/base",
          "model_name": "LayoutModel",
          "state": {
            "_view_name": "LayoutView",
            "grid_template_rows": null,
            "right": null,
            "justify_content": null,
            "_view_module": "@jupyter-widgets/base",
            "overflow": null,
            "_model_module_version": "1.2.0",
            "_view_count": null,
            "flex_flow": null,
            "width": null,
            "min_width": null,
            "border": null,
            "align_items": null,
            "bottom": null,
            "_model_module": "@jupyter-widgets/base",
            "top": null,
            "grid_column": null,
            "overflow_y": null,
            "overflow_x": null,
            "grid_auto_flow": null,
            "grid_area": null,
            "grid_template_columns": null,
            "flex": null,
            "_model_name": "LayoutModel",
            "justify_items": null,
            "grid_row": null,
            "max_height": null,
            "align_content": null,
            "visibility": null,
            "align_self": null,
            "height": null,
            "min_height": null,
            "padding": null,
            "grid_auto_rows": null,
            "grid_gap": null,
            "max_width": null,
            "order": null,
            "_view_module_version": "1.2.0",
            "grid_template_areas": null,
            "object_position": null,
            "object_fit": null,
            "grid_auto_columns": null,
            "margin": null,
            "display": null,
            "left": null
          }
        },
        "195c1f19025e4723aab6ae8aa2e464ad": {
          "model_module": "@jupyter-widgets/controls",
          "model_name": "FloatProgressModel",
          "state": {
            "_view_name": "ProgressView",
            "style": "IPY_MODEL_5a901237e7e24db3b086a6c9a7251da9",
            "_dom_classes": [],
            "description": "100%",
            "_model_name": "FloatProgressModel",
            "bar_style": "success",
            "max": 391,
            "_view_module": "@jupyter-widgets/controls",
            "_model_module_version": "1.5.0",
            "value": 391,
            "_view_count": null,
            "_view_module_version": "1.5.0",
            "orientation": "horizontal",
            "min": 0,
            "description_tooltip": null,
            "_model_module": "@jupyter-widgets/controls",
            "layout": "IPY_MODEL_cc6ff126104a4b56938b13e0c489de06"
          }
        },
        "11140fc18a90466a947089bf9b82c810": {
          "model_module": "@jupyter-widgets/controls",
          "model_name": "HTMLModel",
          "state": {
            "_view_name": "HTMLView",
            "style": "IPY_MODEL_9a924d1c908f4e87998ac0a6ff9f1053",
            "_dom_classes": [],
            "description": "",
            "_model_name": "HTMLModel",
            "placeholder": "​",
            "_view_module": "@jupyter-widgets/controls",
            "_model_module_version": "1.5.0",
            "value": " 391/391 [32:06&lt;00:00,  4.93s/it]",
            "_view_count": null,
            "_view_module_version": "1.5.0",
            "description_tooltip": null,
            "_model_module": "@jupyter-widgets/controls",
            "layout": "IPY_MODEL_83454afd34964a3dbdad07596de14bad"
          }
        },
        "5a901237e7e24db3b086a6c9a7251da9": {
          "model_module": "@jupyter-widgets/controls",
          "model_name": "ProgressStyleModel",
          "state": {
            "_view_name": "StyleView",
            "_model_name": "ProgressStyleModel",
            "description_width": "initial",
            "_view_module": "@jupyter-widgets/base",
            "_model_module_version": "1.5.0",
            "_view_count": null,
            "_view_module_version": "1.2.0",
            "bar_color": null,
            "_model_module": "@jupyter-widgets/controls"
          }
        },
        "cc6ff126104a4b56938b13e0c489de06": {
          "model_module": "@jupyter-widgets/base",
          "model_name": "LayoutModel",
          "state": {
            "_view_name": "LayoutView",
            "grid_template_rows": null,
            "right": null,
            "justify_content": null,
            "_view_module": "@jupyter-widgets/base",
            "overflow": null,
            "_model_module_version": "1.2.0",
            "_view_count": null,
            "flex_flow": null,
            "width": null,
            "min_width": null,
            "border": null,
            "align_items": null,
            "bottom": null,
            "_model_module": "@jupyter-widgets/base",
            "top": null,
            "grid_column": null,
            "overflow_y": null,
            "overflow_x": null,
            "grid_auto_flow": null,
            "grid_area": null,
            "grid_template_columns": null,
            "flex": null,
            "_model_name": "LayoutModel",
            "justify_items": null,
            "grid_row": null,
            "max_height": null,
            "align_content": null,
            "visibility": null,
            "align_self": null,
            "height": null,
            "min_height": null,
            "padding": null,
            "grid_auto_rows": null,
            "grid_gap": null,
            "max_width": null,
            "order": null,
            "_view_module_version": "1.2.0",
            "grid_template_areas": null,
            "object_position": null,
            "object_fit": null,
            "grid_auto_columns": null,
            "margin": null,
            "display": null,
            "left": null
          }
        },
        "9a924d1c908f4e87998ac0a6ff9f1053": {
          "model_module": "@jupyter-widgets/controls",
          "model_name": "DescriptionStyleModel",
          "state": {
            "_view_name": "StyleView",
            "_model_name": "DescriptionStyleModel",
            "description_width": "",
            "_view_module": "@jupyter-widgets/base",
            "_model_module_version": "1.5.0",
            "_view_count": null,
            "_view_module_version": "1.2.0",
            "_model_module": "@jupyter-widgets/controls"
          }
        },
        "83454afd34964a3dbdad07596de14bad": {
          "model_module": "@jupyter-widgets/base",
          "model_name": "LayoutModel",
          "state": {
            "_view_name": "LayoutView",
            "grid_template_rows": null,
            "right": null,
            "justify_content": null,
            "_view_module": "@jupyter-widgets/base",
            "overflow": null,
            "_model_module_version": "1.2.0",
            "_view_count": null,
            "flex_flow": null,
            "width": null,
            "min_width": null,
            "border": null,
            "align_items": null,
            "bottom": null,
            "_model_module": "@jupyter-widgets/base",
            "top": null,
            "grid_column": null,
            "overflow_y": null,
            "overflow_x": null,
            "grid_auto_flow": null,
            "grid_area": null,
            "grid_template_columns": null,
            "flex": null,
            "_model_name": "LayoutModel",
            "justify_items": null,
            "grid_row": null,
            "max_height": null,
            "align_content": null,
            "visibility": null,
            "align_self": null,
            "height": null,
            "min_height": null,
            "padding": null,
            "grid_auto_rows": null,
            "grid_gap": null,
            "max_width": null,
            "order": null,
            "_view_module_version": "1.2.0",
            "grid_template_areas": null,
            "object_position": null,
            "object_fit": null,
            "grid_auto_columns": null,
            "margin": null,
            "display": null,
            "left": null
          }
        },
        "30d0fec9788d4beb8e8ca7c95f99608f": {
          "model_module": "@jupyter-widgets/controls",
          "model_name": "HBoxModel",
          "state": {
            "_view_name": "HBoxView",
            "_dom_classes": [],
            "_model_name": "HBoxModel",
            "_view_module": "@jupyter-widgets/controls",
            "_model_module_version": "1.5.0",
            "_view_count": null,
            "_view_module_version": "1.5.0",
            "box_style": "",
            "layout": "IPY_MODEL_7c2ecf6deae84c099b5a7776dcc40d8b",
            "_model_module": "@jupyter-widgets/controls",
            "children": [
              "IPY_MODEL_a1240c5c6c5747969409eef7fa95d85f",
              "IPY_MODEL_6d97ee1fad8b498ebab899cc5a86aecd"
            ]
          }
        },
        "7c2ecf6deae84c099b5a7776dcc40d8b": {
          "model_module": "@jupyter-widgets/base",
          "model_name": "LayoutModel",
          "state": {
            "_view_name": "LayoutView",
            "grid_template_rows": null,
            "right": null,
            "justify_content": null,
            "_view_module": "@jupyter-widgets/base",
            "overflow": null,
            "_model_module_version": "1.2.0",
            "_view_count": null,
            "flex_flow": null,
            "width": null,
            "min_width": null,
            "border": null,
            "align_items": null,
            "bottom": null,
            "_model_module": "@jupyter-widgets/base",
            "top": null,
            "grid_column": null,
            "overflow_y": null,
            "overflow_x": null,
            "grid_auto_flow": null,
            "grid_area": null,
            "grid_template_columns": null,
            "flex": null,
            "_model_name": "LayoutModel",
            "justify_items": null,
            "grid_row": null,
            "max_height": null,
            "align_content": null,
            "visibility": null,
            "align_self": null,
            "height": null,
            "min_height": null,
            "padding": null,
            "grid_auto_rows": null,
            "grid_gap": null,
            "max_width": null,
            "order": null,
            "_view_module_version": "1.2.0",
            "grid_template_areas": null,
            "object_position": null,
            "object_fit": null,
            "grid_auto_columns": null,
            "margin": null,
            "display": null,
            "left": null
          }
        },
        "a1240c5c6c5747969409eef7fa95d85f": {
          "model_module": "@jupyter-widgets/controls",
          "model_name": "FloatProgressModel",
          "state": {
            "_view_name": "ProgressView",
            "style": "IPY_MODEL_0197dd5424374eaabf52438555feb09e",
            "_dom_classes": [],
            "description": "100%",
            "_model_name": "FloatProgressModel",
            "bar_style": "success",
            "max": 391,
            "_view_module": "@jupyter-widgets/controls",
            "_model_module_version": "1.5.0",
            "value": 391,
            "_view_count": null,
            "_view_module_version": "1.5.0",
            "orientation": "horizontal",
            "min": 0,
            "description_tooltip": null,
            "_model_module": "@jupyter-widgets/controls",
            "layout": "IPY_MODEL_d1e313c5567d43f0a5683901e387f907"
          }
        },
        "6d97ee1fad8b498ebab899cc5a86aecd": {
          "model_module": "@jupyter-widgets/controls",
          "model_name": "HTMLModel",
          "state": {
            "_view_name": "HTMLView",
            "style": "IPY_MODEL_f416b4a08dae453fb3c48d7e83e1b7c1",
            "_dom_classes": [],
            "description": "",
            "_model_name": "HTMLModel",
            "placeholder": "​",
            "_view_module": "@jupyter-widgets/controls",
            "_model_module_version": "1.5.0",
            "value": " 391/391 [31:46&lt;00:00,  4.88s/it]",
            "_view_count": null,
            "_view_module_version": "1.5.0",
            "description_tooltip": null,
            "_model_module": "@jupyter-widgets/controls",
            "layout": "IPY_MODEL_9697d90023944910a2ad15c7bc28b3bd"
          }
        },
        "0197dd5424374eaabf52438555feb09e": {
          "model_module": "@jupyter-widgets/controls",
          "model_name": "ProgressStyleModel",
          "state": {
            "_view_name": "StyleView",
            "_model_name": "ProgressStyleModel",
            "description_width": "initial",
            "_view_module": "@jupyter-widgets/base",
            "_model_module_version": "1.5.0",
            "_view_count": null,
            "_view_module_version": "1.2.0",
            "bar_color": null,
            "_model_module": "@jupyter-widgets/controls"
          }
        },
        "d1e313c5567d43f0a5683901e387f907": {
          "model_module": "@jupyter-widgets/base",
          "model_name": "LayoutModel",
          "state": {
            "_view_name": "LayoutView",
            "grid_template_rows": null,
            "right": null,
            "justify_content": null,
            "_view_module": "@jupyter-widgets/base",
            "overflow": null,
            "_model_module_version": "1.2.0",
            "_view_count": null,
            "flex_flow": null,
            "width": null,
            "min_width": null,
            "border": null,
            "align_items": null,
            "bottom": null,
            "_model_module": "@jupyter-widgets/base",
            "top": null,
            "grid_column": null,
            "overflow_y": null,
            "overflow_x": null,
            "grid_auto_flow": null,
            "grid_area": null,
            "grid_template_columns": null,
            "flex": null,
            "_model_name": "LayoutModel",
            "justify_items": null,
            "grid_row": null,
            "max_height": null,
            "align_content": null,
            "visibility": null,
            "align_self": null,
            "height": null,
            "min_height": null,
            "padding": null,
            "grid_auto_rows": null,
            "grid_gap": null,
            "max_width": null,
            "order": null,
            "_view_module_version": "1.2.0",
            "grid_template_areas": null,
            "object_position": null,
            "object_fit": null,
            "grid_auto_columns": null,
            "margin": null,
            "display": null,
            "left": null
          }
        },
        "f416b4a08dae453fb3c48d7e83e1b7c1": {
          "model_module": "@jupyter-widgets/controls",
          "model_name": "DescriptionStyleModel",
          "state": {
            "_view_name": "StyleView",
            "_model_name": "DescriptionStyleModel",
            "description_width": "",
            "_view_module": "@jupyter-widgets/base",
            "_model_module_version": "1.5.0",
            "_view_count": null,
            "_view_module_version": "1.2.0",
            "_model_module": "@jupyter-widgets/controls"
          }
        },
        "9697d90023944910a2ad15c7bc28b3bd": {
          "model_module": "@jupyter-widgets/base",
          "model_name": "LayoutModel",
          "state": {
            "_view_name": "LayoutView",
            "grid_template_rows": null,
            "right": null,
            "justify_content": null,
            "_view_module": "@jupyter-widgets/base",
            "overflow": null,
            "_model_module_version": "1.2.0",
            "_view_count": null,
            "flex_flow": null,
            "width": null,
            "min_width": null,
            "border": null,
            "align_items": null,
            "bottom": null,
            "_model_module": "@jupyter-widgets/base",
            "top": null,
            "grid_column": null,
            "overflow_y": null,
            "overflow_x": null,
            "grid_auto_flow": null,
            "grid_area": null,
            "grid_template_columns": null,
            "flex": null,
            "_model_name": "LayoutModel",
            "justify_items": null,
            "grid_row": null,
            "max_height": null,
            "align_content": null,
            "visibility": null,
            "align_self": null,
            "height": null,
            "min_height": null,
            "padding": null,
            "grid_auto_rows": null,
            "grid_gap": null,
            "max_width": null,
            "order": null,
            "_view_module_version": "1.2.0",
            "grid_template_areas": null,
            "object_position": null,
            "object_fit": null,
            "grid_auto_columns": null,
            "margin": null,
            "display": null,
            "left": null
          }
        },
        "df84b426c7154fa2b2e551a2b96c71e5": {
          "model_module": "@jupyter-widgets/controls",
          "model_name": "HBoxModel",
          "state": {
            "_view_name": "HBoxView",
            "_dom_classes": [],
            "_model_name": "HBoxModel",
            "_view_module": "@jupyter-widgets/controls",
            "_model_module_version": "1.5.0",
            "_view_count": null,
            "_view_module_version": "1.5.0",
            "box_style": "",
            "layout": "IPY_MODEL_e6a35de7aa4c4e6e8f8d854f0e25f61c",
            "_model_module": "@jupyter-widgets/controls",
            "children": [
              "IPY_MODEL_8b4e2075bdb149d0aeb43706f5d327ff",
              "IPY_MODEL_107368b3908e441799177f5714162ffa"
            ]
          }
        },
        "e6a35de7aa4c4e6e8f8d854f0e25f61c": {
          "model_module": "@jupyter-widgets/base",
          "model_name": "LayoutModel",
          "state": {
            "_view_name": "LayoutView",
            "grid_template_rows": null,
            "right": null,
            "justify_content": null,
            "_view_module": "@jupyter-widgets/base",
            "overflow": null,
            "_model_module_version": "1.2.0",
            "_view_count": null,
            "flex_flow": null,
            "width": null,
            "min_width": null,
            "border": null,
            "align_items": null,
            "bottom": null,
            "_model_module": "@jupyter-widgets/base",
            "top": null,
            "grid_column": null,
            "overflow_y": null,
            "overflow_x": null,
            "grid_auto_flow": null,
            "grid_area": null,
            "grid_template_columns": null,
            "flex": null,
            "_model_name": "LayoutModel",
            "justify_items": null,
            "grid_row": null,
            "max_height": null,
            "align_content": null,
            "visibility": null,
            "align_self": null,
            "height": null,
            "min_height": null,
            "padding": null,
            "grid_auto_rows": null,
            "grid_gap": null,
            "max_width": null,
            "order": null,
            "_view_module_version": "1.2.0",
            "grid_template_areas": null,
            "object_position": null,
            "object_fit": null,
            "grid_auto_columns": null,
            "margin": null,
            "display": null,
            "left": null
          }
        },
        "8b4e2075bdb149d0aeb43706f5d327ff": {
          "model_module": "@jupyter-widgets/controls",
          "model_name": "FloatProgressModel",
          "state": {
            "_view_name": "ProgressView",
            "style": "IPY_MODEL_5d76abf7a01146f78476b42ab54883a2",
            "_dom_classes": [],
            "description": "100%",
            "_model_name": "FloatProgressModel",
            "bar_style": "success",
            "max": 391,
            "_view_module": "@jupyter-widgets/controls",
            "_model_module_version": "1.5.0",
            "value": 391,
            "_view_count": null,
            "_view_module_version": "1.5.0",
            "orientation": "horizontal",
            "min": 0,
            "description_tooltip": null,
            "_model_module": "@jupyter-widgets/controls",
            "layout": "IPY_MODEL_a0b02115d91d423997c6329d8728abca"
          }
        },
        "107368b3908e441799177f5714162ffa": {
          "model_module": "@jupyter-widgets/controls",
          "model_name": "HTMLModel",
          "state": {
            "_view_name": "HTMLView",
            "style": "IPY_MODEL_e747a2af17f64cf5a2612f674da1ccd9",
            "_dom_classes": [],
            "description": "",
            "_model_name": "HTMLModel",
            "placeholder": "​",
            "_view_module": "@jupyter-widgets/controls",
            "_model_module_version": "1.5.0",
            "value": " 391/391 [31:26&lt;00:00,  4.82s/it]",
            "_view_count": null,
            "_view_module_version": "1.5.0",
            "description_tooltip": null,
            "_model_module": "@jupyter-widgets/controls",
            "layout": "IPY_MODEL_cfe98ac10a104bfea60a62d59f6a9f8a"
          }
        },
        "5d76abf7a01146f78476b42ab54883a2": {
          "model_module": "@jupyter-widgets/controls",
          "model_name": "ProgressStyleModel",
          "state": {
            "_view_name": "StyleView",
            "_model_name": "ProgressStyleModel",
            "description_width": "initial",
            "_view_module": "@jupyter-widgets/base",
            "_model_module_version": "1.5.0",
            "_view_count": null,
            "_view_module_version": "1.2.0",
            "bar_color": null,
            "_model_module": "@jupyter-widgets/controls"
          }
        },
        "a0b02115d91d423997c6329d8728abca": {
          "model_module": "@jupyter-widgets/base",
          "model_name": "LayoutModel",
          "state": {
            "_view_name": "LayoutView",
            "grid_template_rows": null,
            "right": null,
            "justify_content": null,
            "_view_module": "@jupyter-widgets/base",
            "overflow": null,
            "_model_module_version": "1.2.0",
            "_view_count": null,
            "flex_flow": null,
            "width": null,
            "min_width": null,
            "border": null,
            "align_items": null,
            "bottom": null,
            "_model_module": "@jupyter-widgets/base",
            "top": null,
            "grid_column": null,
            "overflow_y": null,
            "overflow_x": null,
            "grid_auto_flow": null,
            "grid_area": null,
            "grid_template_columns": null,
            "flex": null,
            "_model_name": "LayoutModel",
            "justify_items": null,
            "grid_row": null,
            "max_height": null,
            "align_content": null,
            "visibility": null,
            "align_self": null,
            "height": null,
            "min_height": null,
            "padding": null,
            "grid_auto_rows": null,
            "grid_gap": null,
            "max_width": null,
            "order": null,
            "_view_module_version": "1.2.0",
            "grid_template_areas": null,
            "object_position": null,
            "object_fit": null,
            "grid_auto_columns": null,
            "margin": null,
            "display": null,
            "left": null
          }
        },
        "e747a2af17f64cf5a2612f674da1ccd9": {
          "model_module": "@jupyter-widgets/controls",
          "model_name": "DescriptionStyleModel",
          "state": {
            "_view_name": "StyleView",
            "_model_name": "DescriptionStyleModel",
            "description_width": "",
            "_view_module": "@jupyter-widgets/base",
            "_model_module_version": "1.5.0",
            "_view_count": null,
            "_view_module_version": "1.2.0",
            "_model_module": "@jupyter-widgets/controls"
          }
        },
        "cfe98ac10a104bfea60a62d59f6a9f8a": {
          "model_module": "@jupyter-widgets/base",
          "model_name": "LayoutModel",
          "state": {
            "_view_name": "LayoutView",
            "grid_template_rows": null,
            "right": null,
            "justify_content": null,
            "_view_module": "@jupyter-widgets/base",
            "overflow": null,
            "_model_module_version": "1.2.0",
            "_view_count": null,
            "flex_flow": null,
            "width": null,
            "min_width": null,
            "border": null,
            "align_items": null,
            "bottom": null,
            "_model_module": "@jupyter-widgets/base",
            "top": null,
            "grid_column": null,
            "overflow_y": null,
            "overflow_x": null,
            "grid_auto_flow": null,
            "grid_area": null,
            "grid_template_columns": null,
            "flex": null,
            "_model_name": "LayoutModel",
            "justify_items": null,
            "grid_row": null,
            "max_height": null,
            "align_content": null,
            "visibility": null,
            "align_self": null,
            "height": null,
            "min_height": null,
            "padding": null,
            "grid_auto_rows": null,
            "grid_gap": null,
            "max_width": null,
            "order": null,
            "_view_module_version": "1.2.0",
            "grid_template_areas": null,
            "object_position": null,
            "object_fit": null,
            "grid_auto_columns": null,
            "margin": null,
            "display": null,
            "left": null
          }
        },
        "acac9dbc91744b55b03d67688ac3dd76": {
          "model_module": "@jupyter-widgets/controls",
          "model_name": "HBoxModel",
          "state": {
            "_view_name": "HBoxView",
            "_dom_classes": [],
            "_model_name": "HBoxModel",
            "_view_module": "@jupyter-widgets/controls",
            "_model_module_version": "1.5.0",
            "_view_count": null,
            "_view_module_version": "1.5.0",
            "box_style": "",
            "layout": "IPY_MODEL_d682eecd65114ad3a47f7f66281561cb",
            "_model_module": "@jupyter-widgets/controls",
            "children": [
              "IPY_MODEL_6a5483be5f864716b8e571d57c0426c5",
              "IPY_MODEL_1bfd2a0c4ad24095832a42113dabb097"
            ]
          }
        },
        "d682eecd65114ad3a47f7f66281561cb": {
          "model_module": "@jupyter-widgets/base",
          "model_name": "LayoutModel",
          "state": {
            "_view_name": "LayoutView",
            "grid_template_rows": null,
            "right": null,
            "justify_content": null,
            "_view_module": "@jupyter-widgets/base",
            "overflow": null,
            "_model_module_version": "1.2.0",
            "_view_count": null,
            "flex_flow": null,
            "width": null,
            "min_width": null,
            "border": null,
            "align_items": null,
            "bottom": null,
            "_model_module": "@jupyter-widgets/base",
            "top": null,
            "grid_column": null,
            "overflow_y": null,
            "overflow_x": null,
            "grid_auto_flow": null,
            "grid_area": null,
            "grid_template_columns": null,
            "flex": null,
            "_model_name": "LayoutModel",
            "justify_items": null,
            "grid_row": null,
            "max_height": null,
            "align_content": null,
            "visibility": null,
            "align_self": null,
            "height": null,
            "min_height": null,
            "padding": null,
            "grid_auto_rows": null,
            "grid_gap": null,
            "max_width": null,
            "order": null,
            "_view_module_version": "1.2.0",
            "grid_template_areas": null,
            "object_position": null,
            "object_fit": null,
            "grid_auto_columns": null,
            "margin": null,
            "display": null,
            "left": null
          }
        },
        "6a5483be5f864716b8e571d57c0426c5": {
          "model_module": "@jupyter-widgets/controls",
          "model_name": "FloatProgressModel",
          "state": {
            "_view_name": "ProgressView",
            "style": "IPY_MODEL_b84eabdf15c94659b03ed8591aecf7f4",
            "_dom_classes": [],
            "description": "100%",
            "_model_name": "FloatProgressModel",
            "bar_style": "success",
            "max": 391,
            "_view_module": "@jupyter-widgets/controls",
            "_model_module_version": "1.5.0",
            "value": 391,
            "_view_count": null,
            "_view_module_version": "1.5.0",
            "orientation": "horizontal",
            "min": 0,
            "description_tooltip": null,
            "_model_module": "@jupyter-widgets/controls",
            "layout": "IPY_MODEL_8e5102b1acb447dc90c3a437b27d652e"
          }
        },
        "1bfd2a0c4ad24095832a42113dabb097": {
          "model_module": "@jupyter-widgets/controls",
          "model_name": "HTMLModel",
          "state": {
            "_view_name": "HTMLView",
            "style": "IPY_MODEL_2cc35fa3637941659c96db431c1f4306",
            "_dom_classes": [],
            "description": "",
            "_model_name": "HTMLModel",
            "placeholder": "​",
            "_view_module": "@jupyter-widgets/controls",
            "_model_module_version": "1.5.0",
            "value": " 391/391 [31:05&lt;00:00,  4.77s/it]",
            "_view_count": null,
            "_view_module_version": "1.5.0",
            "description_tooltip": null,
            "_model_module": "@jupyter-widgets/controls",
            "layout": "IPY_MODEL_eaec23bee73c462caa40e29c25858dd1"
          }
        },
        "b84eabdf15c94659b03ed8591aecf7f4": {
          "model_module": "@jupyter-widgets/controls",
          "model_name": "ProgressStyleModel",
          "state": {
            "_view_name": "StyleView",
            "_model_name": "ProgressStyleModel",
            "description_width": "initial",
            "_view_module": "@jupyter-widgets/base",
            "_model_module_version": "1.5.0",
            "_view_count": null,
            "_view_module_version": "1.2.0",
            "bar_color": null,
            "_model_module": "@jupyter-widgets/controls"
          }
        },
        "8e5102b1acb447dc90c3a437b27d652e": {
          "model_module": "@jupyter-widgets/base",
          "model_name": "LayoutModel",
          "state": {
            "_view_name": "LayoutView",
            "grid_template_rows": null,
            "right": null,
            "justify_content": null,
            "_view_module": "@jupyter-widgets/base",
            "overflow": null,
            "_model_module_version": "1.2.0",
            "_view_count": null,
            "flex_flow": null,
            "width": null,
            "min_width": null,
            "border": null,
            "align_items": null,
            "bottom": null,
            "_model_module": "@jupyter-widgets/base",
            "top": null,
            "grid_column": null,
            "overflow_y": null,
            "overflow_x": null,
            "grid_auto_flow": null,
            "grid_area": null,
            "grid_template_columns": null,
            "flex": null,
            "_model_name": "LayoutModel",
            "justify_items": null,
            "grid_row": null,
            "max_height": null,
            "align_content": null,
            "visibility": null,
            "align_self": null,
            "height": null,
            "min_height": null,
            "padding": null,
            "grid_auto_rows": null,
            "grid_gap": null,
            "max_width": null,
            "order": null,
            "_view_module_version": "1.2.0",
            "grid_template_areas": null,
            "object_position": null,
            "object_fit": null,
            "grid_auto_columns": null,
            "margin": null,
            "display": null,
            "left": null
          }
        },
        "2cc35fa3637941659c96db431c1f4306": {
          "model_module": "@jupyter-widgets/controls",
          "model_name": "DescriptionStyleModel",
          "state": {
            "_view_name": "StyleView",
            "_model_name": "DescriptionStyleModel",
            "description_width": "",
            "_view_module": "@jupyter-widgets/base",
            "_model_module_version": "1.5.0",
            "_view_count": null,
            "_view_module_version": "1.2.0",
            "_model_module": "@jupyter-widgets/controls"
          }
        },
        "eaec23bee73c462caa40e29c25858dd1": {
          "model_module": "@jupyter-widgets/base",
          "model_name": "LayoutModel",
          "state": {
            "_view_name": "LayoutView",
            "grid_template_rows": null,
            "right": null,
            "justify_content": null,
            "_view_module": "@jupyter-widgets/base",
            "overflow": null,
            "_model_module_version": "1.2.0",
            "_view_count": null,
            "flex_flow": null,
            "width": null,
            "min_width": null,
            "border": null,
            "align_items": null,
            "bottom": null,
            "_model_module": "@jupyter-widgets/base",
            "top": null,
            "grid_column": null,
            "overflow_y": null,
            "overflow_x": null,
            "grid_auto_flow": null,
            "grid_area": null,
            "grid_template_columns": null,
            "flex": null,
            "_model_name": "LayoutModel",
            "justify_items": null,
            "grid_row": null,
            "max_height": null,
            "align_content": null,
            "visibility": null,
            "align_self": null,
            "height": null,
            "min_height": null,
            "padding": null,
            "grid_auto_rows": null,
            "grid_gap": null,
            "max_width": null,
            "order": null,
            "_view_module_version": "1.2.0",
            "grid_template_areas": null,
            "object_position": null,
            "object_fit": null,
            "grid_auto_columns": null,
            "margin": null,
            "display": null,
            "left": null
          }
        },
        "e507fd54af9d467d81f63c3f80b56aa2": {
          "model_module": "@jupyter-widgets/controls",
          "model_name": "HBoxModel",
          "state": {
            "_view_name": "HBoxView",
            "_dom_classes": [],
            "_model_name": "HBoxModel",
            "_view_module": "@jupyter-widgets/controls",
            "_model_module_version": "1.5.0",
            "_view_count": null,
            "_view_module_version": "1.5.0",
            "box_style": "",
            "layout": "IPY_MODEL_70f1c05446424338bd939097a4d2793a",
            "_model_module": "@jupyter-widgets/controls",
            "children": [
              "IPY_MODEL_13915c076d8b4e5cbebd1694f024c487",
              "IPY_MODEL_8ab1a4802d104866bb058251e9854595"
            ]
          }
        },
        "70f1c05446424338bd939097a4d2793a": {
          "model_module": "@jupyter-widgets/base",
          "model_name": "LayoutModel",
          "state": {
            "_view_name": "LayoutView",
            "grid_template_rows": null,
            "right": null,
            "justify_content": null,
            "_view_module": "@jupyter-widgets/base",
            "overflow": null,
            "_model_module_version": "1.2.0",
            "_view_count": null,
            "flex_flow": null,
            "width": null,
            "min_width": null,
            "border": null,
            "align_items": null,
            "bottom": null,
            "_model_module": "@jupyter-widgets/base",
            "top": null,
            "grid_column": null,
            "overflow_y": null,
            "overflow_x": null,
            "grid_auto_flow": null,
            "grid_area": null,
            "grid_template_columns": null,
            "flex": null,
            "_model_name": "LayoutModel",
            "justify_items": null,
            "grid_row": null,
            "max_height": null,
            "align_content": null,
            "visibility": null,
            "align_self": null,
            "height": null,
            "min_height": null,
            "padding": null,
            "grid_auto_rows": null,
            "grid_gap": null,
            "max_width": null,
            "order": null,
            "_view_module_version": "1.2.0",
            "grid_template_areas": null,
            "object_position": null,
            "object_fit": null,
            "grid_auto_columns": null,
            "margin": null,
            "display": null,
            "left": null
          }
        },
        "13915c076d8b4e5cbebd1694f024c487": {
          "model_module": "@jupyter-widgets/controls",
          "model_name": "FloatProgressModel",
          "state": {
            "_view_name": "ProgressView",
            "style": "IPY_MODEL_0fce33f9180d4d3f91e3bbce19e0286e",
            "_dom_classes": [],
            "description": "100%",
            "_model_name": "FloatProgressModel",
            "bar_style": "success",
            "max": 391,
            "_view_module": "@jupyter-widgets/controls",
            "_model_module_version": "1.5.0",
            "value": 391,
            "_view_count": null,
            "_view_module_version": "1.5.0",
            "orientation": "horizontal",
            "min": 0,
            "description_tooltip": null,
            "_model_module": "@jupyter-widgets/controls",
            "layout": "IPY_MODEL_e14c1d19ac2744b6a6ba9c4a1feba2ce"
          }
        },
        "8ab1a4802d104866bb058251e9854595": {
          "model_module": "@jupyter-widgets/controls",
          "model_name": "HTMLModel",
          "state": {
            "_view_name": "HTMLView",
            "style": "IPY_MODEL_fe88ec81ccdf4ad49d2a7dd4178df2f1",
            "_dom_classes": [],
            "description": "",
            "_model_name": "HTMLModel",
            "placeholder": "​",
            "_view_module": "@jupyter-widgets/controls",
            "_model_module_version": "1.5.0",
            "value": " 391/391 [30:45&lt;00:00,  4.72s/it]",
            "_view_count": null,
            "_view_module_version": "1.5.0",
            "description_tooltip": null,
            "_model_module": "@jupyter-widgets/controls",
            "layout": "IPY_MODEL_339d435eaf1d4eb9911ab758a997ef09"
          }
        },
        "0fce33f9180d4d3f91e3bbce19e0286e": {
          "model_module": "@jupyter-widgets/controls",
          "model_name": "ProgressStyleModel",
          "state": {
            "_view_name": "StyleView",
            "_model_name": "ProgressStyleModel",
            "description_width": "initial",
            "_view_module": "@jupyter-widgets/base",
            "_model_module_version": "1.5.0",
            "_view_count": null,
            "_view_module_version": "1.2.0",
            "bar_color": null,
            "_model_module": "@jupyter-widgets/controls"
          }
        },
        "e14c1d19ac2744b6a6ba9c4a1feba2ce": {
          "model_module": "@jupyter-widgets/base",
          "model_name": "LayoutModel",
          "state": {
            "_view_name": "LayoutView",
            "grid_template_rows": null,
            "right": null,
            "justify_content": null,
            "_view_module": "@jupyter-widgets/base",
            "overflow": null,
            "_model_module_version": "1.2.0",
            "_view_count": null,
            "flex_flow": null,
            "width": null,
            "min_width": null,
            "border": null,
            "align_items": null,
            "bottom": null,
            "_model_module": "@jupyter-widgets/base",
            "top": null,
            "grid_column": null,
            "overflow_y": null,
            "overflow_x": null,
            "grid_auto_flow": null,
            "grid_area": null,
            "grid_template_columns": null,
            "flex": null,
            "_model_name": "LayoutModel",
            "justify_items": null,
            "grid_row": null,
            "max_height": null,
            "align_content": null,
            "visibility": null,
            "align_self": null,
            "height": null,
            "min_height": null,
            "padding": null,
            "grid_auto_rows": null,
            "grid_gap": null,
            "max_width": null,
            "order": null,
            "_view_module_version": "1.2.0",
            "grid_template_areas": null,
            "object_position": null,
            "object_fit": null,
            "grid_auto_columns": null,
            "margin": null,
            "display": null,
            "left": null
          }
        },
        "fe88ec81ccdf4ad49d2a7dd4178df2f1": {
          "model_module": "@jupyter-widgets/controls",
          "model_name": "DescriptionStyleModel",
          "state": {
            "_view_name": "StyleView",
            "_model_name": "DescriptionStyleModel",
            "description_width": "",
            "_view_module": "@jupyter-widgets/base",
            "_model_module_version": "1.5.0",
            "_view_count": null,
            "_view_module_version": "1.2.0",
            "_model_module": "@jupyter-widgets/controls"
          }
        },
        "339d435eaf1d4eb9911ab758a997ef09": {
          "model_module": "@jupyter-widgets/base",
          "model_name": "LayoutModel",
          "state": {
            "_view_name": "LayoutView",
            "grid_template_rows": null,
            "right": null,
            "justify_content": null,
            "_view_module": "@jupyter-widgets/base",
            "overflow": null,
            "_model_module_version": "1.2.0",
            "_view_count": null,
            "flex_flow": null,
            "width": null,
            "min_width": null,
            "border": null,
            "align_items": null,
            "bottom": null,
            "_model_module": "@jupyter-widgets/base",
            "top": null,
            "grid_column": null,
            "overflow_y": null,
            "overflow_x": null,
            "grid_auto_flow": null,
            "grid_area": null,
            "grid_template_columns": null,
            "flex": null,
            "_model_name": "LayoutModel",
            "justify_items": null,
            "grid_row": null,
            "max_height": null,
            "align_content": null,
            "visibility": null,
            "align_self": null,
            "height": null,
            "min_height": null,
            "padding": null,
            "grid_auto_rows": null,
            "grid_gap": null,
            "max_width": null,
            "order": null,
            "_view_module_version": "1.2.0",
            "grid_template_areas": null,
            "object_position": null,
            "object_fit": null,
            "grid_auto_columns": null,
            "margin": null,
            "display": null,
            "left": null
          }
        },
        "daa82b60b29d4293940705a25974744a": {
          "model_module": "@jupyter-widgets/controls",
          "model_name": "HBoxModel",
          "state": {
            "_view_name": "HBoxView",
            "_dom_classes": [],
            "_model_name": "HBoxModel",
            "_view_module": "@jupyter-widgets/controls",
            "_model_module_version": "1.5.0",
            "_view_count": null,
            "_view_module_version": "1.5.0",
            "box_style": "",
            "layout": "IPY_MODEL_9b860ef42309486fbbf77049739b7298",
            "_model_module": "@jupyter-widgets/controls",
            "children": [
              "IPY_MODEL_1d5e909c3f8b4d58abbe320d6ebc8127",
              "IPY_MODEL_90b84d354f0f475591593004468f05b7"
            ]
          }
        },
        "9b860ef42309486fbbf77049739b7298": {
          "model_module": "@jupyter-widgets/base",
          "model_name": "LayoutModel",
          "state": {
            "_view_name": "LayoutView",
            "grid_template_rows": null,
            "right": null,
            "justify_content": null,
            "_view_module": "@jupyter-widgets/base",
            "overflow": null,
            "_model_module_version": "1.2.0",
            "_view_count": null,
            "flex_flow": null,
            "width": null,
            "min_width": null,
            "border": null,
            "align_items": null,
            "bottom": null,
            "_model_module": "@jupyter-widgets/base",
            "top": null,
            "grid_column": null,
            "overflow_y": null,
            "overflow_x": null,
            "grid_auto_flow": null,
            "grid_area": null,
            "grid_template_columns": null,
            "flex": null,
            "_model_name": "LayoutModel",
            "justify_items": null,
            "grid_row": null,
            "max_height": null,
            "align_content": null,
            "visibility": null,
            "align_self": null,
            "height": null,
            "min_height": null,
            "padding": null,
            "grid_auto_rows": null,
            "grid_gap": null,
            "max_width": null,
            "order": null,
            "_view_module_version": "1.2.0",
            "grid_template_areas": null,
            "object_position": null,
            "object_fit": null,
            "grid_auto_columns": null,
            "margin": null,
            "display": null,
            "left": null
          }
        },
        "1d5e909c3f8b4d58abbe320d6ebc8127": {
          "model_module": "@jupyter-widgets/controls",
          "model_name": "FloatProgressModel",
          "state": {
            "_view_name": "ProgressView",
            "style": "IPY_MODEL_b5d1144f3c9b45c7a1a9548a3650bdd8",
            "_dom_classes": [],
            "description": "100%",
            "_model_name": "FloatProgressModel",
            "bar_style": "success",
            "max": 10,
            "_view_module": "@jupyter-widgets/controls",
            "_model_module_version": "1.5.0",
            "value": 10,
            "_view_count": null,
            "_view_module_version": "1.5.0",
            "orientation": "horizontal",
            "min": 0,
            "description_tooltip": null,
            "_model_module": "@jupyter-widgets/controls",
            "layout": "IPY_MODEL_0f2c61041aa145bd97b8168e7a07973a"
          }
        },
        "90b84d354f0f475591593004468f05b7": {
          "model_module": "@jupyter-widgets/controls",
          "model_name": "HTMLModel",
          "state": {
            "_view_name": "HTMLView",
            "style": "IPY_MODEL_df872f4235ce46a99ea083561ec3383d",
            "_dom_classes": [],
            "description": "",
            "_model_name": "HTMLModel",
            "placeholder": "​",
            "_view_module": "@jupyter-widgets/controls",
            "_model_module_version": "1.5.0",
            "value": " 10/10 [35:19&lt;00:00, 211.97s/it]",
            "_view_count": null,
            "_view_module_version": "1.5.0",
            "description_tooltip": null,
            "_model_module": "@jupyter-widgets/controls",
            "layout": "IPY_MODEL_180e211ea7f9400b98e64cb262e21a21"
          }
        },
        "b5d1144f3c9b45c7a1a9548a3650bdd8": {
          "model_module": "@jupyter-widgets/controls",
          "model_name": "ProgressStyleModel",
          "state": {
            "_view_name": "StyleView",
            "_model_name": "ProgressStyleModel",
            "description_width": "initial",
            "_view_module": "@jupyter-widgets/base",
            "_model_module_version": "1.5.0",
            "_view_count": null,
            "_view_module_version": "1.2.0",
            "bar_color": null,
            "_model_module": "@jupyter-widgets/controls"
          }
        },
        "0f2c61041aa145bd97b8168e7a07973a": {
          "model_module": "@jupyter-widgets/base",
          "model_name": "LayoutModel",
          "state": {
            "_view_name": "LayoutView",
            "grid_template_rows": null,
            "right": null,
            "justify_content": null,
            "_view_module": "@jupyter-widgets/base",
            "overflow": null,
            "_model_module_version": "1.2.0",
            "_view_count": null,
            "flex_flow": null,
            "width": null,
            "min_width": null,
            "border": null,
            "align_items": null,
            "bottom": null,
            "_model_module": "@jupyter-widgets/base",
            "top": null,
            "grid_column": null,
            "overflow_y": null,
            "overflow_x": null,
            "grid_auto_flow": null,
            "grid_area": null,
            "grid_template_columns": null,
            "flex": null,
            "_model_name": "LayoutModel",
            "justify_items": null,
            "grid_row": null,
            "max_height": null,
            "align_content": null,
            "visibility": null,
            "align_self": null,
            "height": null,
            "min_height": null,
            "padding": null,
            "grid_auto_rows": null,
            "grid_gap": null,
            "max_width": null,
            "order": null,
            "_view_module_version": "1.2.0",
            "grid_template_areas": null,
            "object_position": null,
            "object_fit": null,
            "grid_auto_columns": null,
            "margin": null,
            "display": null,
            "left": null
          }
        },
        "df872f4235ce46a99ea083561ec3383d": {
          "model_module": "@jupyter-widgets/controls",
          "model_name": "DescriptionStyleModel",
          "state": {
            "_view_name": "StyleView",
            "_model_name": "DescriptionStyleModel",
            "description_width": "",
            "_view_module": "@jupyter-widgets/base",
            "_model_module_version": "1.5.0",
            "_view_count": null,
            "_view_module_version": "1.2.0",
            "_model_module": "@jupyter-widgets/controls"
          }
        },
        "180e211ea7f9400b98e64cb262e21a21": {
          "model_module": "@jupyter-widgets/base",
          "model_name": "LayoutModel",
          "state": {
            "_view_name": "LayoutView",
            "grid_template_rows": null,
            "right": null,
            "justify_content": null,
            "_view_module": "@jupyter-widgets/base",
            "overflow": null,
            "_model_module_version": "1.2.0",
            "_view_count": null,
            "flex_flow": null,
            "width": null,
            "min_width": null,
            "border": null,
            "align_items": null,
            "bottom": null,
            "_model_module": "@jupyter-widgets/base",
            "top": null,
            "grid_column": null,
            "overflow_y": null,
            "overflow_x": null,
            "grid_auto_flow": null,
            "grid_area": null,
            "grid_template_columns": null,
            "flex": null,
            "_model_name": "LayoutModel",
            "justify_items": null,
            "grid_row": null,
            "max_height": null,
            "align_content": null,
            "visibility": null,
            "align_self": null,
            "height": null,
            "min_height": null,
            "padding": null,
            "grid_auto_rows": null,
            "grid_gap": null,
            "max_width": null,
            "order": null,
            "_view_module_version": "1.2.0",
            "grid_template_areas": null,
            "object_position": null,
            "object_fit": null,
            "grid_auto_columns": null,
            "margin": null,
            "display": null,
            "left": null
          }
        },
        "556894c7f90f4e59ad59233820ade583": {
          "model_module": "@jupyter-widgets/controls",
          "model_name": "HBoxModel",
          "state": {
            "_view_name": "HBoxView",
            "_dom_classes": [],
            "_model_name": "HBoxModel",
            "_view_module": "@jupyter-widgets/controls",
            "_model_module_version": "1.5.0",
            "_view_count": null,
            "_view_module_version": "1.5.0",
            "box_style": "",
            "layout": "IPY_MODEL_8171debce34a4b488426b2b91df7abf0",
            "_model_module": "@jupyter-widgets/controls",
            "children": [
              "IPY_MODEL_543f8f9602524e96a5444e623dd81cc8",
              "IPY_MODEL_4f9a28e50d2a4590bfa680c9bc01fd34"
            ]
          }
        },
        "8171debce34a4b488426b2b91df7abf0": {
          "model_module": "@jupyter-widgets/base",
          "model_name": "LayoutModel",
          "state": {
            "_view_name": "LayoutView",
            "grid_template_rows": null,
            "right": null,
            "justify_content": null,
            "_view_module": "@jupyter-widgets/base",
            "overflow": null,
            "_model_module_version": "1.2.0",
            "_view_count": null,
            "flex_flow": null,
            "width": null,
            "min_width": null,
            "border": null,
            "align_items": null,
            "bottom": null,
            "_model_module": "@jupyter-widgets/base",
            "top": null,
            "grid_column": null,
            "overflow_y": null,
            "overflow_x": null,
            "grid_auto_flow": null,
            "grid_area": null,
            "grid_template_columns": null,
            "flex": null,
            "_model_name": "LayoutModel",
            "justify_items": null,
            "grid_row": null,
            "max_height": null,
            "align_content": null,
            "visibility": null,
            "align_self": null,
            "height": null,
            "min_height": null,
            "padding": null,
            "grid_auto_rows": null,
            "grid_gap": null,
            "max_width": null,
            "order": null,
            "_view_module_version": "1.2.0",
            "grid_template_areas": null,
            "object_position": null,
            "object_fit": null,
            "grid_auto_columns": null,
            "margin": null,
            "display": null,
            "left": null
          }
        },
        "543f8f9602524e96a5444e623dd81cc8": {
          "model_module": "@jupyter-widgets/controls",
          "model_name": "FloatProgressModel",
          "state": {
            "_view_name": "ProgressView",
            "style": "IPY_MODEL_79528e14ed0d47f7b29ee1aa934ec3b2",
            "_dom_classes": [],
            "description": "100%",
            "_model_name": "FloatProgressModel",
            "bar_style": "success",
            "max": 12500,
            "_view_module": "@jupyter-widgets/controls",
            "_model_module_version": "1.5.0",
            "value": 12500,
            "_view_count": null,
            "_view_module_version": "1.5.0",
            "orientation": "horizontal",
            "min": 0,
            "description_tooltip": null,
            "_model_module": "@jupyter-widgets/controls",
            "layout": "IPY_MODEL_76574e3e1df441f8a08d1c7f76ece5ae"
          }
        },
        "4f9a28e50d2a4590bfa680c9bc01fd34": {
          "model_module": "@jupyter-widgets/controls",
          "model_name": "HTMLModel",
          "state": {
            "_view_name": "HTMLView",
            "style": "IPY_MODEL_e588830491244e7284aae15dbce64f38",
            "_dom_classes": [],
            "description": "",
            "_model_name": "HTMLModel",
            "placeholder": "​",
            "_view_module": "@jupyter-widgets/controls",
            "_model_module_version": "1.5.0",
            "value": " 12500/12500 [35:19&lt;00:00,  5.90it/s]",
            "_view_count": null,
            "_view_module_version": "1.5.0",
            "description_tooltip": null,
            "_model_module": "@jupyter-widgets/controls",
            "layout": "IPY_MODEL_2bae1c06199b4955946d561304a91577"
          }
        },
        "79528e14ed0d47f7b29ee1aa934ec3b2": {
          "model_module": "@jupyter-widgets/controls",
          "model_name": "ProgressStyleModel",
          "state": {
            "_view_name": "StyleView",
            "_model_name": "ProgressStyleModel",
            "description_width": "initial",
            "_view_module": "@jupyter-widgets/base",
            "_model_module_version": "1.5.0",
            "_view_count": null,
            "_view_module_version": "1.2.0",
            "bar_color": null,
            "_model_module": "@jupyter-widgets/controls"
          }
        },
        "76574e3e1df441f8a08d1c7f76ece5ae": {
          "model_module": "@jupyter-widgets/base",
          "model_name": "LayoutModel",
          "state": {
            "_view_name": "LayoutView",
            "grid_template_rows": null,
            "right": null,
            "justify_content": null,
            "_view_module": "@jupyter-widgets/base",
            "overflow": null,
            "_model_module_version": "1.2.0",
            "_view_count": null,
            "flex_flow": null,
            "width": null,
            "min_width": null,
            "border": null,
            "align_items": null,
            "bottom": null,
            "_model_module": "@jupyter-widgets/base",
            "top": null,
            "grid_column": null,
            "overflow_y": null,
            "overflow_x": null,
            "grid_auto_flow": null,
            "grid_area": null,
            "grid_template_columns": null,
            "flex": null,
            "_model_name": "LayoutModel",
            "justify_items": null,
            "grid_row": null,
            "max_height": null,
            "align_content": null,
            "visibility": null,
            "align_self": null,
            "height": null,
            "min_height": null,
            "padding": null,
            "grid_auto_rows": null,
            "grid_gap": null,
            "max_width": null,
            "order": null,
            "_view_module_version": "1.2.0",
            "grid_template_areas": null,
            "object_position": null,
            "object_fit": null,
            "grid_auto_columns": null,
            "margin": null,
            "display": null,
            "left": null
          }
        },
        "e588830491244e7284aae15dbce64f38": {
          "model_module": "@jupyter-widgets/controls",
          "model_name": "DescriptionStyleModel",
          "state": {
            "_view_name": "StyleView",
            "_model_name": "DescriptionStyleModel",
            "description_width": "",
            "_view_module": "@jupyter-widgets/base",
            "_model_module_version": "1.5.0",
            "_view_count": null,
            "_view_module_version": "1.2.0",
            "_model_module": "@jupyter-widgets/controls"
          }
        },
        "2bae1c06199b4955946d561304a91577": {
          "model_module": "@jupyter-widgets/base",
          "model_name": "LayoutModel",
          "state": {
            "_view_name": "LayoutView",
            "grid_template_rows": null,
            "right": null,
            "justify_content": null,
            "_view_module": "@jupyter-widgets/base",
            "overflow": null,
            "_model_module_version": "1.2.0",
            "_view_count": null,
            "flex_flow": null,
            "width": null,
            "min_width": null,
            "border": null,
            "align_items": null,
            "bottom": null,
            "_model_module": "@jupyter-widgets/base",
            "top": null,
            "grid_column": null,
            "overflow_y": null,
            "overflow_x": null,
            "grid_auto_flow": null,
            "grid_area": null,
            "grid_template_columns": null,
            "flex": null,
            "_model_name": "LayoutModel",
            "justify_items": null,
            "grid_row": null,
            "max_height": null,
            "align_content": null,
            "visibility": null,
            "align_self": null,
            "height": null,
            "min_height": null,
            "padding": null,
            "grid_auto_rows": null,
            "grid_gap": null,
            "max_width": null,
            "order": null,
            "_view_module_version": "1.2.0",
            "grid_template_areas": null,
            "object_position": null,
            "object_fit": null,
            "grid_auto_columns": null,
            "margin": null,
            "display": null,
            "left": null
          }
        },
        "31e65ca5640c44a78ed643475bd81fb2": {
          "model_module": "@jupyter-widgets/controls",
          "model_name": "HBoxModel",
          "state": {
            "_view_name": "HBoxView",
            "_dom_classes": [],
            "_model_name": "HBoxModel",
            "_view_module": "@jupyter-widgets/controls",
            "_model_module_version": "1.5.0",
            "_view_count": null,
            "_view_module_version": "1.5.0",
            "box_style": "",
            "layout": "IPY_MODEL_b61e1ca84a0347d6b1a8d2a7fec9a2a4",
            "_model_module": "@jupyter-widgets/controls",
            "children": [
              "IPY_MODEL_7e34186e42b945d79515b2850b737962",
              "IPY_MODEL_9bdab75604d2479ca9c0793cffd87df1"
            ]
          }
        },
        "b61e1ca84a0347d6b1a8d2a7fec9a2a4": {
          "model_module": "@jupyter-widgets/base",
          "model_name": "LayoutModel",
          "state": {
            "_view_name": "LayoutView",
            "grid_template_rows": null,
            "right": null,
            "justify_content": null,
            "_view_module": "@jupyter-widgets/base",
            "overflow": null,
            "_model_module_version": "1.2.0",
            "_view_count": null,
            "flex_flow": null,
            "width": null,
            "min_width": null,
            "border": null,
            "align_items": null,
            "bottom": null,
            "_model_module": "@jupyter-widgets/base",
            "top": null,
            "grid_column": null,
            "overflow_y": null,
            "overflow_x": null,
            "grid_auto_flow": null,
            "grid_area": null,
            "grid_template_columns": null,
            "flex": null,
            "_model_name": "LayoutModel",
            "justify_items": null,
            "grid_row": null,
            "max_height": null,
            "align_content": null,
            "visibility": null,
            "align_self": null,
            "height": null,
            "min_height": null,
            "padding": null,
            "grid_auto_rows": null,
            "grid_gap": null,
            "max_width": null,
            "order": null,
            "_view_module_version": "1.2.0",
            "grid_template_areas": null,
            "object_position": null,
            "object_fit": null,
            "grid_auto_columns": null,
            "margin": null,
            "display": null,
            "left": null
          }
        },
        "7e34186e42b945d79515b2850b737962": {
          "model_module": "@jupyter-widgets/controls",
          "model_name": "FloatProgressModel",
          "state": {
            "_view_name": "ProgressView",
            "style": "IPY_MODEL_58a0f9a4a44a4a488d435498e726ee43",
            "_dom_classes": [],
            "description": "100%",
            "_model_name": "FloatProgressModel",
            "bar_style": "success",
            "max": 12500,
            "_view_module": "@jupyter-widgets/controls",
            "_model_module_version": "1.5.0",
            "value": 12500,
            "_view_count": null,
            "_view_module_version": "1.5.0",
            "orientation": "horizontal",
            "min": 0,
            "description_tooltip": null,
            "_model_module": "@jupyter-widgets/controls",
            "layout": "IPY_MODEL_6c76ae19513e42de932a6e3590b7bf25"
          }
        },
        "9bdab75604d2479ca9c0793cffd87df1": {
          "model_module": "@jupyter-widgets/controls",
          "model_name": "HTMLModel",
          "state": {
            "_view_name": "HTMLView",
            "style": "IPY_MODEL_85b4652ed7f3401191db9b79fb53fdb2",
            "_dom_classes": [],
            "description": "",
            "_model_name": "HTMLModel",
            "placeholder": "​",
            "_view_module": "@jupyter-widgets/controls",
            "_model_module_version": "1.5.0",
            "value": " 12500/12500 [33:32&lt;00:00,  6.21it/s]",
            "_view_count": null,
            "_view_module_version": "1.5.0",
            "description_tooltip": null,
            "_model_module": "@jupyter-widgets/controls",
            "layout": "IPY_MODEL_e094ad2ce67a4201a36e959610df7cb0"
          }
        },
        "58a0f9a4a44a4a488d435498e726ee43": {
          "model_module": "@jupyter-widgets/controls",
          "model_name": "ProgressStyleModel",
          "state": {
            "_view_name": "StyleView",
            "_model_name": "ProgressStyleModel",
            "description_width": "initial",
            "_view_module": "@jupyter-widgets/base",
            "_model_module_version": "1.5.0",
            "_view_count": null,
            "_view_module_version": "1.2.0",
            "bar_color": null,
            "_model_module": "@jupyter-widgets/controls"
          }
        },
        "6c76ae19513e42de932a6e3590b7bf25": {
          "model_module": "@jupyter-widgets/base",
          "model_name": "LayoutModel",
          "state": {
            "_view_name": "LayoutView",
            "grid_template_rows": null,
            "right": null,
            "justify_content": null,
            "_view_module": "@jupyter-widgets/base",
            "overflow": null,
            "_model_module_version": "1.2.0",
            "_view_count": null,
            "flex_flow": null,
            "width": null,
            "min_width": null,
            "border": null,
            "align_items": null,
            "bottom": null,
            "_model_module": "@jupyter-widgets/base",
            "top": null,
            "grid_column": null,
            "overflow_y": null,
            "overflow_x": null,
            "grid_auto_flow": null,
            "grid_area": null,
            "grid_template_columns": null,
            "flex": null,
            "_model_name": "LayoutModel",
            "justify_items": null,
            "grid_row": null,
            "max_height": null,
            "align_content": null,
            "visibility": null,
            "align_self": null,
            "height": null,
            "min_height": null,
            "padding": null,
            "grid_auto_rows": null,
            "grid_gap": null,
            "max_width": null,
            "order": null,
            "_view_module_version": "1.2.0",
            "grid_template_areas": null,
            "object_position": null,
            "object_fit": null,
            "grid_auto_columns": null,
            "margin": null,
            "display": null,
            "left": null
          }
        },
        "85b4652ed7f3401191db9b79fb53fdb2": {
          "model_module": "@jupyter-widgets/controls",
          "model_name": "DescriptionStyleModel",
          "state": {
            "_view_name": "StyleView",
            "_model_name": "DescriptionStyleModel",
            "description_width": "",
            "_view_module": "@jupyter-widgets/base",
            "_model_module_version": "1.5.0",
            "_view_count": null,
            "_view_module_version": "1.2.0",
            "_model_module": "@jupyter-widgets/controls"
          }
        },
        "e094ad2ce67a4201a36e959610df7cb0": {
          "model_module": "@jupyter-widgets/base",
          "model_name": "LayoutModel",
          "state": {
            "_view_name": "LayoutView",
            "grid_template_rows": null,
            "right": null,
            "justify_content": null,
            "_view_module": "@jupyter-widgets/base",
            "overflow": null,
            "_model_module_version": "1.2.0",
            "_view_count": null,
            "flex_flow": null,
            "width": null,
            "min_width": null,
            "border": null,
            "align_items": null,
            "bottom": null,
            "_model_module": "@jupyter-widgets/base",
            "top": null,
            "grid_column": null,
            "overflow_y": null,
            "overflow_x": null,
            "grid_auto_flow": null,
            "grid_area": null,
            "grid_template_columns": null,
            "flex": null,
            "_model_name": "LayoutModel",
            "justify_items": null,
            "grid_row": null,
            "max_height": null,
            "align_content": null,
            "visibility": null,
            "align_self": null,
            "height": null,
            "min_height": null,
            "padding": null,
            "grid_auto_rows": null,
            "grid_gap": null,
            "max_width": null,
            "order": null,
            "_view_module_version": "1.2.0",
            "grid_template_areas": null,
            "object_position": null,
            "object_fit": null,
            "grid_auto_columns": null,
            "margin": null,
            "display": null,
            "left": null
          }
        },
        "ef7c7f463da247beaaacec7ba92e2e6a": {
          "model_module": "@jupyter-widgets/controls",
          "model_name": "HBoxModel",
          "state": {
            "_view_name": "HBoxView",
            "_dom_classes": [],
            "_model_name": "HBoxModel",
            "_view_module": "@jupyter-widgets/controls",
            "_model_module_version": "1.5.0",
            "_view_count": null,
            "_view_module_version": "1.5.0",
            "box_style": "",
            "layout": "IPY_MODEL_241737126fe94dc9bf036df5267857d8",
            "_model_module": "@jupyter-widgets/controls",
            "children": [
              "IPY_MODEL_b8ddbb10a2de4d2aa92692355c6de300",
              "IPY_MODEL_71169602918e43aeb3e4fe94a6f9d28e"
            ]
          }
        },
        "241737126fe94dc9bf036df5267857d8": {
          "model_module": "@jupyter-widgets/base",
          "model_name": "LayoutModel",
          "state": {
            "_view_name": "LayoutView",
            "grid_template_rows": null,
            "right": null,
            "justify_content": null,
            "_view_module": "@jupyter-widgets/base",
            "overflow": null,
            "_model_module_version": "1.2.0",
            "_view_count": null,
            "flex_flow": null,
            "width": null,
            "min_width": null,
            "border": null,
            "align_items": null,
            "bottom": null,
            "_model_module": "@jupyter-widgets/base",
            "top": null,
            "grid_column": null,
            "overflow_y": null,
            "overflow_x": null,
            "grid_auto_flow": null,
            "grid_area": null,
            "grid_template_columns": null,
            "flex": null,
            "_model_name": "LayoutModel",
            "justify_items": null,
            "grid_row": null,
            "max_height": null,
            "align_content": null,
            "visibility": null,
            "align_self": null,
            "height": null,
            "min_height": null,
            "padding": null,
            "grid_auto_rows": null,
            "grid_gap": null,
            "max_width": null,
            "order": null,
            "_view_module_version": "1.2.0",
            "grid_template_areas": null,
            "object_position": null,
            "object_fit": null,
            "grid_auto_columns": null,
            "margin": null,
            "display": null,
            "left": null
          }
        },
        "b8ddbb10a2de4d2aa92692355c6de300": {
          "model_module": "@jupyter-widgets/controls",
          "model_name": "FloatProgressModel",
          "state": {
            "_view_name": "ProgressView",
            "style": "IPY_MODEL_d7bb9c473aee4e4582972514afd5197b",
            "_dom_classes": [],
            "description": "100%",
            "_model_name": "FloatProgressModel",
            "bar_style": "success",
            "max": 12500,
            "_view_module": "@jupyter-widgets/controls",
            "_model_module_version": "1.5.0",
            "value": 12500,
            "_view_count": null,
            "_view_module_version": "1.5.0",
            "orientation": "horizontal",
            "min": 0,
            "description_tooltip": null,
            "_model_module": "@jupyter-widgets/controls",
            "layout": "IPY_MODEL_cf45b162cc2948488c89981423cc2f0e"
          }
        },
        "71169602918e43aeb3e4fe94a6f9d28e": {
          "model_module": "@jupyter-widgets/controls",
          "model_name": "HTMLModel",
          "state": {
            "_view_name": "HTMLView",
            "style": "IPY_MODEL_0121ca04061142da9b5141b6dc006f59",
            "_dom_classes": [],
            "description": "",
            "_model_name": "HTMLModel",
            "placeholder": "​",
            "_view_module": "@jupyter-widgets/controls",
            "_model_module_version": "1.5.0",
            "value": " 12500/12500 [31:53&lt;00:00,  6.53it/s]",
            "_view_count": null,
            "_view_module_version": "1.5.0",
            "description_tooltip": null,
            "_model_module": "@jupyter-widgets/controls",
            "layout": "IPY_MODEL_6ac885b663dc4e71a1d0806f6d1f613e"
          }
        },
        "d7bb9c473aee4e4582972514afd5197b": {
          "model_module": "@jupyter-widgets/controls",
          "model_name": "ProgressStyleModel",
          "state": {
            "_view_name": "StyleView",
            "_model_name": "ProgressStyleModel",
            "description_width": "initial",
            "_view_module": "@jupyter-widgets/base",
            "_model_module_version": "1.5.0",
            "_view_count": null,
            "_view_module_version": "1.2.0",
            "bar_color": null,
            "_model_module": "@jupyter-widgets/controls"
          }
        },
        "cf45b162cc2948488c89981423cc2f0e": {
          "model_module": "@jupyter-widgets/base",
          "model_name": "LayoutModel",
          "state": {
            "_view_name": "LayoutView",
            "grid_template_rows": null,
            "right": null,
            "justify_content": null,
            "_view_module": "@jupyter-widgets/base",
            "overflow": null,
            "_model_module_version": "1.2.0",
            "_view_count": null,
            "flex_flow": null,
            "width": null,
            "min_width": null,
            "border": null,
            "align_items": null,
            "bottom": null,
            "_model_module": "@jupyter-widgets/base",
            "top": null,
            "grid_column": null,
            "overflow_y": null,
            "overflow_x": null,
            "grid_auto_flow": null,
            "grid_area": null,
            "grid_template_columns": null,
            "flex": null,
            "_model_name": "LayoutModel",
            "justify_items": null,
            "grid_row": null,
            "max_height": null,
            "align_content": null,
            "visibility": null,
            "align_self": null,
            "height": null,
            "min_height": null,
            "padding": null,
            "grid_auto_rows": null,
            "grid_gap": null,
            "max_width": null,
            "order": null,
            "_view_module_version": "1.2.0",
            "grid_template_areas": null,
            "object_position": null,
            "object_fit": null,
            "grid_auto_columns": null,
            "margin": null,
            "display": null,
            "left": null
          }
        },
        "0121ca04061142da9b5141b6dc006f59": {
          "model_module": "@jupyter-widgets/controls",
          "model_name": "DescriptionStyleModel",
          "state": {
            "_view_name": "StyleView",
            "_model_name": "DescriptionStyleModel",
            "description_width": "",
            "_view_module": "@jupyter-widgets/base",
            "_model_module_version": "1.5.0",
            "_view_count": null,
            "_view_module_version": "1.2.0",
            "_model_module": "@jupyter-widgets/controls"
          }
        },
        "6ac885b663dc4e71a1d0806f6d1f613e": {
          "model_module": "@jupyter-widgets/base",
          "model_name": "LayoutModel",
          "state": {
            "_view_name": "LayoutView",
            "grid_template_rows": null,
            "right": null,
            "justify_content": null,
            "_view_module": "@jupyter-widgets/base",
            "overflow": null,
            "_model_module_version": "1.2.0",
            "_view_count": null,
            "flex_flow": null,
            "width": null,
            "min_width": null,
            "border": null,
            "align_items": null,
            "bottom": null,
            "_model_module": "@jupyter-widgets/base",
            "top": null,
            "grid_column": null,
            "overflow_y": null,
            "overflow_x": null,
            "grid_auto_flow": null,
            "grid_area": null,
            "grid_template_columns": null,
            "flex": null,
            "_model_name": "LayoutModel",
            "justify_items": null,
            "grid_row": null,
            "max_height": null,
            "align_content": null,
            "visibility": null,
            "align_self": null,
            "height": null,
            "min_height": null,
            "padding": null,
            "grid_auto_rows": null,
            "grid_gap": null,
            "max_width": null,
            "order": null,
            "_view_module_version": "1.2.0",
            "grid_template_areas": null,
            "object_position": null,
            "object_fit": null,
            "grid_auto_columns": null,
            "margin": null,
            "display": null,
            "left": null
          }
        },
        "f5378ab5e7e040b0b4af5d58f28a2b3d": {
          "model_module": "@jupyter-widgets/controls",
          "model_name": "HBoxModel",
          "state": {
            "_view_name": "HBoxView",
            "_dom_classes": [],
            "_model_name": "HBoxModel",
            "_view_module": "@jupyter-widgets/controls",
            "_model_module_version": "1.5.0",
            "_view_count": null,
            "_view_module_version": "1.5.0",
            "box_style": "",
            "layout": "IPY_MODEL_f02515b504194398b8411c99c3bce882",
            "_model_module": "@jupyter-widgets/controls",
            "children": [
              "IPY_MODEL_0336fa7e43ac4141bf79a6160c85c0ac",
              "IPY_MODEL_76d80a919a634a11bd53f8e955326e45"
            ]
          }
        },
        "f02515b504194398b8411c99c3bce882": {
          "model_module": "@jupyter-widgets/base",
          "model_name": "LayoutModel",
          "state": {
            "_view_name": "LayoutView",
            "grid_template_rows": null,
            "right": null,
            "justify_content": null,
            "_view_module": "@jupyter-widgets/base",
            "overflow": null,
            "_model_module_version": "1.2.0",
            "_view_count": null,
            "flex_flow": null,
            "width": null,
            "min_width": null,
            "border": null,
            "align_items": null,
            "bottom": null,
            "_model_module": "@jupyter-widgets/base",
            "top": null,
            "grid_column": null,
            "overflow_y": null,
            "overflow_x": null,
            "grid_auto_flow": null,
            "grid_area": null,
            "grid_template_columns": null,
            "flex": null,
            "_model_name": "LayoutModel",
            "justify_items": null,
            "grid_row": null,
            "max_height": null,
            "align_content": null,
            "visibility": null,
            "align_self": null,
            "height": null,
            "min_height": null,
            "padding": null,
            "grid_auto_rows": null,
            "grid_gap": null,
            "max_width": null,
            "order": null,
            "_view_module_version": "1.2.0",
            "grid_template_areas": null,
            "object_position": null,
            "object_fit": null,
            "grid_auto_columns": null,
            "margin": null,
            "display": null,
            "left": null
          }
        },
        "0336fa7e43ac4141bf79a6160c85c0ac": {
          "model_module": "@jupyter-widgets/controls",
          "model_name": "FloatProgressModel",
          "state": {
            "_view_name": "ProgressView",
            "style": "IPY_MODEL_62ffe91dd9144812878e3444e74c4e28",
            "_dom_classes": [],
            "description": "100%",
            "_model_name": "FloatProgressModel",
            "bar_style": "success",
            "max": 12500,
            "_view_module": "@jupyter-widgets/controls",
            "_model_module_version": "1.5.0",
            "value": 12500,
            "_view_count": null,
            "_view_module_version": "1.5.0",
            "orientation": "horizontal",
            "min": 0,
            "description_tooltip": null,
            "_model_module": "@jupyter-widgets/controls",
            "layout": "IPY_MODEL_6b6c931b16e548ef9f22c74e9cb5e5c5"
          }
        },
        "76d80a919a634a11bd53f8e955326e45": {
          "model_module": "@jupyter-widgets/controls",
          "model_name": "HTMLModel",
          "state": {
            "_view_name": "HTMLView",
            "style": "IPY_MODEL_fe24d3aa279442209205d613179e420f",
            "_dom_classes": [],
            "description": "",
            "_model_name": "HTMLModel",
            "placeholder": "​",
            "_view_module": "@jupyter-widgets/controls",
            "_model_module_version": "1.5.0",
            "value": " 12500/12500 [01:44&lt;00:00, 119.21it/s]",
            "_view_count": null,
            "_view_module_version": "1.5.0",
            "description_tooltip": null,
            "_model_module": "@jupyter-widgets/controls",
            "layout": "IPY_MODEL_126d073677ad4da0af909216736d80aa"
          }
        },
        "62ffe91dd9144812878e3444e74c4e28": {
          "model_module": "@jupyter-widgets/controls",
          "model_name": "ProgressStyleModel",
          "state": {
            "_view_name": "StyleView",
            "_model_name": "ProgressStyleModel",
            "description_width": "initial",
            "_view_module": "@jupyter-widgets/base",
            "_model_module_version": "1.5.0",
            "_view_count": null,
            "_view_module_version": "1.2.0",
            "bar_color": null,
            "_model_module": "@jupyter-widgets/controls"
          }
        },
        "6b6c931b16e548ef9f22c74e9cb5e5c5": {
          "model_module": "@jupyter-widgets/base",
          "model_name": "LayoutModel",
          "state": {
            "_view_name": "LayoutView",
            "grid_template_rows": null,
            "right": null,
            "justify_content": null,
            "_view_module": "@jupyter-widgets/base",
            "overflow": null,
            "_model_module_version": "1.2.0",
            "_view_count": null,
            "flex_flow": null,
            "width": null,
            "min_width": null,
            "border": null,
            "align_items": null,
            "bottom": null,
            "_model_module": "@jupyter-widgets/base",
            "top": null,
            "grid_column": null,
            "overflow_y": null,
            "overflow_x": null,
            "grid_auto_flow": null,
            "grid_area": null,
            "grid_template_columns": null,
            "flex": null,
            "_model_name": "LayoutModel",
            "justify_items": null,
            "grid_row": null,
            "max_height": null,
            "align_content": null,
            "visibility": null,
            "align_self": null,
            "height": null,
            "min_height": null,
            "padding": null,
            "grid_auto_rows": null,
            "grid_gap": null,
            "max_width": null,
            "order": null,
            "_view_module_version": "1.2.0",
            "grid_template_areas": null,
            "object_position": null,
            "object_fit": null,
            "grid_auto_columns": null,
            "margin": null,
            "display": null,
            "left": null
          }
        },
        "fe24d3aa279442209205d613179e420f": {
          "model_module": "@jupyter-widgets/controls",
          "model_name": "DescriptionStyleModel",
          "state": {
            "_view_name": "StyleView",
            "_model_name": "DescriptionStyleModel",
            "description_width": "",
            "_view_module": "@jupyter-widgets/base",
            "_model_module_version": "1.5.0",
            "_view_count": null,
            "_view_module_version": "1.2.0",
            "_model_module": "@jupyter-widgets/controls"
          }
        },
        "126d073677ad4da0af909216736d80aa": {
          "model_module": "@jupyter-widgets/base",
          "model_name": "LayoutModel",
          "state": {
            "_view_name": "LayoutView",
            "grid_template_rows": null,
            "right": null,
            "justify_content": null,
            "_view_module": "@jupyter-widgets/base",
            "overflow": null,
            "_model_module_version": "1.2.0",
            "_view_count": null,
            "flex_flow": null,
            "width": null,
            "min_width": null,
            "border": null,
            "align_items": null,
            "bottom": null,
            "_model_module": "@jupyter-widgets/base",
            "top": null,
            "grid_column": null,
            "overflow_y": null,
            "overflow_x": null,
            "grid_auto_flow": null,
            "grid_area": null,
            "grid_template_columns": null,
            "flex": null,
            "_model_name": "LayoutModel",
            "justify_items": null,
            "grid_row": null,
            "max_height": null,
            "align_content": null,
            "visibility": null,
            "align_self": null,
            "height": null,
            "min_height": null,
            "padding": null,
            "grid_auto_rows": null,
            "grid_gap": null,
            "max_width": null,
            "order": null,
            "_view_module_version": "1.2.0",
            "grid_template_areas": null,
            "object_position": null,
            "object_fit": null,
            "grid_auto_columns": null,
            "margin": null,
            "display": null,
            "left": null
          }
        },
        "2ff5999dac0347b08f944b06a4ea25b5": {
          "model_module": "@jupyter-widgets/controls",
          "model_name": "HBoxModel",
          "state": {
            "_view_name": "HBoxView",
            "_dom_classes": [],
            "_model_name": "HBoxModel",
            "_view_module": "@jupyter-widgets/controls",
            "_model_module_version": "1.5.0",
            "_view_count": null,
            "_view_module_version": "1.5.0",
            "box_style": "",
            "layout": "IPY_MODEL_8b0b0cb9cb1e458fb46f303d958d56ef",
            "_model_module": "@jupyter-widgets/controls",
            "children": [
              "IPY_MODEL_fb791780248e4ea4b03cafb6ec17aea3",
              "IPY_MODEL_9b8bb405e55e409c9f9da1c6ea096e75"
            ]
          }
        },
        "8b0b0cb9cb1e458fb46f303d958d56ef": {
          "model_module": "@jupyter-widgets/base",
          "model_name": "LayoutModel",
          "state": {
            "_view_name": "LayoutView",
            "grid_template_rows": null,
            "right": null,
            "justify_content": null,
            "_view_module": "@jupyter-widgets/base",
            "overflow": null,
            "_model_module_version": "1.2.0",
            "_view_count": null,
            "flex_flow": null,
            "width": null,
            "min_width": null,
            "border": null,
            "align_items": null,
            "bottom": null,
            "_model_module": "@jupyter-widgets/base",
            "top": null,
            "grid_column": null,
            "overflow_y": null,
            "overflow_x": null,
            "grid_auto_flow": null,
            "grid_area": null,
            "grid_template_columns": null,
            "flex": null,
            "_model_name": "LayoutModel",
            "justify_items": null,
            "grid_row": null,
            "max_height": null,
            "align_content": null,
            "visibility": null,
            "align_self": null,
            "height": null,
            "min_height": null,
            "padding": null,
            "grid_auto_rows": null,
            "grid_gap": null,
            "max_width": null,
            "order": null,
            "_view_module_version": "1.2.0",
            "grid_template_areas": null,
            "object_position": null,
            "object_fit": null,
            "grid_auto_columns": null,
            "margin": null,
            "display": null,
            "left": null
          }
        },
        "fb791780248e4ea4b03cafb6ec17aea3": {
          "model_module": "@jupyter-widgets/controls",
          "model_name": "FloatProgressModel",
          "state": {
            "_view_name": "ProgressView",
            "style": "IPY_MODEL_81c2f0c06c0a4901af6409e82dc8d2e0",
            "_dom_classes": [],
            "description": "100%",
            "_model_name": "FloatProgressModel",
            "bar_style": "success",
            "max": 12500,
            "_view_module": "@jupyter-widgets/controls",
            "_model_module_version": "1.5.0",
            "value": 12500,
            "_view_count": null,
            "_view_module_version": "1.5.0",
            "orientation": "horizontal",
            "min": 0,
            "description_tooltip": null,
            "_model_module": "@jupyter-widgets/controls",
            "layout": "IPY_MODEL_c799acefce484e8eb031e76f7db1804f"
          }
        },
        "9b8bb405e55e409c9f9da1c6ea096e75": {
          "model_module": "@jupyter-widgets/controls",
          "model_name": "HTMLModel",
          "state": {
            "_view_name": "HTMLView",
            "style": "IPY_MODEL_af57dd018cea484e9dc942f243c35f0a",
            "_dom_classes": [],
            "description": "",
            "_model_name": "HTMLModel",
            "placeholder": "​",
            "_view_module": "@jupyter-widgets/controls",
            "_model_module_version": "1.5.0",
            "value": " 12500/12500 [28:39&lt;00:00,  7.27it/s]",
            "_view_count": null,
            "_view_module_version": "1.5.0",
            "description_tooltip": null,
            "_model_module": "@jupyter-widgets/controls",
            "layout": "IPY_MODEL_2a123c8ae7a3411a83762b302f8977e5"
          }
        },
        "81c2f0c06c0a4901af6409e82dc8d2e0": {
          "model_module": "@jupyter-widgets/controls",
          "model_name": "ProgressStyleModel",
          "state": {
            "_view_name": "StyleView",
            "_model_name": "ProgressStyleModel",
            "description_width": "initial",
            "_view_module": "@jupyter-widgets/base",
            "_model_module_version": "1.5.0",
            "_view_count": null,
            "_view_module_version": "1.2.0",
            "bar_color": null,
            "_model_module": "@jupyter-widgets/controls"
          }
        },
        "c799acefce484e8eb031e76f7db1804f": {
          "model_module": "@jupyter-widgets/base",
          "model_name": "LayoutModel",
          "state": {
            "_view_name": "LayoutView",
            "grid_template_rows": null,
            "right": null,
            "justify_content": null,
            "_view_module": "@jupyter-widgets/base",
            "overflow": null,
            "_model_module_version": "1.2.0",
            "_view_count": null,
            "flex_flow": null,
            "width": null,
            "min_width": null,
            "border": null,
            "align_items": null,
            "bottom": null,
            "_model_module": "@jupyter-widgets/base",
            "top": null,
            "grid_column": null,
            "overflow_y": null,
            "overflow_x": null,
            "grid_auto_flow": null,
            "grid_area": null,
            "grid_template_columns": null,
            "flex": null,
            "_model_name": "LayoutModel",
            "justify_items": null,
            "grid_row": null,
            "max_height": null,
            "align_content": null,
            "visibility": null,
            "align_self": null,
            "height": null,
            "min_height": null,
            "padding": null,
            "grid_auto_rows": null,
            "grid_gap": null,
            "max_width": null,
            "order": null,
            "_view_module_version": "1.2.0",
            "grid_template_areas": null,
            "object_position": null,
            "object_fit": null,
            "grid_auto_columns": null,
            "margin": null,
            "display": null,
            "left": null
          }
        },
        "af57dd018cea484e9dc942f243c35f0a": {
          "model_module": "@jupyter-widgets/controls",
          "model_name": "DescriptionStyleModel",
          "state": {
            "_view_name": "StyleView",
            "_model_name": "DescriptionStyleModel",
            "description_width": "",
            "_view_module": "@jupyter-widgets/base",
            "_model_module_version": "1.5.0",
            "_view_count": null,
            "_view_module_version": "1.2.0",
            "_model_module": "@jupyter-widgets/controls"
          }
        },
        "2a123c8ae7a3411a83762b302f8977e5": {
          "model_module": "@jupyter-widgets/base",
          "model_name": "LayoutModel",
          "state": {
            "_view_name": "LayoutView",
            "grid_template_rows": null,
            "right": null,
            "justify_content": null,
            "_view_module": "@jupyter-widgets/base",
            "overflow": null,
            "_model_module_version": "1.2.0",
            "_view_count": null,
            "flex_flow": null,
            "width": null,
            "min_width": null,
            "border": null,
            "align_items": null,
            "bottom": null,
            "_model_module": "@jupyter-widgets/base",
            "top": null,
            "grid_column": null,
            "overflow_y": null,
            "overflow_x": null,
            "grid_auto_flow": null,
            "grid_area": null,
            "grid_template_columns": null,
            "flex": null,
            "_model_name": "LayoutModel",
            "justify_items": null,
            "grid_row": null,
            "max_height": null,
            "align_content": null,
            "visibility": null,
            "align_self": null,
            "height": null,
            "min_height": null,
            "padding": null,
            "grid_auto_rows": null,
            "grid_gap": null,
            "max_width": null,
            "order": null,
            "_view_module_version": "1.2.0",
            "grid_template_areas": null,
            "object_position": null,
            "object_fit": null,
            "grid_auto_columns": null,
            "margin": null,
            "display": null,
            "left": null
          }
        },
        "5386814373434ac29d1fc0092e2bdc01": {
          "model_module": "@jupyter-widgets/controls",
          "model_name": "HBoxModel",
          "state": {
            "_view_name": "HBoxView",
            "_dom_classes": [],
            "_model_name": "HBoxModel",
            "_view_module": "@jupyter-widgets/controls",
            "_model_module_version": "1.5.0",
            "_view_count": null,
            "_view_module_version": "1.5.0",
            "box_style": "",
            "layout": "IPY_MODEL_38ca6e995ff94f4f904ecffe7f861a03",
            "_model_module": "@jupyter-widgets/controls",
            "children": [
              "IPY_MODEL_8d0e55f89cbf4b41a29269f8095377da",
              "IPY_MODEL_338d773753464433b46757e4a9f587f9"
            ]
          }
        },
        "38ca6e995ff94f4f904ecffe7f861a03": {
          "model_module": "@jupyter-widgets/base",
          "model_name": "LayoutModel",
          "state": {
            "_view_name": "LayoutView",
            "grid_template_rows": null,
            "right": null,
            "justify_content": null,
            "_view_module": "@jupyter-widgets/base",
            "overflow": null,
            "_model_module_version": "1.2.0",
            "_view_count": null,
            "flex_flow": null,
            "width": null,
            "min_width": null,
            "border": null,
            "align_items": null,
            "bottom": null,
            "_model_module": "@jupyter-widgets/base",
            "top": null,
            "grid_column": null,
            "overflow_y": null,
            "overflow_x": null,
            "grid_auto_flow": null,
            "grid_area": null,
            "grid_template_columns": null,
            "flex": null,
            "_model_name": "LayoutModel",
            "justify_items": null,
            "grid_row": null,
            "max_height": null,
            "align_content": null,
            "visibility": null,
            "align_self": null,
            "height": null,
            "min_height": null,
            "padding": null,
            "grid_auto_rows": null,
            "grid_gap": null,
            "max_width": null,
            "order": null,
            "_view_module_version": "1.2.0",
            "grid_template_areas": null,
            "object_position": null,
            "object_fit": null,
            "grid_auto_columns": null,
            "margin": null,
            "display": null,
            "left": null
          }
        },
        "8d0e55f89cbf4b41a29269f8095377da": {
          "model_module": "@jupyter-widgets/controls",
          "model_name": "FloatProgressModel",
          "state": {
            "_view_name": "ProgressView",
            "style": "IPY_MODEL_bd2a0400f54a4c2c9185e9a9a7c89104",
            "_dom_classes": [],
            "description": "100%",
            "_model_name": "FloatProgressModel",
            "bar_style": "success",
            "max": 12500,
            "_view_module": "@jupyter-widgets/controls",
            "_model_module_version": "1.5.0",
            "value": 12500,
            "_view_count": null,
            "_view_module_version": "1.5.0",
            "orientation": "horizontal",
            "min": 0,
            "description_tooltip": null,
            "_model_module": "@jupyter-widgets/controls",
            "layout": "IPY_MODEL_fe86086888814f6a8e84ddda25bc48a2"
          }
        },
        "338d773753464433b46757e4a9f587f9": {
          "model_module": "@jupyter-widgets/controls",
          "model_name": "HTMLModel",
          "state": {
            "_view_name": "HTMLView",
            "style": "IPY_MODEL_4b6d6f231c23411dae8653567811c3dd",
            "_dom_classes": [],
            "description": "",
            "_model_name": "HTMLModel",
            "placeholder": "​",
            "_view_module": "@jupyter-widgets/controls",
            "_model_module_version": "1.5.0",
            "value": " 12500/12500 [01:54&lt;00:00, 109.19it/s]",
            "_view_count": null,
            "_view_module_version": "1.5.0",
            "description_tooltip": null,
            "_model_module": "@jupyter-widgets/controls",
            "layout": "IPY_MODEL_23ffc345481446de9cc1ffb2d8abd433"
          }
        },
        "bd2a0400f54a4c2c9185e9a9a7c89104": {
          "model_module": "@jupyter-widgets/controls",
          "model_name": "ProgressStyleModel",
          "state": {
            "_view_name": "StyleView",
            "_model_name": "ProgressStyleModel",
            "description_width": "initial",
            "_view_module": "@jupyter-widgets/base",
            "_model_module_version": "1.5.0",
            "_view_count": null,
            "_view_module_version": "1.2.0",
            "bar_color": null,
            "_model_module": "@jupyter-widgets/controls"
          }
        },
        "fe86086888814f6a8e84ddda25bc48a2": {
          "model_module": "@jupyter-widgets/base",
          "model_name": "LayoutModel",
          "state": {
            "_view_name": "LayoutView",
            "grid_template_rows": null,
            "right": null,
            "justify_content": null,
            "_view_module": "@jupyter-widgets/base",
            "overflow": null,
            "_model_module_version": "1.2.0",
            "_view_count": null,
            "flex_flow": null,
            "width": null,
            "min_width": null,
            "border": null,
            "align_items": null,
            "bottom": null,
            "_model_module": "@jupyter-widgets/base",
            "top": null,
            "grid_column": null,
            "overflow_y": null,
            "overflow_x": null,
            "grid_auto_flow": null,
            "grid_area": null,
            "grid_template_columns": null,
            "flex": null,
            "_model_name": "LayoutModel",
            "justify_items": null,
            "grid_row": null,
            "max_height": null,
            "align_content": null,
            "visibility": null,
            "align_self": null,
            "height": null,
            "min_height": null,
            "padding": null,
            "grid_auto_rows": null,
            "grid_gap": null,
            "max_width": null,
            "order": null,
            "_view_module_version": "1.2.0",
            "grid_template_areas": null,
            "object_position": null,
            "object_fit": null,
            "grid_auto_columns": null,
            "margin": null,
            "display": null,
            "left": null
          }
        },
        "4b6d6f231c23411dae8653567811c3dd": {
          "model_module": "@jupyter-widgets/controls",
          "model_name": "DescriptionStyleModel",
          "state": {
            "_view_name": "StyleView",
            "_model_name": "DescriptionStyleModel",
            "description_width": "",
            "_view_module": "@jupyter-widgets/base",
            "_model_module_version": "1.5.0",
            "_view_count": null,
            "_view_module_version": "1.2.0",
            "_model_module": "@jupyter-widgets/controls"
          }
        },
        "23ffc345481446de9cc1ffb2d8abd433": {
          "model_module": "@jupyter-widgets/base",
          "model_name": "LayoutModel",
          "state": {
            "_view_name": "LayoutView",
            "grid_template_rows": null,
            "right": null,
            "justify_content": null,
            "_view_module": "@jupyter-widgets/base",
            "overflow": null,
            "_model_module_version": "1.2.0",
            "_view_count": null,
            "flex_flow": null,
            "width": null,
            "min_width": null,
            "border": null,
            "align_items": null,
            "bottom": null,
            "_model_module": "@jupyter-widgets/base",
            "top": null,
            "grid_column": null,
            "overflow_y": null,
            "overflow_x": null,
            "grid_auto_flow": null,
            "grid_area": null,
            "grid_template_columns": null,
            "flex": null,
            "_model_name": "LayoutModel",
            "justify_items": null,
            "grid_row": null,
            "max_height": null,
            "align_content": null,
            "visibility": null,
            "align_self": null,
            "height": null,
            "min_height": null,
            "padding": null,
            "grid_auto_rows": null,
            "grid_gap": null,
            "max_width": null,
            "order": null,
            "_view_module_version": "1.2.0",
            "grid_template_areas": null,
            "object_position": null,
            "object_fit": null,
            "grid_auto_columns": null,
            "margin": null,
            "display": null,
            "left": null
          }
        },
        "31faf36d34434e608cd2a2d7662bc580": {
          "model_module": "@jupyter-widgets/controls",
          "model_name": "HBoxModel",
          "state": {
            "_view_name": "HBoxView",
            "_dom_classes": [],
            "_model_name": "HBoxModel",
            "_view_module": "@jupyter-widgets/controls",
            "_model_module_version": "1.5.0",
            "_view_count": null,
            "_view_module_version": "1.5.0",
            "box_style": "",
            "layout": "IPY_MODEL_eb50ebcd421a4397839cc4122d351cdf",
            "_model_module": "@jupyter-widgets/controls",
            "children": [
              "IPY_MODEL_bfb2cc0a629045f78d8ac2f0ce1b059a",
              "IPY_MODEL_0fa78945fbe24f98a3d38e7b544003c3"
            ]
          }
        },
        "eb50ebcd421a4397839cc4122d351cdf": {
          "model_module": "@jupyter-widgets/base",
          "model_name": "LayoutModel",
          "state": {
            "_view_name": "LayoutView",
            "grid_template_rows": null,
            "right": null,
            "justify_content": null,
            "_view_module": "@jupyter-widgets/base",
            "overflow": null,
            "_model_module_version": "1.2.0",
            "_view_count": null,
            "flex_flow": null,
            "width": null,
            "min_width": null,
            "border": null,
            "align_items": null,
            "bottom": null,
            "_model_module": "@jupyter-widgets/base",
            "top": null,
            "grid_column": null,
            "overflow_y": null,
            "overflow_x": null,
            "grid_auto_flow": null,
            "grid_area": null,
            "grid_template_columns": null,
            "flex": null,
            "_model_name": "LayoutModel",
            "justify_items": null,
            "grid_row": null,
            "max_height": null,
            "align_content": null,
            "visibility": null,
            "align_self": null,
            "height": null,
            "min_height": null,
            "padding": null,
            "grid_auto_rows": null,
            "grid_gap": null,
            "max_width": null,
            "order": null,
            "_view_module_version": "1.2.0",
            "grid_template_areas": null,
            "object_position": null,
            "object_fit": null,
            "grid_auto_columns": null,
            "margin": null,
            "display": null,
            "left": null
          }
        },
        "bfb2cc0a629045f78d8ac2f0ce1b059a": {
          "model_module": "@jupyter-widgets/controls",
          "model_name": "FloatProgressModel",
          "state": {
            "_view_name": "ProgressView",
            "style": "IPY_MODEL_4f4f0635bca34e378b65bc8d2645fc1d",
            "_dom_classes": [],
            "description": "100%",
            "_model_name": "FloatProgressModel",
            "bar_style": "success",
            "max": 12500,
            "_view_module": "@jupyter-widgets/controls",
            "_model_module_version": "1.5.0",
            "value": 12500,
            "_view_count": null,
            "_view_module_version": "1.5.0",
            "orientation": "horizontal",
            "min": 0,
            "description_tooltip": null,
            "_model_module": "@jupyter-widgets/controls",
            "layout": "IPY_MODEL_29ecf95ab1504a64b998b877608fa435"
          }
        },
        "0fa78945fbe24f98a3d38e7b544003c3": {
          "model_module": "@jupyter-widgets/controls",
          "model_name": "HTMLModel",
          "state": {
            "_view_name": "HTMLView",
            "style": "IPY_MODEL_beef7c3995ad421abe4b9a628c460c36",
            "_dom_classes": [],
            "description": "",
            "_model_name": "HTMLModel",
            "placeholder": "​",
            "_view_module": "@jupyter-widgets/controls",
            "_model_module_version": "1.5.0",
            "value": " 12500/12500 [25:28&lt;00:00,  8.18it/s]",
            "_view_count": null,
            "_view_module_version": "1.5.0",
            "description_tooltip": null,
            "_model_module": "@jupyter-widgets/controls",
            "layout": "IPY_MODEL_0058f3907aa14c07bdec3f3cb44d16e7"
          }
        },
        "4f4f0635bca34e378b65bc8d2645fc1d": {
          "model_module": "@jupyter-widgets/controls",
          "model_name": "ProgressStyleModel",
          "state": {
            "_view_name": "StyleView",
            "_model_name": "ProgressStyleModel",
            "description_width": "initial",
            "_view_module": "@jupyter-widgets/base",
            "_model_module_version": "1.5.0",
            "_view_count": null,
            "_view_module_version": "1.2.0",
            "bar_color": null,
            "_model_module": "@jupyter-widgets/controls"
          }
        },
        "29ecf95ab1504a64b998b877608fa435": {
          "model_module": "@jupyter-widgets/base",
          "model_name": "LayoutModel",
          "state": {
            "_view_name": "LayoutView",
            "grid_template_rows": null,
            "right": null,
            "justify_content": null,
            "_view_module": "@jupyter-widgets/base",
            "overflow": null,
            "_model_module_version": "1.2.0",
            "_view_count": null,
            "flex_flow": null,
            "width": null,
            "min_width": null,
            "border": null,
            "align_items": null,
            "bottom": null,
            "_model_module": "@jupyter-widgets/base",
            "top": null,
            "grid_column": null,
            "overflow_y": null,
            "overflow_x": null,
            "grid_auto_flow": null,
            "grid_area": null,
            "grid_template_columns": null,
            "flex": null,
            "_model_name": "LayoutModel",
            "justify_items": null,
            "grid_row": null,
            "max_height": null,
            "align_content": null,
            "visibility": null,
            "align_self": null,
            "height": null,
            "min_height": null,
            "padding": null,
            "grid_auto_rows": null,
            "grid_gap": null,
            "max_width": null,
            "order": null,
            "_view_module_version": "1.2.0",
            "grid_template_areas": null,
            "object_position": null,
            "object_fit": null,
            "grid_auto_columns": null,
            "margin": null,
            "display": null,
            "left": null
          }
        },
        "beef7c3995ad421abe4b9a628c460c36": {
          "model_module": "@jupyter-widgets/controls",
          "model_name": "DescriptionStyleModel",
          "state": {
            "_view_name": "StyleView",
            "_model_name": "DescriptionStyleModel",
            "description_width": "",
            "_view_module": "@jupyter-widgets/base",
            "_model_module_version": "1.5.0",
            "_view_count": null,
            "_view_module_version": "1.2.0",
            "_model_module": "@jupyter-widgets/controls"
          }
        },
        "0058f3907aa14c07bdec3f3cb44d16e7": {
          "model_module": "@jupyter-widgets/base",
          "model_name": "LayoutModel",
          "state": {
            "_view_name": "LayoutView",
            "grid_template_rows": null,
            "right": null,
            "justify_content": null,
            "_view_module": "@jupyter-widgets/base",
            "overflow": null,
            "_model_module_version": "1.2.0",
            "_view_count": null,
            "flex_flow": null,
            "width": null,
            "min_width": null,
            "border": null,
            "align_items": null,
            "bottom": null,
            "_model_module": "@jupyter-widgets/base",
            "top": null,
            "grid_column": null,
            "overflow_y": null,
            "overflow_x": null,
            "grid_auto_flow": null,
            "grid_area": null,
            "grid_template_columns": null,
            "flex": null,
            "_model_name": "LayoutModel",
            "justify_items": null,
            "grid_row": null,
            "max_height": null,
            "align_content": null,
            "visibility": null,
            "align_self": null,
            "height": null,
            "min_height": null,
            "padding": null,
            "grid_auto_rows": null,
            "grid_gap": null,
            "max_width": null,
            "order": null,
            "_view_module_version": "1.2.0",
            "grid_template_areas": null,
            "object_position": null,
            "object_fit": null,
            "grid_auto_columns": null,
            "margin": null,
            "display": null,
            "left": null
          }
        },
        "3ac5a0f33452492cb9e83f18cb9a81f0": {
          "model_module": "@jupyter-widgets/controls",
          "model_name": "HBoxModel",
          "state": {
            "_view_name": "HBoxView",
            "_dom_classes": [],
            "_model_name": "HBoxModel",
            "_view_module": "@jupyter-widgets/controls",
            "_model_module_version": "1.5.0",
            "_view_count": null,
            "_view_module_version": "1.5.0",
            "box_style": "",
            "layout": "IPY_MODEL_060d3f212acd494cae8835a43e73a192",
            "_model_module": "@jupyter-widgets/controls",
            "children": [
              "IPY_MODEL_fde58b0a3059497390947c5aab336949",
              "IPY_MODEL_291474acc148440f9191060e53977e90"
            ]
          }
        },
        "060d3f212acd494cae8835a43e73a192": {
          "model_module": "@jupyter-widgets/base",
          "model_name": "LayoutModel",
          "state": {
            "_view_name": "LayoutView",
            "grid_template_rows": null,
            "right": null,
            "justify_content": null,
            "_view_module": "@jupyter-widgets/base",
            "overflow": null,
            "_model_module_version": "1.2.0",
            "_view_count": null,
            "flex_flow": null,
            "width": null,
            "min_width": null,
            "border": null,
            "align_items": null,
            "bottom": null,
            "_model_module": "@jupyter-widgets/base",
            "top": null,
            "grid_column": null,
            "overflow_y": null,
            "overflow_x": null,
            "grid_auto_flow": null,
            "grid_area": null,
            "grid_template_columns": null,
            "flex": null,
            "_model_name": "LayoutModel",
            "justify_items": null,
            "grid_row": null,
            "max_height": null,
            "align_content": null,
            "visibility": null,
            "align_self": null,
            "height": null,
            "min_height": null,
            "padding": null,
            "grid_auto_rows": null,
            "grid_gap": null,
            "max_width": null,
            "order": null,
            "_view_module_version": "1.2.0",
            "grid_template_areas": null,
            "object_position": null,
            "object_fit": null,
            "grid_auto_columns": null,
            "margin": null,
            "display": null,
            "left": null
          }
        },
        "fde58b0a3059497390947c5aab336949": {
          "model_module": "@jupyter-widgets/controls",
          "model_name": "FloatProgressModel",
          "state": {
            "_view_name": "ProgressView",
            "style": "IPY_MODEL_d1ce4846a1f0456fbf70c60751dd6644",
            "_dom_classes": [],
            "description": "100%",
            "_model_name": "FloatProgressModel",
            "bar_style": "success",
            "max": 12500,
            "_view_module": "@jupyter-widgets/controls",
            "_model_module_version": "1.5.0",
            "value": 12500,
            "_view_count": null,
            "_view_module_version": "1.5.0",
            "orientation": "horizontal",
            "min": 0,
            "description_tooltip": null,
            "_model_module": "@jupyter-widgets/controls",
            "layout": "IPY_MODEL_31e7ad08d40146b3a7b512bdcd2a45c6"
          }
        },
        "291474acc148440f9191060e53977e90": {
          "model_module": "@jupyter-widgets/controls",
          "model_name": "HTMLModel",
          "state": {
            "_view_name": "HTMLView",
            "style": "IPY_MODEL_c462f966a3624b57b14c0e11577b75d4",
            "_dom_classes": [],
            "description": "",
            "_model_name": "HTMLModel",
            "placeholder": "​",
            "_view_module": "@jupyter-widgets/controls",
            "_model_module_version": "1.5.0",
            "value": " 12500/12500 [03:10&lt;00:00, 65.57it/s]",
            "_view_count": null,
            "_view_module_version": "1.5.0",
            "description_tooltip": null,
            "_model_module": "@jupyter-widgets/controls",
            "layout": "IPY_MODEL_3f4caa431ea342939b07f25bbf42ca5f"
          }
        },
        "d1ce4846a1f0456fbf70c60751dd6644": {
          "model_module": "@jupyter-widgets/controls",
          "model_name": "ProgressStyleModel",
          "state": {
            "_view_name": "StyleView",
            "_model_name": "ProgressStyleModel",
            "description_width": "initial",
            "_view_module": "@jupyter-widgets/base",
            "_model_module_version": "1.5.0",
            "_view_count": null,
            "_view_module_version": "1.2.0",
            "bar_color": null,
            "_model_module": "@jupyter-widgets/controls"
          }
        },
        "31e7ad08d40146b3a7b512bdcd2a45c6": {
          "model_module": "@jupyter-widgets/base",
          "model_name": "LayoutModel",
          "state": {
            "_view_name": "LayoutView",
            "grid_template_rows": null,
            "right": null,
            "justify_content": null,
            "_view_module": "@jupyter-widgets/base",
            "overflow": null,
            "_model_module_version": "1.2.0",
            "_view_count": null,
            "flex_flow": null,
            "width": null,
            "min_width": null,
            "border": null,
            "align_items": null,
            "bottom": null,
            "_model_module": "@jupyter-widgets/base",
            "top": null,
            "grid_column": null,
            "overflow_y": null,
            "overflow_x": null,
            "grid_auto_flow": null,
            "grid_area": null,
            "grid_template_columns": null,
            "flex": null,
            "_model_name": "LayoutModel",
            "justify_items": null,
            "grid_row": null,
            "max_height": null,
            "align_content": null,
            "visibility": null,
            "align_self": null,
            "height": null,
            "min_height": null,
            "padding": null,
            "grid_auto_rows": null,
            "grid_gap": null,
            "max_width": null,
            "order": null,
            "_view_module_version": "1.2.0",
            "grid_template_areas": null,
            "object_position": null,
            "object_fit": null,
            "grid_auto_columns": null,
            "margin": null,
            "display": null,
            "left": null
          }
        },
        "c462f966a3624b57b14c0e11577b75d4": {
          "model_module": "@jupyter-widgets/controls",
          "model_name": "DescriptionStyleModel",
          "state": {
            "_view_name": "StyleView",
            "_model_name": "DescriptionStyleModel",
            "description_width": "",
            "_view_module": "@jupyter-widgets/base",
            "_model_module_version": "1.5.0",
            "_view_count": null,
            "_view_module_version": "1.2.0",
            "_model_module": "@jupyter-widgets/controls"
          }
        },
        "3f4caa431ea342939b07f25bbf42ca5f": {
          "model_module": "@jupyter-widgets/base",
          "model_name": "LayoutModel",
          "state": {
            "_view_name": "LayoutView",
            "grid_template_rows": null,
            "right": null,
            "justify_content": null,
            "_view_module": "@jupyter-widgets/base",
            "overflow": null,
            "_model_module_version": "1.2.0",
            "_view_count": null,
            "flex_flow": null,
            "width": null,
            "min_width": null,
            "border": null,
            "align_items": null,
            "bottom": null,
            "_model_module": "@jupyter-widgets/base",
            "top": null,
            "grid_column": null,
            "overflow_y": null,
            "overflow_x": null,
            "grid_auto_flow": null,
            "grid_area": null,
            "grid_template_columns": null,
            "flex": null,
            "_model_name": "LayoutModel",
            "justify_items": null,
            "grid_row": null,
            "max_height": null,
            "align_content": null,
            "visibility": null,
            "align_self": null,
            "height": null,
            "min_height": null,
            "padding": null,
            "grid_auto_rows": null,
            "grid_gap": null,
            "max_width": null,
            "order": null,
            "_view_module_version": "1.2.0",
            "grid_template_areas": null,
            "object_position": null,
            "object_fit": null,
            "grid_auto_columns": null,
            "margin": null,
            "display": null,
            "left": null
          }
        },
        "3fc4c2c3740f4f10b7283ee5ae9a039d": {
          "model_module": "@jupyter-widgets/controls",
          "model_name": "HBoxModel",
          "state": {
            "_view_name": "HBoxView",
            "_dom_classes": [],
            "_model_name": "HBoxModel",
            "_view_module": "@jupyter-widgets/controls",
            "_model_module_version": "1.5.0",
            "_view_count": null,
            "_view_module_version": "1.5.0",
            "box_style": "",
            "layout": "IPY_MODEL_5e6e365ced554802b90f076d2caa598f",
            "_model_module": "@jupyter-widgets/controls",
            "children": [
              "IPY_MODEL_7eb6f92081da418d928408123af97575",
              "IPY_MODEL_55ad369bf3674a9299ef0447e115abf9"
            ]
          }
        },
        "5e6e365ced554802b90f076d2caa598f": {
          "model_module": "@jupyter-widgets/base",
          "model_name": "LayoutModel",
          "state": {
            "_view_name": "LayoutView",
            "grid_template_rows": null,
            "right": null,
            "justify_content": null,
            "_view_module": "@jupyter-widgets/base",
            "overflow": null,
            "_model_module_version": "1.2.0",
            "_view_count": null,
            "flex_flow": null,
            "width": null,
            "min_width": null,
            "border": null,
            "align_items": null,
            "bottom": null,
            "_model_module": "@jupyter-widgets/base",
            "top": null,
            "grid_column": null,
            "overflow_y": null,
            "overflow_x": null,
            "grid_auto_flow": null,
            "grid_area": null,
            "grid_template_columns": null,
            "flex": null,
            "_model_name": "LayoutModel",
            "justify_items": null,
            "grid_row": null,
            "max_height": null,
            "align_content": null,
            "visibility": null,
            "align_self": null,
            "height": null,
            "min_height": null,
            "padding": null,
            "grid_auto_rows": null,
            "grid_gap": null,
            "max_width": null,
            "order": null,
            "_view_module_version": "1.2.0",
            "grid_template_areas": null,
            "object_position": null,
            "object_fit": null,
            "grid_auto_columns": null,
            "margin": null,
            "display": null,
            "left": null
          }
        },
        "7eb6f92081da418d928408123af97575": {
          "model_module": "@jupyter-widgets/controls",
          "model_name": "FloatProgressModel",
          "state": {
            "_view_name": "ProgressView",
            "style": "IPY_MODEL_4ea4931e2bd2431aa0cfb839345ea18a",
            "_dom_classes": [],
            "description": "100%",
            "_model_name": "FloatProgressModel",
            "bar_style": "success",
            "max": 12500,
            "_view_module": "@jupyter-widgets/controls",
            "_model_module_version": "1.5.0",
            "value": 12500,
            "_view_count": null,
            "_view_module_version": "1.5.0",
            "orientation": "horizontal",
            "min": 0,
            "description_tooltip": null,
            "_model_module": "@jupyter-widgets/controls",
            "layout": "IPY_MODEL_4b793755d9ed401fb20500687d7dea20"
          }
        },
        "55ad369bf3674a9299ef0447e115abf9": {
          "model_module": "@jupyter-widgets/controls",
          "model_name": "HTMLModel",
          "state": {
            "_view_name": "HTMLView",
            "style": "IPY_MODEL_9abc56a683114ec396963845244c1c6c",
            "_dom_classes": [],
            "description": "",
            "_model_name": "HTMLModel",
            "placeholder": "​",
            "_view_module": "@jupyter-widgets/controls",
            "_model_module_version": "1.5.0",
            "value": " 12500/12500 [22:16&lt;00:00,  9.35it/s]",
            "_view_count": null,
            "_view_module_version": "1.5.0",
            "description_tooltip": null,
            "_model_module": "@jupyter-widgets/controls",
            "layout": "IPY_MODEL_376ad302baee48f4a63f28d6e4b84a41"
          }
        },
        "4ea4931e2bd2431aa0cfb839345ea18a": {
          "model_module": "@jupyter-widgets/controls",
          "model_name": "ProgressStyleModel",
          "state": {
            "_view_name": "StyleView",
            "_model_name": "ProgressStyleModel",
            "description_width": "initial",
            "_view_module": "@jupyter-widgets/base",
            "_model_module_version": "1.5.0",
            "_view_count": null,
            "_view_module_version": "1.2.0",
            "bar_color": null,
            "_model_module": "@jupyter-widgets/controls"
          }
        },
        "4b793755d9ed401fb20500687d7dea20": {
          "model_module": "@jupyter-widgets/base",
          "model_name": "LayoutModel",
          "state": {
            "_view_name": "LayoutView",
            "grid_template_rows": null,
            "right": null,
            "justify_content": null,
            "_view_module": "@jupyter-widgets/base",
            "overflow": null,
            "_model_module_version": "1.2.0",
            "_view_count": null,
            "flex_flow": null,
            "width": null,
            "min_width": null,
            "border": null,
            "align_items": null,
            "bottom": null,
            "_model_module": "@jupyter-widgets/base",
            "top": null,
            "grid_column": null,
            "overflow_y": null,
            "overflow_x": null,
            "grid_auto_flow": null,
            "grid_area": null,
            "grid_template_columns": null,
            "flex": null,
            "_model_name": "LayoutModel",
            "justify_items": null,
            "grid_row": null,
            "max_height": null,
            "align_content": null,
            "visibility": null,
            "align_self": null,
            "height": null,
            "min_height": null,
            "padding": null,
            "grid_auto_rows": null,
            "grid_gap": null,
            "max_width": null,
            "order": null,
            "_view_module_version": "1.2.0",
            "grid_template_areas": null,
            "object_position": null,
            "object_fit": null,
            "grid_auto_columns": null,
            "margin": null,
            "display": null,
            "left": null
          }
        },
        "9abc56a683114ec396963845244c1c6c": {
          "model_module": "@jupyter-widgets/controls",
          "model_name": "DescriptionStyleModel",
          "state": {
            "_view_name": "StyleView",
            "_model_name": "DescriptionStyleModel",
            "description_width": "",
            "_view_module": "@jupyter-widgets/base",
            "_model_module_version": "1.5.0",
            "_view_count": null,
            "_view_module_version": "1.2.0",
            "_model_module": "@jupyter-widgets/controls"
          }
        },
        "376ad302baee48f4a63f28d6e4b84a41": {
          "model_module": "@jupyter-widgets/base",
          "model_name": "LayoutModel",
          "state": {
            "_view_name": "LayoutView",
            "grid_template_rows": null,
            "right": null,
            "justify_content": null,
            "_view_module": "@jupyter-widgets/base",
            "overflow": null,
            "_model_module_version": "1.2.0",
            "_view_count": null,
            "flex_flow": null,
            "width": null,
            "min_width": null,
            "border": null,
            "align_items": null,
            "bottom": null,
            "_model_module": "@jupyter-widgets/base",
            "top": null,
            "grid_column": null,
            "overflow_y": null,
            "overflow_x": null,
            "grid_auto_flow": null,
            "grid_area": null,
            "grid_template_columns": null,
            "flex": null,
            "_model_name": "LayoutModel",
            "justify_items": null,
            "grid_row": null,
            "max_height": null,
            "align_content": null,
            "visibility": null,
            "align_self": null,
            "height": null,
            "min_height": null,
            "padding": null,
            "grid_auto_rows": null,
            "grid_gap": null,
            "max_width": null,
            "order": null,
            "_view_module_version": "1.2.0",
            "grid_template_areas": null,
            "object_position": null,
            "object_fit": null,
            "grid_auto_columns": null,
            "margin": null,
            "display": null,
            "left": null
          }
        },
        "b00f9caddaca46d3a8724361555f61c6": {
          "model_module": "@jupyter-widgets/controls",
          "model_name": "HBoxModel",
          "state": {
            "_view_name": "HBoxView",
            "_dom_classes": [],
            "_model_name": "HBoxModel",
            "_view_module": "@jupyter-widgets/controls",
            "_model_module_version": "1.5.0",
            "_view_count": null,
            "_view_module_version": "1.5.0",
            "box_style": "",
            "layout": "IPY_MODEL_94c46d472b8544efb4c4246d880b9668",
            "_model_module": "@jupyter-widgets/controls",
            "children": [
              "IPY_MODEL_9115d50c8cff4428bccc8ba1c27f5f01",
              "IPY_MODEL_ad9319890def440c86e7110194c373d7"
            ]
          }
        },
        "94c46d472b8544efb4c4246d880b9668": {
          "model_module": "@jupyter-widgets/base",
          "model_name": "LayoutModel",
          "state": {
            "_view_name": "LayoutView",
            "grid_template_rows": null,
            "right": null,
            "justify_content": null,
            "_view_module": "@jupyter-widgets/base",
            "overflow": null,
            "_model_module_version": "1.2.0",
            "_view_count": null,
            "flex_flow": null,
            "width": null,
            "min_width": null,
            "border": null,
            "align_items": null,
            "bottom": null,
            "_model_module": "@jupyter-widgets/base",
            "top": null,
            "grid_column": null,
            "overflow_y": null,
            "overflow_x": null,
            "grid_auto_flow": null,
            "grid_area": null,
            "grid_template_columns": null,
            "flex": null,
            "_model_name": "LayoutModel",
            "justify_items": null,
            "grid_row": null,
            "max_height": null,
            "align_content": null,
            "visibility": null,
            "align_self": null,
            "height": null,
            "min_height": null,
            "padding": null,
            "grid_auto_rows": null,
            "grid_gap": null,
            "max_width": null,
            "order": null,
            "_view_module_version": "1.2.0",
            "grid_template_areas": null,
            "object_position": null,
            "object_fit": null,
            "grid_auto_columns": null,
            "margin": null,
            "display": null,
            "left": null
          }
        },
        "9115d50c8cff4428bccc8ba1c27f5f01": {
          "model_module": "@jupyter-widgets/controls",
          "model_name": "FloatProgressModel",
          "state": {
            "_view_name": "ProgressView",
            "style": "IPY_MODEL_992e2d266c634b398f48ed42f184f8b2",
            "_dom_classes": [],
            "description": "100%",
            "_model_name": "FloatProgressModel",
            "bar_style": "success",
            "max": 12500,
            "_view_module": "@jupyter-widgets/controls",
            "_model_module_version": "1.5.0",
            "value": 12500,
            "_view_count": null,
            "_view_module_version": "1.5.0",
            "orientation": "horizontal",
            "min": 0,
            "description_tooltip": null,
            "_model_module": "@jupyter-widgets/controls",
            "layout": "IPY_MODEL_0c21e4a6be1c45708f9c0f4ca08f1d2a"
          }
        },
        "ad9319890def440c86e7110194c373d7": {
          "model_module": "@jupyter-widgets/controls",
          "model_name": "HTMLModel",
          "state": {
            "_view_name": "HTMLView",
            "style": "IPY_MODEL_376fadd345df41b0bacca4b967fd8412",
            "_dom_classes": [],
            "description": "",
            "_model_name": "HTMLModel",
            "placeholder": "​",
            "_view_module": "@jupyter-widgets/controls",
            "_model_module_version": "1.5.0",
            "value": " 12500/12500 [20:41&lt;00:00, 10.07it/s]",
            "_view_count": null,
            "_view_module_version": "1.5.0",
            "description_tooltip": null,
            "_model_module": "@jupyter-widgets/controls",
            "layout": "IPY_MODEL_04ac08a8c71d4da8a5e50a80215d57b1"
          }
        },
        "992e2d266c634b398f48ed42f184f8b2": {
          "model_module": "@jupyter-widgets/controls",
          "model_name": "ProgressStyleModel",
          "state": {
            "_view_name": "StyleView",
            "_model_name": "ProgressStyleModel",
            "description_width": "initial",
            "_view_module": "@jupyter-widgets/base",
            "_model_module_version": "1.5.0",
            "_view_count": null,
            "_view_module_version": "1.2.0",
            "bar_color": null,
            "_model_module": "@jupyter-widgets/controls"
          }
        },
        "0c21e4a6be1c45708f9c0f4ca08f1d2a": {
          "model_module": "@jupyter-widgets/base",
          "model_name": "LayoutModel",
          "state": {
            "_view_name": "LayoutView",
            "grid_template_rows": null,
            "right": null,
            "justify_content": null,
            "_view_module": "@jupyter-widgets/base",
            "overflow": null,
            "_model_module_version": "1.2.0",
            "_view_count": null,
            "flex_flow": null,
            "width": null,
            "min_width": null,
            "border": null,
            "align_items": null,
            "bottom": null,
            "_model_module": "@jupyter-widgets/base",
            "top": null,
            "grid_column": null,
            "overflow_y": null,
            "overflow_x": null,
            "grid_auto_flow": null,
            "grid_area": null,
            "grid_template_columns": null,
            "flex": null,
            "_model_name": "LayoutModel",
            "justify_items": null,
            "grid_row": null,
            "max_height": null,
            "align_content": null,
            "visibility": null,
            "align_self": null,
            "height": null,
            "min_height": null,
            "padding": null,
            "grid_auto_rows": null,
            "grid_gap": null,
            "max_width": null,
            "order": null,
            "_view_module_version": "1.2.0",
            "grid_template_areas": null,
            "object_position": null,
            "object_fit": null,
            "grid_auto_columns": null,
            "margin": null,
            "display": null,
            "left": null
          }
        },
        "376fadd345df41b0bacca4b967fd8412": {
          "model_module": "@jupyter-widgets/controls",
          "model_name": "DescriptionStyleModel",
          "state": {
            "_view_name": "StyleView",
            "_model_name": "DescriptionStyleModel",
            "description_width": "",
            "_view_module": "@jupyter-widgets/base",
            "_model_module_version": "1.5.0",
            "_view_count": null,
            "_view_module_version": "1.2.0",
            "_model_module": "@jupyter-widgets/controls"
          }
        },
        "04ac08a8c71d4da8a5e50a80215d57b1": {
          "model_module": "@jupyter-widgets/base",
          "model_name": "LayoutModel",
          "state": {
            "_view_name": "LayoutView",
            "grid_template_rows": null,
            "right": null,
            "justify_content": null,
            "_view_module": "@jupyter-widgets/base",
            "overflow": null,
            "_model_module_version": "1.2.0",
            "_view_count": null,
            "flex_flow": null,
            "width": null,
            "min_width": null,
            "border": null,
            "align_items": null,
            "bottom": null,
            "_model_module": "@jupyter-widgets/base",
            "top": null,
            "grid_column": null,
            "overflow_y": null,
            "overflow_x": null,
            "grid_auto_flow": null,
            "grid_area": null,
            "grid_template_columns": null,
            "flex": null,
            "_model_name": "LayoutModel",
            "justify_items": null,
            "grid_row": null,
            "max_height": null,
            "align_content": null,
            "visibility": null,
            "align_self": null,
            "height": null,
            "min_height": null,
            "padding": null,
            "grid_auto_rows": null,
            "grid_gap": null,
            "max_width": null,
            "order": null,
            "_view_module_version": "1.2.0",
            "grid_template_areas": null,
            "object_position": null,
            "object_fit": null,
            "grid_auto_columns": null,
            "margin": null,
            "display": null,
            "left": null
          }
        }
      }
    }
  },
  "cells": [
    {
      "cell_type": "markdown",
      "metadata": {
        "id": "fqKI3PvQqk-x"
      },
      "source": [
        " ---"
      ]
    },
    {
      "cell_type": "markdown",
      "metadata": {
        "id": "0Q6NgIGBmvQH"
      },
      "source": [
        "In this notebook, we will learn how to write our own convolutional neural networks on the PyTorch framework, and test their work on the MNIST and CIFAR10 datasets.\n",
        "\n",
        "** ATTENTION: ** Considered *** task of image classification ***.\n",
        "\n",
        "(It is assumed that the reader is already familiar with a multilayer neural network.)\n",
        "\n",
        "*** Convolutional Neural Network (CNN) *** is a multilayer neural network that has in its architecture, in addition to * fully connected layers * (and sometimes they may not exist), ** Conv Layers ** and ** pooling-layers (Pool Layers) **.\n",
        "\n",
        "Actually, these networks got this name because their operation is based on the ** convolution ** operation.\n",
        "\n",
        "\n",
        "It should be said right away that convolutional neural networks ** were invented primarily for tasks related to pictures **, therefore, they also \"expect\" a picture at the input.\n",
        "\n",
        "Let's consider their device in more detail:\n",
        "\n",
        "* This is what a shallow convolutional neural network looks like with the following architecture:\n",
        "ʻInput -> Conv 5x5 -> Pool 2x2 -> Conv 5x5 -> Pool 2x2 -> FC -> Output`\n",
        "\n",
        "<Img src = \"https://camo.githubusercontent.com/269e3903f62eb2c4d13ac4c9ab979510010f8968/68747470733a2f2f7261772e6769746875622e636f6d2f746176677265656e2f6c616e647573655f636c617373696669636174696f6e2f6d61737465722f66696c652f636e6e2e706e673f7261773d74727565\" width = 800, height = 600>\n",
        "\n",
        "Convolutional neural networks (ordinary, there are also much more advanced ones) are almost always built according to the following rule:\n",
        "\n",
        "ʻINPUT -> [[CONV -> RELU] * N -> POOL?] * M -> [FC -> RELU] * K -> FC`\n",
        "\n",
        "i.e:\n",
        "\n",
        "1). *** Input layer *** (batch images `HxWxC`)\n",
        "\n",
        "2). $ M $ blocks (M $ \\ ge $ 0) from convolutions and poolings, and in exactly the same order as in the formula above. All these $ M $ blocks together are called the *** feature extractor *** of the convolutional neural network, because this part of the network is directly responsible for the formation of new, more complex features on top of those that are supplied (that is, by analogy with MLP, we again we move on to a new feature space, but here it is built more difficult than in conventional multilayer networks, since the convolution operation is used)\n",
        "\n",
        "3). $ K $ pieces of FullyConnected layers (with activations). This part of the $ K $ FC layers is called *** classificator ***, since these layers are directly responsible for predicting the class needs (now we are considering the problem of image classification)."
      ]
    },
    {
      "cell_type": "markdown",
      "metadata": {
        "id": "RUh08RELmvQI"
      },
      "source": [
        "<h3 style = \"text-align: center;\"> <b> Convolutional neural network on PyTorch </b> </h3>\n",
        "\n",
        "Let us recall the main components of a neural network once again:\n",
        "\n",
        "- directly, the ** architecture ** of the neural network itself (this includes the types of activation functions for each neuron);\n",
        "- initial ** initialization ** of the weights of each layer;\n",
        "- method ** optimization ** of a neural network (this also includes a method for changing the `learning_rate`);\n",
        "- size of ** batches ** (`batch_size`);\n",
        "- the number of training iterations (`num_epochs`);\n",
        "- ** loss function ** (`loss`);\n",
        "- type of ** regularization ** of a neural network (you can have your own for each layer);\n",
        "\n",
        "Something related to *** data and task ***:\n",
        "- the very ** quality ** of the sample (consistency, purity, correctness of the problem statement);\n",
        "- ** sample size **;\n",
        "\n",
        "Since we are now considering ** the CNN architecture **, in addition to these components, the following things can be configured in the convolutional neural network:\n",
        "\n",
        "- (in each ConvLayer) ** filter size (fold window) ** (`kernel_size`)\n",
        "- (in each ConvLayer) ** number of filters ** (ʻout_channels`)\n",
        "- (in each ConvLayer) ** stride size (stride) ** (`stride`)\n",
        "- (in each ConvLayer) ** padding type ** (`padding`)\n",
        "\n",
        "\n",
        "- (in each PoolLayer) ** pooling window size ** (`kernel_size`)\n",
        "- (in each PoolLayer) ** pooling window step ** (`stride`)\n",
        "- (in each PoolLayer) ** pooling type ** (`pool_type`)\n",
        "- (in each PoolLayer) ** padding type ** (`padding`)"
      ]
    },
    {
      "cell_type": "markdown",
      "metadata": {
        "id": "aPy6-6kpmvQK"
      },
      "source": [
        "What they are usually taken will be shown in the example below. At least you can start with these settings to understand what quality \"out of the box\" a simple model will have."
      ]
    },
    {
      "cell_type": "markdown",
      "metadata": {
        "id": "arl2FqAfmvQL"
      },
      "source": [
        "Let's see how CNN works on MNIST and CIFAR."
      ]
    },
    {
      "cell_type": "code",
      "metadata": {
        "id": "O1tqZNdWmvQN"
      },
      "source": [
        "import torch\n",
        "import torchvision\n",
        "from torchvision import transforms\n",
        "from torchsummary import summary\n",
        "import keras\n",
        "from torch.utils.data import DataLoader,Dataset\n",
        "from PIL import Image\n",
        "\n",
        "import numpy as np\n",
        "import matplotlib.pyplot as plt  # для отрисовки картиночек\n",
        "%matplotlib inline"
      ],
      "execution_count": 2,
      "outputs": []
    },
    {
      "cell_type": "markdown",
      "metadata": {
        "id": "ly4hPj7DmvQM"
      },
      "source": [
        "<img src=\"http://present5.com/presentation/20143288_415358496/image-8.jpg\" width=500, height=400>"
      ]
    },
    {
      "cell_type": "markdown",
      "metadata": {
        "id": "94s_K_pAmvQN"
      },
      "source": [
        "** MNIST: ** This is a set of 70k pictures of handwritten numbers from 0 to 9 written by humans, 60k of which are a training dataset (`train` dataset)), and another 10k are allocated for model testing (` test` dataset)."
      ]
    },
    {
      "cell_type": "markdown",
      "metadata": {
        "id": "kXXOvRS1mvQS"
      },
      "source": [
        "Download and upload to the loader:"
      ]
    },
    {
      "cell_type": "markdown",
      "metadata": {
        "id": "jmCjo8CjmvQT"
      },
      "source": [
        "** Pay attention to the `batch_size` argument: ** it will be responsible for the size of the batch that will be supplied when optimizing the neural network"
      ]
    },
    {
      "cell_type": "code",
      "metadata": {
        "colab": {
          "base_uri": "https://localhost:8080/"
        },
        "id": "6q6wUZXcMy_Q",
        "outputId": "1a620bbb-7a8d-4561-cc25-88ff4bca026c"
      },
      "source": [
        "from keras.datasets import mnist\n",
        "(x_train, y_train), (x_test, y_test) = mnist.load_data()"
      ],
      "execution_count": 3,
      "outputs": [
        {
          "output_type": "stream",
          "text": [
            "Downloading data from https://storage.googleapis.com/tensorflow/tf-keras-datasets/mnist.npz\n",
            "11493376/11490434 [==============================] - 0s 0us/step\n"
          ],
          "name": "stdout"
        }
      ]
    },
    {
      "cell_type": "code",
      "metadata": {
        "colab": {
          "base_uri": "https://localhost:8080/",
          "height": 283
        },
        "id": "il8PmMS1My_a",
        "outputId": "18b6887c-21e5-49a5-acf0-376a54e7e2b4"
      },
      "source": [
        "plt.imshow(x_train[0], cmap='gray')"
      ],
      "execution_count": 4,
      "outputs": [
        {
          "output_type": "execute_result",
          "data": {
            "text/plain": [
              "<matplotlib.image.AxesImage at 0x7fd803650c50>"
            ]
          },
          "metadata": {
            "tags": []
          },
          "execution_count": 4
        },
        {
          "output_type": "display_data",
          "data": {
            "image/png": "[encoded data removed]",
            "text/plain": [
              "<Figure size 432x288 with 1 Axes>"
            ]
          },
          "metadata": {
            "tags": [],
            "needs_background": "light"
          }
        }
      ]
    },
    {
      "cell_type": "markdown",
      "metadata": {
        "id": "mqtRMMqwmvQa"
      },
      "source": [
        "Сами данные лежат в полях `trainloader.dataset.train_data` и `testloader.dataset.test_data`:"
      ]
    },
    {
      "cell_type": "code",
      "metadata": {
        "colab": {
          "base_uri": "https://localhost:8080/"
        },
        "id": "NxnQI-7FmvQc",
        "scrolled": true,
        "outputId": "fb7d568e-274b-427a-9588-7e34dcd1069d"
      },
      "source": [
        "x_train.shape"
      ],
      "execution_count": 5,
      "outputs": [
        {
          "output_type": "execute_result",
          "data": {
            "text/plain": [
              "(60000, 28, 28)"
            ]
          },
          "metadata": {
            "tags": []
          },
          "execution_count": 5
        }
      ]
    },
    {
      "cell_type": "code",
      "metadata": {
        "colab": {
          "base_uri": "https://localhost:8080/"
        },
        "id": "-rt0UBALmvQf",
        "scrolled": true,
        "outputId": "48096284-3cbd-488d-b13b-86bb52f747b2"
      },
      "source": [
        "x_test.shape"
      ],
      "execution_count": 6,
      "outputs": [
        {
          "output_type": "execute_result",
          "data": {
            "text/plain": [
              "(10000, 28, 28)"
            ]
          },
          "metadata": {
            "tags": []
          },
          "execution_count": 6
        }
      ]
    },
    {
      "cell_type": "markdown",
      "metadata": {
        "id": "aj4QmKwDmvQk"
      },
      "source": [
        "Display the first image:"
      ]
    },
    {
      "cell_type": "code",
      "metadata": {
        "colab": {
          "base_uri": "https://localhost:8080/"
        },
        "id": "nBAKbazhmvQm",
        "scrolled": true,
        "outputId": "0c38064a-ccb4-422c-b31d-4fd4b8948037"
      },
      "source": [
        "x_train[0]"
      ],
      "execution_count": 7,
      "outputs": [
        {
          "output_type": "execute_result",
          "data": {
            "text/plain": [
              "array([[  0,   0,   0,   0,   0,   0,   0,   0,   0,   0,   0,   0,   0,\n",
              "          0,   0,   0,   0,   0,   0,   0,   0,   0,   0,   0,   0,   0,\n",
              "          0,   0],\n",
              "       [  0,   0,   0,   0,   0,   0,   0,   0,   0,   0,   0,   0,   0,\n",
              "          0,   0,   0,   0,   0,   0,   0,   0,   0,   0,   0,   0,   0,\n",
              "          0,   0],\n",
              "       [  0,   0,   0,   0,   0,   0,   0,   0,   0,   0,   0,   0,   0,\n",
              "          0,   0,   0,   0,   0,   0,   0,   0,   0,   0,   0,   0,   0,\n",
              "          0,   0],\n",
              "       [  0,   0,   0,   0,   0,   0,   0,   0,   0,   0,   0,   0,   0,\n",
              "          0,   0,   0,   0,   0,   0,   0,   0,   0,   0,   0,   0,   0,\n",
              "          0,   0],\n",
              "       [  0,   0,   0,   0,   0,   0,   0,   0,   0,   0,   0,   0,   0,\n",
              "          0,   0,   0,   0,   0,   0,   0,   0,   0,   0,   0,   0,   0,\n",
              "          0,   0],\n",
              "       [  0,   0,   0,   0,   0,   0,   0,   0,   0,   0,   0,   0,   3,\n",
              "         18,  18,  18, 126, 136, 175,  26, 166, 255, 247, 127,   0,   0,\n",
              "          0,   0],\n",
              "       [  0,   0,   0,   0,   0,   0,   0,   0,  30,  36,  94, 154, 170,\n",
              "        253, 253, 253, 253, 253, 225, 172, 253, 242, 195,  64,   0,   0,\n",
              "          0,   0],\n",
              "       [  0,   0,   0,   0,   0,   0,   0,  49, 238, 253, 253, 253, 253,\n",
              "        253, 253, 253, 253, 251,  93,  82,  82,  56,  39,   0,   0,   0,\n",
              "          0,   0],\n",
              "       [  0,   0,   0,   0,   0,   0,   0,  18, 219, 253, 253, 253, 253,\n",
              "        253, 198, 182, 247, 241,   0,   0,   0,   0,   0,   0,   0,   0,\n",
              "          0,   0],\n",
              "       [  0,   0,   0,   0,   0,   0,   0,   0,  80, 156, 107, 253, 253,\n",
              "        205,  11,   0,  43, 154,   0,   0,   0,   0,   0,   0,   0,   0,\n",
              "          0,   0],\n",
              "       [  0,   0,   0,   0,   0,   0,   0,   0,   0,  14,   1, 154, 253,\n",
              "         90,   0,   0,   0,   0,   0,   0,   0,   0,   0,   0,   0,   0,\n",
              "          0,   0],\n",
              "       [  0,   0,   0,   0,   0,   0,   0,   0,   0,   0,   0, 139, 253,\n",
              "        190,   2,   0,   0,   0,   0,   0,   0,   0,   0,   0,   0,   0,\n",
              "          0,   0],\n",
              "       [  0,   0,   0,   0,   0,   0,   0,   0,   0,   0,   0,  11, 190,\n",
              "        253,  70,   0,   0,   0,   0,   0,   0,   0,   0,   0,   0,   0,\n",
              "          0,   0],\n",
              "       [  0,   0,   0,   0,   0,   0,   0,   0,   0,   0,   0,   0,  35,\n",
              "        241, 225, 160, 108,   1,   0,   0,   0,   0,   0,   0,   0,   0,\n",
              "          0,   0],\n",
              "       [  0,   0,   0,   0,   0,   0,   0,   0,   0,   0,   0,   0,   0,\n",
              "         81, 240, 253, 253, 119,  25,   0,   0,   0,   0,   0,   0,   0,\n",
              "          0,   0],\n",
              "       [  0,   0,   0,   0,   0,   0,   0,   0,   0,   0,   0,   0,   0,\n",
              "          0,  45, 186, 253, 253, 150,  27,   0,   0,   0,   0,   0,   0,\n",
              "          0,   0],\n",
              "       [  0,   0,   0,   0,   0,   0,   0,   0,   0,   0,   0,   0,   0,\n",
              "          0,   0,  16,  93, 252, 253, 187,   0,   0,   0,   0,   0,   0,\n",
              "          0,   0],\n",
              "       [  0,   0,   0,   0,   0,   0,   0,   0,   0,   0,   0,   0,   0,\n",
              "          0,   0,   0,   0, 249, 253, 249,  64,   0,   0,   0,   0,   0,\n",
              "          0,   0],\n",
              "       [  0,   0,   0,   0,   0,   0,   0,   0,   0,   0,   0,   0,   0,\n",
              "          0,  46, 130, 183, 253, 253, 207,   2,   0,   0,   0,   0,   0,\n",
              "          0,   0],\n",
              "       [  0,   0,   0,   0,   0,   0,   0,   0,   0,   0,   0,   0,  39,\n",
              "        148, 229, 253, 253, 253, 250, 182,   0,   0,   0,   0,   0,   0,\n",
              "          0,   0],\n",
              "       [  0,   0,   0,   0,   0,   0,   0,   0,   0,   0,  24, 114, 221,\n",
              "        253, 253, 253, 253, 201,  78,   0,   0,   0,   0,   0,   0,   0,\n",
              "          0,   0],\n",
              "       [  0,   0,   0,   0,   0,   0,   0,   0,  23,  66, 213, 253, 253,\n",
              "        253, 253, 198,  81,   2,   0,   0,   0,   0,   0,   0,   0,   0,\n",
              "          0,   0],\n",
              "       [  0,   0,   0,   0,   0,   0,  18, 171, 219, 253, 253, 253, 253,\n",
              "        195,  80,   9,   0,   0,   0,   0,   0,   0,   0,   0,   0,   0,\n",
              "          0,   0],\n",
              "       [  0,   0,   0,   0,  55, 172, 226, 253, 253, 253, 253, 244, 133,\n",
              "         11,   0,   0,   0,   0,   0,   0,   0,   0,   0,   0,   0,   0,\n",
              "          0,   0],\n",
              "       [  0,   0,   0,   0, 136, 253, 253, 253, 212, 135, 132,  16,   0,\n",
              "          0,   0,   0,   0,   0,   0,   0,   0,   0,   0,   0,   0,   0,\n",
              "          0,   0],\n",
              "       [  0,   0,   0,   0,   0,   0,   0,   0,   0,   0,   0,   0,   0,\n",
              "          0,   0,   0,   0,   0,   0,   0,   0,   0,   0,   0,   0,   0,\n",
              "          0,   0],\n",
              "       [  0,   0,   0,   0,   0,   0,   0,   0,   0,   0,   0,   0,   0,\n",
              "          0,   0,   0,   0,   0,   0,   0,   0,   0,   0,   0,   0,   0,\n",
              "          0,   0],\n",
              "       [  0,   0,   0,   0,   0,   0,   0,   0,   0,   0,   0,   0,   0,\n",
              "          0,   0,   0,   0,   0,   0,   0,   0,   0,   0,   0,   0,   0,\n",
              "          0,   0]], dtype=uint8)"
            ]
          },
          "metadata": {
            "tags": []
          },
          "execution_count": 7
        }
      ]
    },
    {
      "cell_type": "markdown",
      "metadata": {
        "id": "OW3JZteDmvQ7"
      },
      "source": [
        "Отрисовка заданной цифры:"
      ]
    },
    {
      "cell_type": "code",
      "metadata": {
        "id": "S7CjRkCpMy_4"
      },
      "source": [
        "class MyDataset(Dataset):\n",
        "    def __init__(self, data, targets, transform=None):\n",
        "        self.data = data\n",
        "        self.targets = torch.LongTensor(targets)\n",
        "        self.transform = transform\n",
        "\n",
        "    def __getitem__(self, index):\n",
        "        x = self.data[index]\n",
        "        y = self.targets[index]\n",
        "\n",
        "        if self.transform:\n",
        "            x = Image.fromarray(self.data[index].astype(np.uint8))\n",
        "            x = self.transform(x)\n",
        "\n",
        "        return x, y\n",
        "\n",
        "    def __len__(self):\n",
        "        return len(self.data)"
      ],
      "execution_count": 8,
      "outputs": []
    },
    {
      "cell_type": "code",
      "metadata": {
        "id": "BgrTOKvJMy_7"
      },
      "source": [
        "transform = transforms.Compose([transforms.ToTensor()])\n",
        "dataset = MyDataset(x_train,y_train, transform=transform)\n",
        "trainloader = DataLoader(dataset, batch_size=5)\n",
        "\n",
        "testset = MyDataset(x_test,y_test, transform=transform)\n",
        "testloader = DataLoader(dataset, batch_size=5)"
      ],
      "execution_count": 9,
      "outputs": []
    },
    {
      "cell_type": "markdown",
      "metadata": {
        "id": "e9DOvlk1mvRB"
      },
      "source": [
        "Как итерироваться по данным с помощью `loader'`а? Очень просто:"
      ]
    },
    {
      "cell_type": "code",
      "metadata": {
        "colab": {
          "base_uri": "https://localhost:8080/"
        },
        "id": "V73spLIAmvRD",
        "scrolled": true,
        "outputId": "5b80076f-2210-4add-fb0b-e808bbae80fc"
      },
      "source": [
        "for data in trainloader:\n",
        "    print(data)\n",
        "    break"
      ],
      "execution_count": 10,
      "outputs": [
        {
          "output_type": "stream",
          "text": [
            "[tensor([[[[0., 0., 0.,  ..., 0., 0., 0.],\n",
            "          [0., 0., 0.,  ..., 0., 0., 0.],\n",
            "          [0., 0., 0.,  ..., 0., 0., 0.],\n",
            "          ...,\n",
            "          [0., 0., 0.,  ..., 0., 0., 0.],\n",
            "          [0., 0., 0.,  ..., 0., 0., 0.],\n",
            "          [0., 0., 0.,  ..., 0., 0., 0.]]],\n",
            "\n",
            "\n",
            "        [[[0., 0., 0.,  ..., 0., 0., 0.],\n",
            "          [0., 0., 0.,  ..., 0., 0., 0.],\n",
            "          [0., 0., 0.,  ..., 0., 0., 0.],\n",
            "          ...,\n",
            "          [0., 0., 0.,  ..., 0., 0., 0.],\n",
            "          [0., 0., 0.,  ..., 0., 0., 0.],\n",
            "          [0., 0., 0.,  ..., 0., 0., 0.]]],\n",
            "\n",
            "\n",
            "        [[[0., 0., 0.,  ..., 0., 0., 0.],\n",
            "          [0., 0., 0.,  ..., 0., 0., 0.],\n",
            "          [0., 0., 0.,  ..., 0., 0., 0.],\n",
            "          ...,\n",
            "          [0., 0., 0.,  ..., 0., 0., 0.],\n",
            "          [0., 0., 0.,  ..., 0., 0., 0.],\n",
            "          [0., 0., 0.,  ..., 0., 0., 0.]]],\n",
            "\n",
            "\n",
            "        [[[0., 0., 0.,  ..., 0., 0., 0.],\n",
            "          [0., 0., 0.,  ..., 0., 0., 0.],\n",
            "          [0., 0., 0.,  ..., 0., 0., 0.],\n",
            "          ...,\n",
            "          [0., 0., 0.,  ..., 0., 0., 0.],\n",
            "          [0., 0., 0.,  ..., 0., 0., 0.],\n",
            "          [0., 0., 0.,  ..., 0., 0., 0.]]],\n",
            "\n",
            "\n",
            "        [[[0., 0., 0.,  ..., 0., 0., 0.],\n",
            "          [0., 0., 0.,  ..., 0., 0., 0.],\n",
            "          [0., 0., 0.,  ..., 0., 0., 0.],\n",
            "          ...,\n",
            "          [0., 0., 0.,  ..., 0., 0., 0.],\n",
            "          [0., 0., 0.,  ..., 0., 0., 0.],\n",
            "          [0., 0., 0.,  ..., 0., 0., 0.]]]]), tensor([5, 0, 4, 1, 9])]\n"
          ],
          "name": "stdout"
        }
      ]
    },
    {
      "cell_type": "markdown",
      "metadata": {
        "id": "5gLVfQsLmvRI"
      },
      "source": [
        "То есть мы имеем дело с кусочками данных размера batch_size (в данном случае = 4), причём в каждом батче есть как объекты, так и ответы на них (то есть и $X$, и $y$)."
      ]
    },
    {
      "cell_type": "markdown",
      "metadata": {
        "id": "sftGrFWvmvRK"
      },
      "source": [
        "Теперь вернёмся к тому, что в PyTorch есть две \"парадигмы\" построения нейросетей -- `Functional` и `Seuquential`. Со второй мы уже хорошенько разобрались в предыдущих ноутбуках по нейросетям, теперь мы испольузем именно `Functional` парадигму, потому что при построении свёрточных сетей это намного удобнее:"
      ]
    },
    {
      "cell_type": "code",
      "metadata": {
        "id": "JjaimqEhmvRM"
      },
      "source": [
        "import torch.nn as nn\n",
        "import torch.nn.functional as F  # Functional"
      ],
      "execution_count": 11,
      "outputs": []
    },
    {
      "cell_type": "code",
      "metadata": {
        "id": "JOY8j76OmvRP"
      },
      "source": [
        "# ЗАМЕТЬТЕ: КЛАСС НАСЛЕДУЕТСЯ ОТ nn.Module\n",
        "class SimpleConvNet(nn.Module):\n",
        "    def __init__(self):\n",
        "        # вызов конструктора предка\n",
        "        super(SimpleConvNet, self).__init__()\n",
        "        # необходмо заранее знать, сколько каналов у картинки (сейчас = 1),\n",
        "        # которую будем подавать в сеть, больше ничего\n",
        "        # про входящие картинки знать не нужно\n",
        "        self.conv1 = nn.Conv2d(in_channels=1, out_channels=6, kernel_size=5)\n",
        "        self.pool = nn.MaxPool2d(kernel_size=2, stride=2)\n",
        "        self.conv2 = nn.Conv2d(in_channels=6, out_channels=16, kernel_size=5)\n",
        "        self.fc1 = nn.Linear(4 * 4 * 16, 120)  # !!!\n",
        "        self.fc2 = nn.Linear(120, 84)\n",
        "        self.fc3 = nn.Linear(84, 10)\n",
        "\n",
        "    def forward(self, x):\n",
        "        x = self.pool(F.relu(self.conv1(x)))\n",
        "        x = self.pool(F.relu(self.conv2(x)))\n",
        "        #print(x.shape)\n",
        "        x = x.view(-1, 4 * 4 * 16)  # !!!\n",
        "        x = F.relu(self.fc1(x))\n",
        "        x = F.relu(self.fc2(x))\n",
        "        x = self.fc3(x)\n",
        "        return x"
      ],
      "execution_count": 12,
      "outputs": []
    },
    {
      "cell_type": "code",
      "metadata": {
        "colab": {
          "base_uri": "https://localhost:8080/"
        },
        "id": "ZdouPjeK_0c1",
        "outputId": "3c5f785d-b3a3-46ad-9dc5-ed7a9487b81d"
      },
      "source": [
        "device = \"cuda\" if torch.cuda.is_available() else \"cpu\"\n",
        "\n",
        "net = SimpleConvNet()\n",
        "\n",
        "batch = []\n",
        "\n",
        "\n",
        "\n",
        "batch = next(iter(trainloader))\n",
        "\n",
        "net.forward(torch.FloatTensor(batch[0]))"
      ],
      "execution_count": 13,
      "outputs": [
        {
          "output_type": "execute_result",
          "data": {
            "text/plain": [
              "tensor([[-0.0827, -0.0421,  0.0459,  0.0321, -0.1475,  0.0991,  0.0636,  0.1061,\n",
              "          0.1173,  0.0118],\n",
              "        [-0.0932, -0.0404,  0.0558,  0.0348, -0.1486,  0.0955,  0.0644,  0.0979,\n",
              "          0.1143,  0.0066],\n",
              "        [-0.0915, -0.0521,  0.0628,  0.0347, -0.1405,  0.1089,  0.0559,  0.0969,\n",
              "          0.1088,  0.0039],\n",
              "        [-0.0818, -0.0387,  0.0554,  0.0552, -0.1139,  0.0826,  0.0746,  0.1055,\n",
              "          0.0932,  0.0093],\n",
              "        [-0.0805, -0.0487,  0.0615,  0.0418, -0.1323,  0.0999,  0.0662,  0.1098,\n",
              "          0.1088,  0.0092]], grad_fn=<AddmmBackward>)"
            ]
          },
          "metadata": {
            "tags": []
          },
          "execution_count": 13
        }
      ]
    },
    {
      "cell_type": "code",
      "metadata": {
        "colab": {
          "base_uri": "https://localhost:8080/"
        },
        "id": "Gab_YIqSMzAl",
        "outputId": "4b4a873b-b7c6-46f7-b351-2998428c1364"
      },
      "source": [
        "summary(net.cuda(), (1,28, 28))"
      ],
      "execution_count": 14,
      "outputs": [
        {
          "output_type": "stream",
          "text": [
            "----------------------------------------------------------------\n",
            "        Layer (type)               Output Shape         Param #\n",
            "================================================================\n",
            "            Conv2d-1            [-1, 6, 24, 24]             156\n",
            "         MaxPool2d-2            [-1, 6, 12, 12]               0\n",
            "            Conv2d-3             [-1, 16, 8, 8]           2,416\n",
            "         MaxPool2d-4             [-1, 16, 4, 4]               0\n",
            "            Linear-5                  [-1, 120]          30,840\n",
            "            Linear-6                   [-1, 84]          10,164\n",
            "            Linear-7                   [-1, 10]             850\n",
            "================================================================\n",
            "Total params: 44,426\n",
            "Trainable params: 44,426\n",
            "Non-trainable params: 0\n",
            "----------------------------------------------------------------\n",
            "Input size (MB): 0.00\n",
            "Forward/backward pass size (MB): 0.04\n",
            "Params size (MB): 0.17\n",
            "Estimated Total Size (MB): 0.22\n",
            "----------------------------------------------------------------\n"
          ],
          "name": "stdout"
        }
      ]
    },
    {
      "cell_type": "markdown",
      "metadata": {
        "id": "RDc3BlhPmvRR"
      },
      "source": [
        "**Важное примечание:** Вы можете заметить, что в строчках с `#!!!` есть не очень понятный сходу 4 `*` 4 `*` 16. Это -- размерность картинки перед FC-слоями (H x W x C), тут её приходиться высчитывать вручную (в Keras, например, `.Flatten()` всё делает за Вас). Однако есть один *лайфхак* -- просто сделайте в `forward()` `print(x.shape)` (закомментированная строка). Вы увидите размер `(batch_size, C, H, W)` -- нужно перемножить все, кроме первого (batch_size), это и будет первая размерность `Linear()`, и именно в C * H * W нужно \"развернуть\" x перед подачей в `Linear()`.  \n",
        "\n",
        "То есть нужно будет запустить цикл с обучением первый раз с `print()` и сделать после него `break`, посчитать размер, вписать его в нужные места и стереть `print()` и `break`."
      ]
    },
    {
      "cell_type": "markdown",
      "metadata": {
        "id": "tyg446camvRS"
      },
      "source": [
        "Код обучения слоя:"
      ]
    },
    {
      "cell_type": "code",
      "metadata": {
        "id": "BtBorLrrmvRT"
      },
      "source": [
        "from tqdm import tqdm_notebook"
      ],
      "execution_count": 15,
      "outputs": []
    },
    {
      "cell_type": "code",
      "metadata": {
        "id": "LEiQSIKNG2xb"
      },
      "source": [
        "# объявляем сеть\n",
        "net = SimpleConvNet()"
      ],
      "execution_count": 16,
      "outputs": []
    },
    {
      "cell_type": "code",
      "metadata": {
        "id": "uwZ7GqreD4hU"
      },
      "source": [
        "# выбираем функцию потерь\n",
        "loss_fn = torch.nn.CrossEntropyLoss()\n",
        "\n",
        "# выбираем алгоритм оптимизации и learning_rate\n",
        "learning_rate = 1e-4\n",
        "optimizer = torch.optim.Adam(net.parameters(), lr=learning_rate)\n",
        "losses = []"
      ],
      "execution_count": 17,
      "outputs": []
    },
    {
      "cell_type": "code",
      "metadata": {
        "colab": {
          "base_uri": "https://localhost:8080/",
          "height": 141,
          "referenced_widgets": [
            "8fdd4a7d9bb345a588e83ba630a50507",
            "057ff6cdd94a4abca5fbd9efeb6ea8be",
            "aee6c984699e4dd5bfe98be7c2eda9e0",
            "27557444b79e45f4b4356db145e1c837",
            "2405ef3457a1478599b63b2f6ef21470",
            "c674bddeef96468ea1452134609871d4",
            "46768205744542729862c08026d5e050",
            "60da1cc8658e4c478d7704ec35c98457"
          ]
        },
        "id": "g7xHXCy2uGzH",
        "outputId": "cba403ef-267e-48a4-dcd0-e080a9ec905c"
      },
      "source": [
        "cnt = 0\n",
        "temp = 0\n",
        "for i, batch in enumerate(tqdm_notebook(trainloader)):\n",
        "        # так получаем текущий батч\n",
        "        X_batch, y_batch = batch\n",
        "        cnt = i\n",
        "        if i % 2000 == 1999:\n",
        "            temp += 1 \n",
        "cnt,temp"
      ],
      "execution_count": 18,
      "outputs": [
        {
          "output_type": "stream",
          "text": [
            "/usr/local/lib/python3.7/dist-packages/ipykernel_launcher.py:3: TqdmDeprecationWarning: This function will be removed in tqdm==5.0.0\n",
            "Please use `tqdm.notebook.tqdm` instead of `tqdm.tqdm_notebook`\n",
            "  This is separate from the ipykernel package so we can avoid doing imports until\n"
          ],
          "name": "stderr"
        },
        {
          "output_type": "display_data",
          "data": {
            "application/vnd.jupyter.widget-view+json": {
              "model_id": "8fdd4a7d9bb345a588e83ba630a50507",
              "version_minor": 0,
              "version_major": 2
            },
            "text/plain": [
              "HBox(children=(FloatProgress(value=0.0, max=12000.0), HTML(value='')))"
            ]
          },
          "metadata": {
            "tags": []
          }
        },
        {
          "output_type": "stream",
          "text": [
            "\n"
          ],
          "name": "stdout"
        },
        {
          "output_type": "execute_result",
          "data": {
            "text/plain": [
              "(11999, 6)"
            ]
          },
          "metadata": {
            "tags": []
          },
          "execution_count": 18
        }
      ]
    },
    {
      "cell_type": "code",
      "metadata": {
        "colab": {
          "base_uri": "https://localhost:8080/",
          "height": 1000
        },
        "id": "ja5vFAvWmvRY",
        "scrolled": true,
        "outputId": "f4f10efa-f9c6-473f-ca8d-9cef296e3258"
      },
      "source": [
        "from tqdm import tqdm\n",
        "# итерируемся\n",
        "for epoch in tqdm(range(2)):\n",
        "\n",
        "    running_loss = 0.0\n",
        "    for i, batch in enumerate(tqdm(trainloader)):\n",
        "        # так получаем текущий батч\n",
        "        X_batch, y_batch = batch\n",
        "        \n",
        "        # обнуляем веса\n",
        "        optimizer.zero_grad()\n",
        "\n",
        "        # forward + backward + optimize\n",
        "        y_pred = net(X_batch)\n",
        "        loss = loss_fn(y_pred, y_batch)\n",
        "        loss.backward()\n",
        "        optimizer.step()\n",
        "\n",
        "        # выведем текущий loss\n",
        "        running_loss += loss.item()\n",
        "        # выведем качество каждые 2000 батчей\n",
        "        if i % 2000 == 1999:\n",
        "            print('[%d, %5d] loss: %.3f' %\n",
        "                  (epoch + 1, i + 1, running_loss / 2000))\n",
        "            losses.append(running_loss)\n",
        "            running_loss = 0.0\n",
        "\n",
        "    plt.figure(figsize=(10,7))\n",
        "    plt.plot(np.arange(len(losses)), losses)\n",
        "    plt.show()\n",
        "\n",
        "print('Обучение закончено')"
      ],
      "execution_count": 19,
      "outputs": [
        {
          "output_type": "stream",
          "text": [
            "  0%|          | 0/2 [00:00<?, ?it/s]\n",
            "  0%|          | 0/12000 [00:00<?, ?it/s]\u001b[A\n",
            "  0%|          | 1/12000 [00:00<30:51,  6.48it/s]\u001b[A\n",
            "  0%|          | 25/12000 [00:00<21:49,  9.15it/s]\u001b[A\n",
            "  0%|          | 48/12000 [00:00<15:30, 12.85it/s]\u001b[A\n",
            "  1%|          | 74/12000 [00:00<11:03, 17.97it/s]\u001b[A\n",
            "  1%|          | 99/12000 [00:00<07:58, 24.89it/s]\u001b[A\n",
            "  1%|          | 123/12000 [00:00<05:49, 34.00it/s]\u001b[A\n",
            "  1%|          | 148/12000 [00:00<04:18, 45.83it/s]\u001b[A\n",
            "  1%|▏         | 174/12000 [00:00<03:14, 60.73it/s]\u001b[A\n",
            "  2%|▏         | 197/12000 [00:00<02:31, 77.88it/s]\u001b[A\n",
            "  2%|▏         | 222/12000 [00:01<02:00, 97.76it/s]\u001b[A\n",
            "  2%|▏         | 247/12000 [00:01<01:38, 119.39it/s]\u001b[A\n",
            "  2%|▏         | 271/12000 [00:01<01:23, 140.26it/s]\u001b[A\n",
            "  2%|▏         | 295/12000 [00:01<01:13, 159.35it/s]\u001b[A\n",
            "  3%|▎         | 320/12000 [00:01<01:05, 178.07it/s]\u001b[A\n",
            "  3%|▎         | 345/12000 [00:01<01:00, 193.86it/s]\u001b[A\n",
            "  3%|▎         | 370/12000 [00:01<00:56, 205.00it/s]\u001b[A\n",
            "  3%|▎         | 394/12000 [00:01<00:54, 213.94it/s]\u001b[A\n",
            "  3%|▎         | 418/12000 [00:01<00:53, 217.87it/s]\u001b[A\n",
            "  4%|▎         | 443/12000 [00:01<00:51, 224.96it/s]\u001b[A\n",
            "  4%|▍         | 467/12000 [00:02<00:50, 226.87it/s]\u001b[A\n",
            "  4%|▍         | 491/12000 [00:02<00:51, 224.30it/s]\u001b[A\n",
            "  4%|▍         | 515/12000 [00:02<00:50, 227.00it/s]\u001b[A\n",
            "  4%|▍         | 540/12000 [00:02<00:49, 231.41it/s]\u001b[A\n",
            "  5%|▍         | 565/12000 [00:02<00:48, 235.64it/s]\u001b[A\n",
            "  5%|▍         | 590/12000 [00:02<00:48, 237.65it/s]\u001b[A\n",
            "  5%|▌         | 615/12000 [00:02<00:47, 239.23it/s]\u001b[A\n",
            "  5%|▌         | 640/12000 [00:02<00:46, 241.73it/s]\u001b[A\n",
            "  6%|▌         | 665/12000 [00:02<00:47, 237.73it/s]\u001b[A\n",
            "  6%|▌         | 691/12000 [00:03<00:46, 242.36it/s]\u001b[A\n",
            "  6%|▌         | 717/12000 [00:03<00:45, 246.95it/s]\u001b[A\n",
            "  6%|▌         | 742/12000 [00:03<00:46, 244.49it/s]\u001b[A\n",
            "  6%|▋         | 767/12000 [00:03<00:46, 244.07it/s]\u001b[A\n",
            "  7%|▋         | 792/12000 [00:03<00:46, 241.49it/s]\u001b[A\n",
            "  7%|▋         | 817/12000 [00:03<00:46, 240.62it/s]\u001b[A\n",
            "  7%|▋         | 842/12000 [00:03<00:47, 236.45it/s]\u001b[A\n",
            "  7%|▋         | 867/12000 [00:03<00:46, 239.74it/s]\u001b[A\n",
            "  7%|▋         | 892/12000 [00:03<00:45, 242.28it/s]\u001b[A\n",
            "  8%|▊         | 917/12000 [00:03<00:46, 239.47it/s]\u001b[A\n",
            "  8%|▊         | 941/12000 [00:04<00:46, 238.03it/s]\u001b[A\n",
            "  8%|▊         | 965/12000 [00:04<00:46, 235.31it/s]\u001b[A\n",
            "  8%|▊         | 989/12000 [00:04<00:48, 226.74it/s]\u001b[A\n",
            "  8%|▊         | 1013/12000 [00:04<00:47, 230.43it/s]\u001b[A\n",
            "  9%|▊         | 1039/12000 [00:04<00:45, 238.46it/s]\u001b[A\n",
            "  9%|▉         | 1064/12000 [00:04<00:45, 241.30it/s]\u001b[A\n",
            "  9%|▉         | 1089/12000 [00:04<00:44, 242.57it/s]\u001b[A\n",
            "  9%|▉         | 1115/12000 [00:04<00:44, 245.06it/s]\u001b[A\n",
            " 10%|▉         | 1140/12000 [00:04<00:44, 241.97it/s]\u001b[A\n",
            " 10%|▉         | 1165/12000 [00:05<00:45, 237.61it/s]\u001b[A\n",
            " 10%|▉         | 1189/12000 [00:05<00:47, 228.73it/s]\u001b[A\n",
            " 10%|█         | 1213/12000 [00:05<00:46, 231.14it/s]\u001b[A\n",
            " 10%|█         | 1237/12000 [00:05<00:47, 225.58it/s]\u001b[A\n",
            " 11%|█         | 1261/12000 [00:05<00:46, 229.51it/s]\u001b[A\n",
            " 11%|█         | 1285/12000 [00:05<00:47, 224.58it/s]\u001b[A\n",
            " 11%|█         | 1308/12000 [00:05<00:48, 222.60it/s]\u001b[A\n",
            " 11%|█         | 1332/12000 [00:05<00:47, 226.43it/s]\u001b[A\n",
            " 11%|█▏        | 1356/12000 [00:05<00:46, 229.31it/s]\u001b[A\n",
            " 12%|█▏        | 1381/12000 [00:05<00:45, 234.35it/s]\u001b[A\n",
            " 12%|█▏        | 1406/12000 [00:06<00:44, 236.61it/s]\u001b[A\n",
            " 12%|█▏        | 1431/12000 [00:06<00:44, 239.17it/s]\u001b[A\n",
            " 12%|█▏        | 1455/12000 [00:06<00:44, 236.16it/s]\u001b[A\n",
            " 12%|█▏        | 1479/12000 [00:06<00:44, 234.08it/s]\u001b[A\n",
            " 13%|█▎        | 1503/12000 [00:06<00:45, 229.04it/s]\u001b[A\n",
            " 13%|█▎        | 1527/12000 [00:06<00:45, 231.74it/s]\u001b[A\n",
            " 13%|█▎        | 1551/12000 [00:06<00:44, 234.13it/s]\u001b[A\n",
            " 13%|█▎        | 1577/12000 [00:06<00:43, 238.86it/s]\u001b[A\n",
            " 13%|█▎        | 1601/12000 [00:06<00:43, 238.11it/s]\u001b[A\n",
            " 14%|█▎        | 1625/12000 [00:07<00:43, 237.27it/s]\u001b[A\n",
            " 14%|█▎        | 1649/12000 [00:07<00:43, 235.82it/s]\u001b[A\n",
            " 14%|█▍        | 1673/12000 [00:07<00:43, 236.33it/s]\u001b[A\n",
            " 14%|█▍        | 1697/12000 [00:07<00:44, 231.11it/s]\u001b[A\n",
            " 14%|█▍        | 1721/12000 [00:07<00:44, 228.86it/s]\u001b[A\n",
            " 15%|█▍        | 1746/12000 [00:07<00:43, 233.34it/s]\u001b[A\n",
            " 15%|█▍        | 1770/12000 [00:07<00:43, 234.50it/s]\u001b[A\n",
            " 15%|█▍        | 1795/12000 [00:07<00:42, 238.09it/s]\u001b[A\n",
            " 15%|█▌        | 1819/12000 [00:07<00:42, 237.59it/s]\u001b[A\n",
            " 15%|█▌        | 1843/12000 [00:07<00:43, 234.48it/s]\u001b[A\n",
            " 16%|█▌        | 1868/12000 [00:08<00:42, 237.24it/s]\u001b[A\n",
            " 16%|█▌        | 1893/12000 [00:08<00:42, 239.36it/s]\u001b[A\n",
            " 16%|█▌        | 1917/12000 [00:08<00:42, 238.06it/s]\u001b[A\n",
            " 16%|█▌        | 1941/12000 [00:08<00:42, 234.47it/s]\u001b[A\n",
            " 16%|█▋        | 1966/12000 [00:08<00:42, 237.86it/s]\u001b[A\n",
            " 17%|█▋        | 1990/12000 [00:08<00:42, 238.13it/s]\u001b[A\n",
            " 17%|█▋        | 2014/12000 [00:08<00:41, 237.81it/s]\u001b[A\n",
            " 17%|█▋        | 2039/12000 [00:08<00:41, 241.13it/s]\u001b[A"
          ],
          "name": "stderr"
        },
        {
          "output_type": "stream",
          "text": [
            "[1,  2000] loss: 0.959\n"
          ],
          "name": "stdout"
        },
        {
          "output_type": "stream",
          "text": [
            "\n",
            " 17%|█▋        | 2064/12000 [00:08<00:41, 237.36it/s]\u001b[A\n",
            " 17%|█▋        | 2089/12000 [00:08<00:41, 240.70it/s]\u001b[A\n",
            " 18%|█▊        | 2114/12000 [00:09<00:40, 241.66it/s]\u001b[A\n",
            " 18%|█▊        | 2139/12000 [00:09<00:40, 240.55it/s]\u001b[A\n",
            " 18%|█▊        | 2164/12000 [00:09<00:40, 242.04it/s]\u001b[A\n",
            " 18%|█▊        | 2189/12000 [00:09<00:41, 236.82it/s]\u001b[A\n",
            " 18%|█▊        | 2214/12000 [00:09<00:40, 239.15it/s]\u001b[A\n",
            " 19%|█▊        | 2239/12000 [00:09<00:40, 241.54it/s]\u001b[A\n",
            " 19%|█▉        | 2264/12000 [00:09<00:40, 238.72it/s]\u001b[A\n",
            " 19%|█▉        | 2288/12000 [00:09<00:40, 237.24it/s]\u001b[A\n",
            " 19%|█▉        | 2313/12000 [00:09<00:40, 239.75it/s]\u001b[A\n",
            " 19%|█▉        | 2337/12000 [00:09<00:40, 237.62it/s]\u001b[A\n",
            " 20%|█▉        | 2362/12000 [00:10<00:40, 239.02it/s]\u001b[A\n",
            " 20%|█▉        | 2387/12000 [00:10<00:40, 239.60it/s]\u001b[A\n",
            " 20%|██        | 2411/12000 [00:10<00:40, 235.27it/s]\u001b[A\n",
            " 20%|██        | 2435/12000 [00:10<00:41, 229.36it/s]\u001b[A\n",
            " 20%|██        | 2460/12000 [00:10<00:40, 234.33it/s]\u001b[A\n",
            " 21%|██        | 2484/12000 [00:10<00:40, 234.50it/s]\u001b[A\n",
            " 21%|██        | 2508/12000 [00:10<00:41, 229.88it/s]\u001b[A\n",
            " 21%|██        | 2534/12000 [00:10<00:40, 235.92it/s]\u001b[A\n",
            " 21%|██▏       | 2558/12000 [00:10<00:40, 234.13it/s]\u001b[A\n",
            " 22%|██▏       | 2582/12000 [00:11<00:40, 234.13it/s]\u001b[A\n",
            " 22%|██▏       | 2606/12000 [00:11<00:40, 230.01it/s]\u001b[A\n",
            " 22%|██▏       | 2630/12000 [00:11<00:41, 226.41it/s]\u001b[A\n",
            " 22%|██▏       | 2653/12000 [00:11<00:42, 221.40it/s]\u001b[A\n",
            " 22%|██▏       | 2676/12000 [00:11<00:42, 220.43it/s]\u001b[A\n",
            " 23%|██▎       | 2701/12000 [00:11<00:41, 226.43it/s]\u001b[A\n",
            " 23%|██▎       | 2724/12000 [00:11<00:41, 225.74it/s]\u001b[A\n",
            " 23%|██▎       | 2747/12000 [00:11<00:41, 223.80it/s]\u001b[A\n",
            " 23%|██▎       | 2771/12000 [00:11<00:40, 227.81it/s]\u001b[A\n",
            " 23%|██▎       | 2794/12000 [00:11<00:40, 227.22it/s]\u001b[A\n",
            " 23%|██▎       | 2818/12000 [00:12<00:39, 229.87it/s]\u001b[A\n",
            " 24%|██▎       | 2842/12000 [00:12<00:39, 232.46it/s]\u001b[A\n",
            " 24%|██▍       | 2866/12000 [00:12<00:38, 234.35it/s]\u001b[A\n",
            " 24%|██▍       | 2890/12000 [00:12<00:39, 229.70it/s]\u001b[A\n",
            " 24%|██▍       | 2915/12000 [00:12<00:38, 234.10it/s]\u001b[A\n",
            " 24%|██▍       | 2939/12000 [00:12<00:38, 235.26it/s]\u001b[A\n",
            " 25%|██▍       | 2963/12000 [00:12<00:38, 233.12it/s]\u001b[A\n",
            " 25%|██▍       | 2987/12000 [00:12<00:38, 234.67it/s]\u001b[A\n",
            " 25%|██▌       | 3011/12000 [00:12<00:38, 231.55it/s]\u001b[A\n",
            " 25%|██▌       | 3035/12000 [00:13<00:38, 233.19it/s]\u001b[A\n",
            " 26%|██▌       | 3060/12000 [00:13<00:37, 235.55it/s]\u001b[A\n",
            " 26%|██▌       | 3084/12000 [00:13<00:37, 236.79it/s]\u001b[A\n",
            " 26%|██▌       | 3108/12000 [00:13<00:37, 236.51it/s]\u001b[A\n",
            " 26%|██▌       | 3132/12000 [00:13<00:38, 231.54it/s]\u001b[A\n",
            " 26%|██▋       | 3157/12000 [00:13<00:37, 235.56it/s]\u001b[A\n",
            " 27%|██▋       | 3181/12000 [00:13<00:37, 232.87it/s]\u001b[A\n",
            " 27%|██▋       | 3205/12000 [00:13<00:37, 234.64it/s]\u001b[A\n",
            " 27%|██▋       | 3229/12000 [00:13<00:37, 231.54it/s]\u001b[A\n",
            " 27%|██▋       | 3254/12000 [00:13<00:37, 234.72it/s]\u001b[A\n",
            " 27%|██▋       | 3279/12000 [00:14<00:36, 236.67it/s]\u001b[A\n",
            " 28%|██▊       | 3303/12000 [00:14<00:37, 233.39it/s]\u001b[A\n",
            " 28%|██▊       | 3327/12000 [00:14<00:39, 218.17it/s]\u001b[A\n",
            " 28%|██▊       | 3351/12000 [00:14<00:38, 224.28it/s]\u001b[A\n",
            " 28%|██▊       | 3375/12000 [00:14<00:37, 227.22it/s]\u001b[A\n",
            " 28%|██▊       | 3400/12000 [00:14<00:37, 231.69it/s]\u001b[A\n",
            " 29%|██▊       | 3424/12000 [00:14<00:37, 229.37it/s]\u001b[A\n",
            " 29%|██▊       | 3449/12000 [00:14<00:36, 233.77it/s]\u001b[A\n",
            " 29%|██▉       | 3473/12000 [00:14<00:36, 232.20it/s]\u001b[A\n",
            " 29%|██▉       | 3497/12000 [00:15<00:36, 233.11it/s]\u001b[A\n",
            " 29%|██▉       | 3521/12000 [00:15<00:36, 234.99it/s]\u001b[A\n",
            " 30%|██▉       | 3545/12000 [00:15<00:35, 236.34it/s]\u001b[A\n",
            " 30%|██▉       | 3571/12000 [00:15<00:35, 240.83it/s]\u001b[A\n",
            " 30%|██▉       | 3596/12000 [00:15<00:35, 234.97it/s]\u001b[A\n",
            " 30%|███       | 3620/12000 [00:15<00:35, 236.21it/s]\u001b[A\n",
            " 30%|███       | 3644/12000 [00:15<00:36, 231.05it/s]\u001b[A\n",
            " 31%|███       | 3669/12000 [00:15<00:35, 233.96it/s]\u001b[A\n",
            " 31%|███       | 3693/12000 [00:15<00:35, 230.75it/s]\u001b[A\n",
            " 31%|███       | 3717/12000 [00:15<00:36, 229.73it/s]\u001b[A\n",
            " 31%|███       | 3741/12000 [00:16<00:35, 231.83it/s]\u001b[A\n",
            " 31%|███▏      | 3765/12000 [00:16<00:36, 224.11it/s]\u001b[A\n",
            " 32%|███▏      | 3788/12000 [00:16<00:37, 216.35it/s]\u001b[A\n",
            " 32%|███▏      | 3810/12000 [00:16<00:38, 210.29it/s]\u001b[A\n",
            " 32%|███▏      | 3833/12000 [00:16<00:38, 214.92it/s]\u001b[A\n",
            " 32%|███▏      | 3858/12000 [00:16<00:36, 222.72it/s]\u001b[A\n",
            " 32%|███▏      | 3882/12000 [00:16<00:35, 226.60it/s]\u001b[A\n",
            " 33%|███▎      | 3907/12000 [00:16<00:34, 232.21it/s]\u001b[A\n",
            " 33%|███▎      | 3932/12000 [00:16<00:34, 234.96it/s]\u001b[A\n",
            " 33%|███▎      | 3956/12000 [00:17<00:34, 236.06it/s]\u001b[A\n",
            " 33%|███▎      | 3980/12000 [00:17<00:34, 235.23it/s]\u001b[A\n",
            " 33%|███▎      | 4004/12000 [00:17<00:33, 236.40it/s]\u001b[A\n",
            " 34%|███▎      | 4028/12000 [00:17<00:33, 235.98it/s]\u001b[A"
          ],
          "name": "stderr"
        },
        {
          "output_type": "stream",
          "text": [
            "[1,  4000] loss: 0.399\n"
          ],
          "name": "stdout"
        },
        {
          "output_type": "stream",
          "text": [
            "\n",
            " 34%|███▍      | 4052/12000 [00:17<00:33, 235.83it/s]\u001b[A\n",
            " 34%|███▍      | 4076/12000 [00:17<00:34, 232.16it/s]\u001b[A\n",
            " 34%|███▍      | 4101/12000 [00:17<00:33, 235.70it/s]\u001b[A\n",
            " 34%|███▍      | 4125/12000 [00:17<00:33, 233.13it/s]\u001b[A\n",
            " 35%|███▍      | 4149/12000 [00:17<00:33, 234.68it/s]\u001b[A\n",
            " 35%|███▍      | 4174/12000 [00:17<00:32, 238.56it/s]\u001b[A\n",
            " 35%|███▍      | 4198/12000 [00:18<00:32, 236.88it/s]\u001b[A\n",
            " 35%|███▌      | 4222/12000 [00:18<00:32, 236.86it/s]\u001b[A\n",
            " 35%|███▌      | 4246/12000 [00:18<00:33, 232.63it/s]\u001b[A\n",
            " 36%|███▌      | 4270/12000 [00:18<00:33, 232.30it/s]\u001b[A\n",
            " 36%|███▌      | 4294/12000 [00:18<00:32, 234.38it/s]\u001b[A\n",
            " 36%|███▌      | 4318/12000 [00:18<00:33, 232.26it/s]\u001b[A\n",
            " 36%|███▌      | 4343/12000 [00:18<00:32, 236.54it/s]\u001b[A\n",
            " 36%|███▋      | 4367/12000 [00:18<00:32, 232.28it/s]\u001b[A\n",
            " 37%|███▋      | 4391/12000 [00:18<00:32, 234.27it/s]\u001b[A\n",
            " 37%|███▋      | 4415/12000 [00:18<00:32, 234.86it/s]\u001b[A\n",
            " 37%|███▋      | 4439/12000 [00:19<00:32, 235.03it/s]\u001b[A\n",
            " 37%|███▋      | 4463/12000 [00:19<00:32, 230.17it/s]\u001b[A\n",
            " 37%|███▋      | 4487/12000 [00:19<00:32, 232.73it/s]\u001b[A\n",
            " 38%|███▊      | 4511/12000 [00:19<00:32, 233.59it/s]\u001b[A\n",
            " 38%|███▊      | 4535/12000 [00:19<00:32, 232.88it/s]\u001b[A\n",
            " 38%|███▊      | 4560/12000 [00:19<00:31, 236.76it/s]\u001b[A\n",
            " 38%|███▊      | 4585/12000 [00:19<00:31, 238.91it/s]\u001b[A\n",
            " 38%|███▊      | 4609/12000 [00:19<00:31, 237.57it/s]\u001b[A\n",
            " 39%|███▊      | 4633/12000 [00:19<00:31, 235.83it/s]\u001b[A\n",
            " 39%|███▉      | 4658/12000 [00:19<00:30, 238.40it/s]\u001b[A\n",
            " 39%|███▉      | 4683/12000 [00:20<00:30, 241.54it/s]\u001b[A\n",
            " 39%|███▉      | 4708/12000 [00:20<00:30, 240.64it/s]\u001b[A\n",
            " 39%|███▉      | 4733/12000 [00:20<00:31, 230.16it/s]\u001b[A\n",
            " 40%|███▉      | 4759/12000 [00:20<00:30, 236.20it/s]\u001b[A\n",
            " 40%|███▉      | 4783/12000 [00:20<00:30, 236.68it/s]\u001b[A\n",
            " 40%|████      | 4809/12000 [00:20<00:29, 240.56it/s]\u001b[A\n",
            " 40%|████      | 4834/12000 [00:20<00:29, 241.47it/s]\u001b[A\n",
            " 40%|████      | 4860/12000 [00:20<00:29, 244.48it/s]\u001b[A\n",
            " 41%|████      | 4885/12000 [00:20<00:30, 236.50it/s]\u001b[A\n",
            " 41%|████      | 4909/12000 [00:21<00:30, 230.20it/s]\u001b[A\n",
            " 41%|████      | 4934/12000 [00:21<00:30, 233.71it/s]\u001b[A\n",
            " 41%|████▏     | 4959/12000 [00:21<00:29, 237.13it/s]\u001b[A\n",
            " 42%|████▏     | 4983/12000 [00:21<00:29, 233.97it/s]\u001b[A\n",
            " 42%|████▏     | 5007/12000 [00:21<00:30, 228.22it/s]\u001b[A\n",
            " 42%|████▏     | 5030/12000 [00:21<00:30, 227.62it/s]\u001b[A\n",
            " 42%|████▏     | 5055/12000 [00:21<00:29, 231.98it/s]\u001b[A\n",
            " 42%|████▏     | 5079/12000 [00:21<00:30, 230.52it/s]\u001b[A\n",
            " 43%|████▎     | 5104/12000 [00:21<00:29, 235.69it/s]\u001b[A\n",
            " 43%|████▎     | 5128/12000 [00:21<00:29, 235.82it/s]\u001b[A\n",
            " 43%|████▎     | 5152/12000 [00:22<00:29, 235.25it/s]\u001b[A\n",
            " 43%|████▎     | 5177/12000 [00:22<00:28, 237.85it/s]\u001b[A\n",
            " 43%|████▎     | 5202/12000 [00:22<00:28, 239.38it/s]\u001b[A\n",
            " 44%|████▎     | 5226/12000 [00:22<00:29, 232.62it/s]\u001b[A\n",
            " 44%|████▍     | 5251/12000 [00:22<00:28, 234.35it/s]\u001b[A\n",
            " 44%|████▍     | 5275/12000 [00:22<00:28, 233.86it/s]\u001b[A\n",
            " 44%|████▍     | 5300/12000 [00:22<00:28, 237.04it/s]\u001b[A\n",
            " 44%|████▍     | 5324/12000 [00:22<00:28, 237.66it/s]\u001b[A\n",
            " 45%|████▍     | 5350/12000 [00:22<00:27, 241.28it/s]\u001b[A\n",
            " 45%|████▍     | 5376/12000 [00:23<00:27, 244.94it/s]\u001b[A\n",
            " 45%|████▌     | 5401/12000 [00:23<00:27, 244.19it/s]\u001b[A\n",
            " 45%|████▌     | 5427/12000 [00:23<00:26, 246.24it/s]\u001b[A\n",
            " 45%|████▌     | 5452/12000 [00:23<00:26, 245.48it/s]\u001b[A\n",
            " 46%|████▌     | 5477/12000 [00:23<00:27, 237.17it/s]\u001b[A\n",
            " 46%|████▌     | 5501/12000 [00:23<00:27, 236.86it/s]\u001b[A\n",
            " 46%|████▌     | 5525/12000 [00:23<00:27, 234.63it/s]\u001b[A\n",
            " 46%|████▋     | 5551/12000 [00:23<00:26, 239.83it/s]\u001b[A\n",
            " 46%|████▋     | 5576/12000 [00:23<00:26, 240.29it/s]\u001b[A\n",
            " 47%|████▋     | 5601/12000 [00:23<00:26, 241.90it/s]\u001b[A\n",
            " 47%|████▋     | 5626/12000 [00:24<00:26, 243.01it/s]\u001b[A\n",
            " 47%|████▋     | 5651/12000 [00:24<00:26, 241.36it/s]\u001b[A\n",
            " 47%|████▋     | 5676/12000 [00:24<00:26, 240.69it/s]\u001b[A\n",
            " 48%|████▊     | 5701/12000 [00:24<00:26, 237.57it/s]\u001b[A\n",
            " 48%|████▊     | 5725/12000 [00:24<00:26, 236.38it/s]\u001b[A\n",
            " 48%|████▊     | 5749/12000 [00:24<00:26, 234.07it/s]\u001b[A\n",
            " 48%|████▊     | 5773/12000 [00:24<00:26, 235.43it/s]\u001b[A\n",
            " 48%|████▊     | 5798/12000 [00:24<00:25, 239.06it/s]\u001b[A\n",
            " 49%|████▊     | 5823/12000 [00:24<00:25, 239.95it/s]\u001b[A\n",
            " 49%|████▊     | 5848/12000 [00:25<00:25, 239.50it/s]\u001b[A\n",
            " 49%|████▉     | 5872/12000 [00:25<00:26, 235.63it/s]\u001b[A\n",
            " 49%|████▉     | 5896/12000 [00:25<00:26, 232.29it/s]\u001b[A\n",
            " 49%|████▉     | 5920/12000 [00:25<00:27, 221.03it/s]\u001b[A\n",
            " 50%|████▉     | 5943/12000 [00:25<00:27, 218.60it/s]\u001b[A\n",
            " 50%|████▉     | 5967/12000 [00:25<00:27, 222.92it/s]\u001b[A\n",
            " 50%|████▉     | 5990/12000 [00:25<00:27, 221.62it/s]\u001b[A\n",
            " 50%|█████     | 6014/12000 [00:25<00:26, 225.26it/s]\u001b[A\n",
            " 50%|█████     | 6037/12000 [00:25<00:26, 226.10it/s]\u001b[A"
          ],
          "name": "stderr"
        },
        {
          "output_type": "stream",
          "text": [
            "[1,  6000] loss: 0.293\n"
          ],
          "name": "stdout"
        },
        {
          "output_type": "stream",
          "text": [
            "\n",
            " 50%|█████     | 6060/12000 [00:25<00:26, 223.90it/s]\u001b[A\n",
            " 51%|█████     | 6083/12000 [00:26<00:26, 223.90it/s]\u001b[A\n",
            " 51%|█████     | 6106/12000 [00:26<00:26, 220.17it/s]\u001b[A\n",
            " 51%|█████     | 6129/12000 [00:26<00:26, 221.79it/s]\u001b[A\n",
            " 51%|█████▏    | 6152/12000 [00:26<00:26, 222.26it/s]\u001b[A\n",
            " 51%|█████▏    | 6175/12000 [00:26<00:26, 222.46it/s]\u001b[A\n",
            " 52%|█████▏    | 6198/12000 [00:26<00:26, 220.77it/s]\u001b[A\n",
            " 52%|█████▏    | 6221/12000 [00:26<00:27, 213.88it/s]\u001b[A\n",
            " 52%|█████▏    | 6244/12000 [00:26<00:26, 218.09it/s]\u001b[A\n",
            " 52%|█████▏    | 6268/12000 [00:26<00:25, 222.86it/s]\u001b[A\n",
            " 52%|█████▏    | 6291/12000 [00:27<00:25, 223.27it/s]\u001b[A\n",
            " 53%|█████▎    | 6315/12000 [00:27<00:25, 226.92it/s]\u001b[A\n",
            " 53%|█████▎    | 6338/12000 [00:27<00:25, 219.75it/s]\u001b[A\n",
            " 53%|█████▎    | 6361/12000 [00:27<00:25, 220.31it/s]\u001b[A\n",
            " 53%|█████▎    | 6386/12000 [00:27<00:24, 226.95it/s]\u001b[A\n",
            " 53%|█████▎    | 6411/12000 [00:27<00:23, 233.04it/s]\u001b[A\n",
            " 54%|█████▎    | 6435/12000 [00:27<00:24, 231.41it/s]\u001b[A\n",
            " 54%|█████▍    | 6460/12000 [00:27<00:23, 235.66it/s]\u001b[A\n",
            " 54%|█████▍    | 6484/12000 [00:27<00:23, 232.62it/s]\u001b[A\n",
            " 54%|█████▍    | 6508/12000 [00:27<00:23, 233.41it/s]\u001b[A\n",
            " 54%|█████▍    | 6533/12000 [00:28<00:23, 236.28it/s]\u001b[A\n",
            " 55%|█████▍    | 6558/12000 [00:28<00:22, 237.95it/s]\u001b[A\n",
            " 55%|█████▍    | 6582/12000 [00:28<00:22, 238.25it/s]\u001b[A\n",
            " 55%|█████▌    | 6606/12000 [00:28<00:22, 237.56it/s]\u001b[A\n",
            " 55%|█████▌    | 6630/12000 [00:28<00:23, 229.61it/s]\u001b[A\n",
            " 55%|█████▌    | 6654/12000 [00:28<00:23, 231.36it/s]\u001b[A\n",
            " 56%|█████▌    | 6678/12000 [00:28<00:23, 230.31it/s]\u001b[A\n",
            " 56%|█████▌    | 6703/12000 [00:28<00:22, 235.39it/s]\u001b[A\n",
            " 56%|█████▌    | 6728/12000 [00:28<00:22, 239.26it/s]\u001b[A\n",
            " 56%|█████▋    | 6753/12000 [00:28<00:21, 241.18it/s]\u001b[A\n",
            " 56%|█████▋    | 6778/12000 [00:29<00:22, 228.48it/s]\u001b[A\n",
            " 57%|█████▋    | 6802/12000 [00:29<00:23, 225.75it/s]\u001b[A\n",
            " 57%|█████▋    | 6827/12000 [00:29<00:22, 230.27it/s]\u001b[A\n",
            " 57%|█████▋    | 6851/12000 [00:29<00:22, 227.13it/s]\u001b[A\n",
            " 57%|█████▋    | 6875/12000 [00:29<00:22, 230.26it/s]\u001b[A\n",
            " 57%|█████▊    | 6900/12000 [00:29<00:21, 233.10it/s]\u001b[A\n",
            " 58%|█████▊    | 6924/12000 [00:29<00:21, 234.47it/s]\u001b[A\n",
            " 58%|█████▊    | 6949/12000 [00:29<00:21, 236.23it/s]\u001b[A\n",
            " 58%|█████▊    | 6974/12000 [00:29<00:21, 238.12it/s]\u001b[A\n",
            " 58%|█████▊    | 6998/12000 [00:30<00:21, 237.83it/s]\u001b[A\n",
            " 59%|█████▊    | 7022/12000 [00:30<00:21, 236.34it/s]\u001b[A\n",
            " 59%|█████▊    | 7046/12000 [00:30<00:21, 234.82it/s]\u001b[A\n",
            " 59%|█████▉    | 7070/12000 [00:30<00:20, 235.00it/s]\u001b[A\n",
            " 59%|█████▉    | 7094/12000 [00:30<00:20, 233.62it/s]\u001b[A\n",
            " 59%|█████▉    | 7118/12000 [00:30<00:21, 232.43it/s]\u001b[A\n",
            " 60%|█████▉    | 7142/12000 [00:30<00:21, 226.94it/s]\u001b[A\n",
            " 60%|█████▉    | 7167/12000 [00:30<00:20, 231.09it/s]\u001b[A\n",
            " 60%|█████▉    | 7191/12000 [00:30<00:20, 231.13it/s]\u001b[A\n",
            " 60%|██████    | 7216/12000 [00:30<00:20, 234.85it/s]\u001b[A\n",
            " 60%|██████    | 7241/12000 [00:31<00:20, 237.93it/s]\u001b[A\n",
            " 61%|██████    | 7265/12000 [00:31<00:20, 228.17it/s]\u001b[A\n",
            " 61%|██████    | 7289/12000 [00:31<00:20, 231.35it/s]\u001b[A\n",
            " 61%|██████    | 7313/12000 [00:31<00:20, 233.74it/s]\u001b[A\n",
            " 61%|██████    | 7337/12000 [00:31<00:19, 235.26it/s]\u001b[A\n",
            " 61%|██████▏   | 7362/12000 [00:31<00:19, 238.79it/s]\u001b[A\n",
            " 62%|██████▏   | 7386/12000 [00:31<00:19, 233.09it/s]\u001b[A\n",
            " 62%|██████▏   | 7410/12000 [00:31<00:19, 234.54it/s]\u001b[A\n",
            " 62%|██████▏   | 7434/12000 [00:31<00:19, 235.29it/s]\u001b[A\n",
            " 62%|██████▏   | 7459/12000 [00:32<00:19, 237.48it/s]\u001b[A\n",
            " 62%|██████▏   | 7484/12000 [00:32<00:18, 240.46it/s]\u001b[A\n",
            " 63%|██████▎   | 7509/12000 [00:32<00:18, 240.50it/s]\u001b[A\n",
            " 63%|██████▎   | 7534/12000 [00:32<00:18, 241.91it/s]\u001b[A\n",
            " 63%|██████▎   | 7559/12000 [00:32<00:18, 241.21it/s]\u001b[A\n",
            " 63%|██████▎   | 7584/12000 [00:32<00:18, 240.14it/s]\u001b[A\n",
            " 63%|██████▎   | 7609/12000 [00:32<00:18, 242.34it/s]\u001b[A\n",
            " 64%|██████▎   | 7634/12000 [00:32<00:18, 235.92it/s]\u001b[A\n",
            " 64%|██████▍   | 7658/12000 [00:32<00:18, 234.46it/s]\u001b[A\n",
            " 64%|██████▍   | 7683/12000 [00:32<00:18, 236.87it/s]\u001b[A\n",
            " 64%|██████▍   | 7707/12000 [00:33<00:18, 230.94it/s]\u001b[A\n",
            " 64%|██████▍   | 7733/12000 [00:33<00:17, 237.13it/s]\u001b[A\n",
            " 65%|██████▍   | 7758/12000 [00:33<00:17, 238.30it/s]\u001b[A\n",
            " 65%|██████▍   | 7783/12000 [00:33<00:17, 239.98it/s]\u001b[A\n",
            " 65%|██████▌   | 7808/12000 [00:33<00:17, 242.60it/s]\u001b[A\n",
            " 65%|██████▌   | 7833/12000 [00:33<00:17, 240.33it/s]\u001b[A\n",
            " 65%|██████▌   | 7858/12000 [00:33<00:17, 240.31it/s]\u001b[A\n",
            " 66%|██████▌   | 7883/12000 [00:33<00:17, 236.22it/s]\u001b[A\n",
            " 66%|██████▌   | 7907/12000 [00:33<00:17, 235.09it/s]\u001b[A\n",
            " 66%|██████▌   | 7931/12000 [00:33<00:17, 231.81it/s]\u001b[A\n",
            " 66%|██████▋   | 7955/12000 [00:34<00:17, 230.27it/s]\u001b[A\n",
            " 66%|██████▋   | 7979/12000 [00:34<00:17, 224.40it/s]\u001b[A\n",
            " 67%|██████▋   | 8002/12000 [00:34<00:18, 221.76it/s]\u001b[A\n",
            " 67%|██████▋   | 8025/12000 [00:34<00:18, 212.91it/s]\u001b[A"
          ],
          "name": "stderr"
        },
        {
          "output_type": "stream",
          "text": [
            "[1,  8000] loss: 0.238\n"
          ],
          "name": "stdout"
        },
        {
          "output_type": "stream",
          "text": [
            "\n",
            " 67%|██████▋   | 8047/12000 [00:34<00:18, 213.57it/s]\u001b[A\n",
            " 67%|██████▋   | 8070/12000 [00:34<00:18, 215.92it/s]\u001b[A\n",
            " 67%|██████▋   | 8092/12000 [00:34<00:18, 214.54it/s]\u001b[A\n",
            " 68%|██████▊   | 8115/12000 [00:34<00:17, 217.24it/s]\u001b[A\n",
            " 68%|██████▊   | 8138/12000 [00:34<00:17, 219.59it/s]\u001b[A\n",
            " 68%|██████▊   | 8160/12000 [00:35<00:17, 218.88it/s]\u001b[A\n",
            " 68%|██████▊   | 8182/12000 [00:35<00:17, 218.29it/s]\u001b[A\n",
            " 68%|██████▊   | 8205/12000 [00:35<00:17, 220.61it/s]\u001b[A\n",
            " 69%|██████▊   | 8228/12000 [00:35<00:17, 219.38it/s]\u001b[A\n",
            " 69%|██████▉   | 8251/12000 [00:35<00:17, 220.46it/s]\u001b[A\n",
            " 69%|██████▉   | 8274/12000 [00:35<00:17, 218.80it/s]\u001b[A\n",
            " 69%|██████▉   | 8296/12000 [00:35<00:17, 216.25it/s]\u001b[A\n",
            " 69%|██████▉   | 8318/12000 [00:35<00:17, 210.93it/s]\u001b[A\n",
            " 70%|██████▉   | 8341/12000 [00:35<00:17, 214.13it/s]\u001b[A\n",
            " 70%|██████▉   | 8364/12000 [00:35<00:16, 216.78it/s]\u001b[A\n",
            " 70%|██████▉   | 8386/12000 [00:36<00:17, 210.67it/s]\u001b[A\n",
            " 70%|███████   | 8408/12000 [00:36<00:16, 213.13it/s]\u001b[A\n",
            " 70%|███████   | 8430/12000 [00:36<00:17, 209.53it/s]\u001b[A\n",
            " 70%|███████   | 8452/12000 [00:36<00:16, 211.01it/s]\u001b[A\n",
            " 71%|███████   | 8475/12000 [00:36<00:16, 214.41it/s]\u001b[A\n",
            " 71%|███████   | 8498/12000 [00:36<00:16, 216.89it/s]\u001b[A\n",
            " 71%|███████   | 8521/12000 [00:36<00:15, 217.62it/s]\u001b[A\n",
            " 71%|███████   | 8545/12000 [00:36<00:15, 222.31it/s]\u001b[A\n",
            " 71%|███████▏  | 8568/12000 [00:36<00:15, 222.22it/s]\u001b[A\n",
            " 72%|███████▏  | 8592/12000 [00:37<00:15, 226.58it/s]\u001b[A\n",
            " 72%|███████▏  | 8616/12000 [00:37<00:14, 230.20it/s]\u001b[A\n",
            " 72%|███████▏  | 8640/12000 [00:37<00:15, 220.90it/s]\u001b[A\n",
            " 72%|███████▏  | 8664/12000 [00:37<00:14, 226.22it/s]\u001b[A\n",
            " 72%|███████▏  | 8687/12000 [00:37<00:14, 226.01it/s]\u001b[A\n",
            " 73%|███████▎  | 8711/12000 [00:37<00:14, 229.80it/s]\u001b[A\n",
            " 73%|███████▎  | 8735/12000 [00:37<00:14, 230.49it/s]\u001b[A\n",
            " 73%|███████▎  | 8759/12000 [00:37<00:14, 230.93it/s]\u001b[A\n",
            " 73%|███████▎  | 8783/12000 [00:37<00:14, 227.79it/s]\u001b[A\n",
            " 73%|███████▎  | 8806/12000 [00:37<00:13, 228.36it/s]\u001b[A\n",
            " 74%|███████▎  | 8831/12000 [00:38<00:13, 233.30it/s]\u001b[A\n",
            " 74%|███████▍  | 8856/12000 [00:38<00:13, 235.71it/s]\u001b[A\n",
            " 74%|███████▍  | 8881/12000 [00:38<00:13, 238.21it/s]\u001b[A\n",
            " 74%|███████▍  | 8905/12000 [00:38<00:13, 229.35it/s]\u001b[A\n",
            " 74%|███████▍  | 8929/12000 [00:38<00:13, 230.13it/s]\u001b[A\n",
            " 75%|███████▍  | 8953/12000 [00:38<00:13, 232.46it/s]\u001b[A\n",
            " 75%|███████▍  | 8977/12000 [00:38<00:12, 232.87it/s]\u001b[A\n",
            " 75%|███████▌  | 9001/12000 [00:38<00:12, 231.84it/s]\u001b[A\n",
            " 75%|███████▌  | 9026/12000 [00:38<00:12, 236.60it/s]\u001b[A\n",
            " 75%|███████▌  | 9051/12000 [00:39<00:12, 240.39it/s]\u001b[A\n",
            " 76%|███████▌  | 9077/12000 [00:39<00:11, 244.69it/s]\u001b[A\n",
            " 76%|███████▌  | 9102/12000 [00:39<00:11, 245.77it/s]\u001b[A\n",
            " 76%|███████▌  | 9127/12000 [00:39<00:12, 235.76it/s]\u001b[A\n",
            " 76%|███████▋  | 9151/12000 [00:39<00:12, 231.54it/s]\u001b[A\n",
            " 76%|███████▋  | 9177/12000 [00:39<00:11, 238.37it/s]\u001b[A\n",
            " 77%|███████▋  | 9201/12000 [00:39<00:11, 237.87it/s]\u001b[A\n",
            " 77%|███████▋  | 9227/12000 [00:39<00:11, 242.34it/s]\u001b[A\n",
            " 77%|███████▋  | 9252/12000 [00:39<00:11, 237.87it/s]\u001b[A\n",
            " 77%|███████▋  | 9276/12000 [00:39<00:11, 236.27it/s]\u001b[A\n",
            " 78%|███████▊  | 9301/12000 [00:40<00:11, 238.74it/s]\u001b[A\n",
            " 78%|███████▊  | 9327/12000 [00:40<00:11, 242.90it/s]\u001b[A\n",
            " 78%|███████▊  | 9353/12000 [00:40<00:10, 247.11it/s]\u001b[A\n",
            " 78%|███████▊  | 9378/12000 [00:40<00:10, 240.38it/s]\u001b[A\n",
            " 78%|███████▊  | 9403/12000 [00:40<00:11, 234.07it/s]\u001b[A\n",
            " 79%|███████▊  | 9427/12000 [00:40<00:10, 234.82it/s]\u001b[A\n",
            " 79%|███████▉  | 9452/12000 [00:40<00:10, 237.97it/s]\u001b[A\n",
            " 79%|███████▉  | 9476/12000 [00:40<00:10, 237.78it/s]\u001b[A\n",
            " 79%|███████▉  | 9500/12000 [00:40<00:10, 230.99it/s]\u001b[A\n",
            " 79%|███████▉  | 9524/12000 [00:41<00:10, 228.49it/s]\u001b[A\n",
            " 80%|███████▉  | 9549/12000 [00:41<00:10, 233.41it/s]\u001b[A\n",
            " 80%|███████▉  | 9574/12000 [00:41<00:10, 237.12it/s]\u001b[A\n",
            " 80%|███████▉  | 9598/12000 [00:41<00:10, 235.89it/s]\u001b[A\n",
            " 80%|████████  | 9622/12000 [00:41<00:10, 234.38it/s]\u001b[A\n",
            " 80%|████████  | 9646/12000 [00:41<00:10, 234.01it/s]\u001b[A\n",
            " 81%|████████  | 9671/12000 [00:41<00:09, 236.83it/s]\u001b[A\n",
            " 81%|████████  | 9696/12000 [00:41<00:09, 238.24it/s]\u001b[A\n",
            " 81%|████████  | 9720/12000 [00:41<00:09, 233.64it/s]\u001b[A\n",
            " 81%|████████  | 9744/12000 [00:41<00:09, 234.13it/s]\u001b[A\n",
            " 81%|████████▏ | 9768/12000 [00:42<00:09, 224.75it/s]\u001b[A\n",
            " 82%|████████▏ | 9792/12000 [00:42<00:09, 228.64it/s]\u001b[A\n",
            " 82%|████████▏ | 9815/12000 [00:42<00:09, 228.05it/s]\u001b[A\n",
            " 82%|████████▏ | 9840/12000 [00:42<00:09, 233.07it/s]\u001b[A\n",
            " 82%|████████▏ | 9865/12000 [00:42<00:09, 236.28it/s]\u001b[A\n",
            " 82%|████████▏ | 9891/12000 [00:42<00:08, 240.47it/s]\u001b[A\n",
            " 83%|████████▎ | 9916/12000 [00:42<00:08, 239.27it/s]\u001b[A\n",
            " 83%|████████▎ | 9942/12000 [00:42<00:08, 243.09it/s]\u001b[A\n",
            " 83%|████████▎ | 9967/12000 [00:42<00:08, 239.98it/s]\u001b[A\n",
            " 83%|████████▎ | 9992/12000 [00:42<00:08, 236.90it/s]\u001b[A\n",
            " 83%|████████▎ | 10016/12000 [00:43<00:08, 236.95it/s]\u001b[A\n",
            " 84%|████████▎ | 10040/12000 [00:43<00:08, 236.88it/s]\u001b[A"
          ],
          "name": "stderr"
        },
        {
          "output_type": "stream",
          "text": [
            "[1, 10000] loss: 0.210\n"
          ],
          "name": "stdout"
        },
        {
          "output_type": "stream",
          "text": [
            "\n",
            " 84%|████████▍ | 10064/12000 [00:43<00:08, 227.55it/s]\u001b[A\n",
            " 84%|████████▍ | 10089/12000 [00:43<00:08, 232.39it/s]\u001b[A\n",
            " 84%|████████▍ | 10113/12000 [00:43<00:08, 231.96it/s]\u001b[A\n",
            " 84%|████████▍ | 10137/12000 [00:43<00:08, 229.11it/s]\u001b[A\n",
            " 85%|████████▍ | 10160/12000 [00:43<00:08, 226.73it/s]\u001b[A\n",
            " 85%|████████▍ | 10184/12000 [00:43<00:07, 228.72it/s]\u001b[A\n",
            " 85%|████████▌ | 10207/12000 [00:43<00:08, 219.67it/s]\u001b[A\n",
            " 85%|████████▌ | 10231/12000 [00:44<00:07, 224.62it/s]\u001b[A\n",
            " 85%|████████▌ | 10255/12000 [00:44<00:07, 228.98it/s]\u001b[A\n",
            " 86%|████████▌ | 10279/12000 [00:44<00:07, 229.90it/s]\u001b[A\n",
            " 86%|████████▌ | 10303/12000 [00:44<00:07, 229.62it/s]\u001b[A\n",
            " 86%|████████▌ | 10327/12000 [00:44<00:07, 231.16it/s]\u001b[A\n",
            " 86%|████████▋ | 10352/12000 [00:44<00:07, 235.15it/s]\u001b[A\n",
            " 86%|████████▋ | 10376/12000 [00:44<00:07, 229.56it/s]\u001b[A\n",
            " 87%|████████▋ | 10401/12000 [00:44<00:06, 233.21it/s]\u001b[A\n",
            " 87%|████████▋ | 10425/12000 [00:44<00:06, 231.65it/s]\u001b[A\n",
            " 87%|████████▋ | 10450/12000 [00:44<00:06, 234.48it/s]\u001b[A\n",
            " 87%|████████▋ | 10475/12000 [00:45<00:06, 236.68it/s]\u001b[A\n",
            " 87%|████████▋ | 10499/12000 [00:45<00:06, 236.09it/s]\u001b[A\n",
            " 88%|████████▊ | 10523/12000 [00:45<00:06, 233.56it/s]\u001b[A\n",
            " 88%|████████▊ | 10548/12000 [00:45<00:06, 236.28it/s]\u001b[A\n",
            " 88%|████████▊ | 10572/12000 [00:45<00:06, 232.36it/s]\u001b[A\n",
            " 88%|████████▊ | 10596/12000 [00:45<00:06, 233.34it/s]\u001b[A\n",
            " 88%|████████▊ | 10620/12000 [00:45<00:05, 235.05it/s]\u001b[A\n",
            " 89%|████████▊ | 10644/12000 [00:45<00:05, 234.16it/s]\u001b[A\n",
            " 89%|████████▉ | 10668/12000 [00:45<00:05, 232.92it/s]\u001b[A\n",
            " 89%|████████▉ | 10692/12000 [00:46<00:05, 230.05it/s]\u001b[A\n",
            " 89%|████████▉ | 10716/12000 [00:46<00:05, 227.15it/s]\u001b[A\n",
            " 89%|████████▉ | 10739/12000 [00:46<00:05, 213.27it/s]\u001b[A\n",
            " 90%|████████▉ | 10763/12000 [00:46<00:05, 219.62it/s]\u001b[A\n",
            " 90%|████████▉ | 10788/12000 [00:46<00:05, 225.44it/s]\u001b[A\n",
            " 90%|█████████ | 10813/12000 [00:46<00:05, 230.71it/s]\u001b[A\n",
            " 90%|█████████ | 10837/12000 [00:46<00:05, 232.47it/s]\u001b[A\n",
            " 91%|█████████ | 10861/12000 [00:46<00:04, 233.48it/s]\u001b[A\n",
            " 91%|█████████ | 10885/12000 [00:46<00:04, 234.98it/s]\u001b[A\n",
            " 91%|█████████ | 10909/12000 [00:46<00:04, 234.55it/s]\u001b[A\n",
            " 91%|█████████ | 10933/12000 [00:47<00:04, 230.82it/s]\u001b[A\n",
            " 91%|█████████▏| 10957/12000 [00:47<00:04, 232.81it/s]\u001b[A\n",
            " 92%|█████████▏| 10982/12000 [00:47<00:04, 235.18it/s]\u001b[A\n",
            " 92%|█████████▏| 11007/12000 [00:47<00:04, 238.58it/s]\u001b[A\n",
            " 92%|█████████▏| 11031/12000 [00:47<00:04, 233.35it/s]\u001b[A\n",
            " 92%|█████████▏| 11055/12000 [00:47<00:04, 230.96it/s]\u001b[A\n",
            " 92%|█████████▏| 11080/12000 [00:47<00:03, 234.96it/s]\u001b[A\n",
            " 93%|█████████▎| 11105/12000 [00:47<00:03, 236.80it/s]\u001b[A\n",
            " 93%|█████████▎| 11129/12000 [00:47<00:03, 232.90it/s]\u001b[A\n",
            " 93%|█████████▎| 11153/12000 [00:48<00:03, 224.59it/s]\u001b[A\n",
            " 93%|█████████▎| 11176/12000 [00:48<00:03, 217.73it/s]\u001b[A\n",
            " 93%|█████████▎| 11199/12000 [00:48<00:03, 220.70it/s]\u001b[A\n",
            " 94%|█████████▎| 11223/12000 [00:48<00:03, 224.84it/s]\u001b[A\n",
            " 94%|█████████▎| 11247/12000 [00:48<00:03, 228.34it/s]\u001b[A\n",
            " 94%|█████████▍| 11272/12000 [00:48<00:03, 232.88it/s]\u001b[A\n",
            " 94%|█████████▍| 11296/12000 [00:48<00:03, 233.55it/s]\u001b[A\n",
            " 94%|█████████▍| 11320/12000 [00:48<00:02, 230.18it/s]\u001b[A\n",
            " 95%|█████████▍| 11344/12000 [00:48<00:02, 229.66it/s]\u001b[A\n",
            " 95%|█████████▍| 11367/12000 [00:48<00:02, 226.78it/s]\u001b[A\n",
            " 95%|█████████▍| 11391/12000 [00:49<00:02, 229.18it/s]\u001b[A\n",
            " 95%|█████████▌| 11414/12000 [00:49<00:02, 228.05it/s]\u001b[A\n",
            " 95%|█████████▌| 11437/12000 [00:49<00:02, 227.42it/s]\u001b[A\n",
            " 96%|█████████▌| 11461/12000 [00:49<00:02, 230.54it/s]\u001b[A\n",
            " 96%|█████████▌| 11485/12000 [00:49<00:02, 232.97it/s]\u001b[A\n",
            " 96%|█████████▌| 11510/12000 [00:49<00:02, 235.40it/s]\u001b[A\n",
            " 96%|█████████▌| 11534/12000 [00:49<00:01, 235.80it/s]\u001b[A\n",
            " 96%|█████████▋| 11558/12000 [00:49<00:01, 236.44it/s]\u001b[A\n",
            " 97%|█████████▋| 11582/12000 [00:49<00:01, 231.16it/s]\u001b[A\n",
            " 97%|█████████▋| 11606/12000 [00:49<00:01, 221.24it/s]\u001b[A\n",
            " 97%|█████████▋| 11629/12000 [00:50<00:01, 219.86it/s]\u001b[A\n",
            " 97%|█████████▋| 11654/12000 [00:50<00:01, 227.10it/s]\u001b[A\n",
            " 97%|█████████▋| 11678/12000 [00:50<00:01, 230.19it/s]\u001b[A\n",
            " 98%|█████████▊| 11702/12000 [00:50<00:01, 232.35it/s]\u001b[A\n",
            " 98%|█████████▊| 11727/12000 [00:50<00:01, 234.89it/s]\u001b[A\n",
            " 98%|█████████▊| 11751/12000 [00:50<00:01, 235.07it/s]\u001b[A\n",
            " 98%|█████████▊| 11776/12000 [00:50<00:00, 237.83it/s]\u001b[A\n",
            " 98%|█████████▊| 11801/12000 [00:50<00:00, 239.41it/s]\u001b[A\n",
            " 99%|█████████▊| 11825/12000 [00:50<00:00, 238.56it/s]\u001b[A\n",
            " 99%|█████████▊| 11849/12000 [00:51<00:00, 225.73it/s]\u001b[A\n",
            " 99%|█████████▉| 11874/12000 [00:51<00:00, 230.12it/s]\u001b[A\n",
            " 99%|█████████▉| 11899/12000 [00:51<00:00, 233.60it/s]\u001b[A\n",
            " 99%|█████████▉| 11923/12000 [00:51<00:00, 229.27it/s]\u001b[A\n",
            "100%|█████████▉| 11947/12000 [00:51<00:00, 230.86it/s]\u001b[A\n",
            "100%|█████████▉| 11972/12000 [00:51<00:00, 233.78it/s]\u001b[A\n",
            "100%|██████████| 12000/12000 [00:51<00:00, 232.17it/s]\n"
          ],
          "name": "stderr"
        },
        {
          "output_type": "stream",
          "text": [
            "[1, 12000] loss: 0.159\n"
          ],
          "name": "stdout"
        },
        {
          "output_type": "display_data",
          "data": {
            "image/png": "[encoded data removed]",
            "text/plain": [
              "<Figure size 720x504 with 1 Axes>"
            ]
          },
          "metadata": {
            "tags": [],
            "needs_background": "light"
          }
        },
        {
          "output_type": "stream",
          "text": [
            " 50%|█████     | 1/2 [00:51<00:51, 51.89s/it]\n",
            "  0%|          | 0/12000 [00:00<?, ?it/s]\u001b[A\n",
            "  0%|          | 23/12000 [00:00<00:53, 223.22it/s]\u001b[A\n",
            "  0%|          | 47/12000 [00:00<00:52, 225.90it/s]\u001b[A\n",
            "  1%|          | 70/12000 [00:00<00:52, 226.19it/s]\u001b[A\n",
            "  1%|          | 94/12000 [00:00<00:52, 228.71it/s]\u001b[A\n",
            "  1%|          | 117/12000 [00:00<00:52, 226.91it/s]\u001b[A\n",
            "  1%|          | 141/12000 [00:00<00:51, 228.90it/s]\u001b[A\n",
            "  1%|▏         | 166/12000 [00:00<00:50, 232.53it/s]\u001b[A\n",
            "  2%|▏         | 188/12000 [00:00<00:51, 228.37it/s]\u001b[A\n",
            "  2%|▏         | 212/12000 [00:00<00:50, 231.59it/s]\u001b[A\n",
            "  2%|▏         | 237/12000 [00:01<00:49, 235.33it/s]\u001b[A\n",
            "  2%|▏         | 260/12000 [00:01<00:52, 225.14it/s]\u001b[A\n",
            "  2%|▏         | 284/12000 [00:01<00:51, 228.57it/s]\u001b[A\n",
            "  3%|▎         | 309/12000 [00:01<00:50, 232.27it/s]\u001b[A\n",
            "  3%|▎         | 334/12000 [00:01<00:49, 235.95it/s]\u001b[A\n",
            "  3%|▎         | 358/12000 [00:01<00:50, 232.10it/s]\u001b[A\n",
            "  3%|▎         | 382/12000 [00:01<00:49, 232.70it/s]\u001b[A\n",
            "  3%|▎         | 406/12000 [00:01<00:49, 233.49it/s]\u001b[A\n",
            "  4%|▎         | 430/12000 [00:01<00:49, 234.82it/s]\u001b[A\n",
            "  4%|▍         | 454/12000 [00:01<00:50, 230.27it/s]\u001b[A\n",
            "  4%|▍         | 478/12000 [00:02<00:49, 230.54it/s]\u001b[A\n",
            "  4%|▍         | 502/12000 [00:02<00:50, 229.89it/s]\u001b[A\n",
            "  4%|▍         | 526/12000 [00:02<00:49, 231.51it/s]\u001b[A\n",
            "  5%|▍         | 550/12000 [00:02<00:49, 232.86it/s]\u001b[A\n",
            "  5%|▍         | 574/12000 [00:02<00:49, 230.92it/s]\u001b[A\n",
            "  5%|▍         | 598/12000 [00:02<00:49, 232.61it/s]\u001b[A\n",
            "  5%|▌         | 623/12000 [00:02<00:48, 235.71it/s]\u001b[A\n",
            "  5%|▌         | 647/12000 [00:02<00:48, 234.23it/s]\u001b[A\n",
            "  6%|▌         | 671/12000 [00:02<00:48, 232.45it/s]\u001b[A\n",
            "  6%|▌         | 695/12000 [00:03<00:49, 228.31it/s]\u001b[A\n",
            "  6%|▌         | 719/12000 [00:03<00:49, 227.79it/s]\u001b[A\n",
            "  6%|▌         | 743/12000 [00:03<00:49, 229.47it/s]\u001b[A\n",
            "  6%|▋         | 766/12000 [00:03<00:49, 224.96it/s]\u001b[A\n",
            "  7%|▋         | 789/12000 [00:03<00:49, 224.81it/s]\u001b[A\n",
            "  7%|▋         | 812/12000 [00:03<00:49, 226.03it/s]\u001b[A\n",
            "  7%|▋         | 836/12000 [00:03<00:49, 227.79it/s]\u001b[A\n",
            "  7%|▋         | 860/12000 [00:03<00:48, 230.47it/s]\u001b[A\n",
            "  7%|▋         | 884/12000 [00:03<00:49, 226.07it/s]\u001b[A\n",
            "  8%|▊         | 907/12000 [00:03<00:50, 218.84it/s]\u001b[A\n",
            "  8%|▊         | 930/12000 [00:04<00:50, 220.77it/s]\u001b[A\n",
            "  8%|▊         | 953/12000 [00:04<00:50, 219.56it/s]\u001b[A\n",
            "  8%|▊         | 976/12000 [00:04<00:49, 221.60it/s]\u001b[A\n",
            "  8%|▊         | 999/12000 [00:04<00:49, 223.66it/s]\u001b[A\n",
            "  9%|▊         | 1023/12000 [00:04<00:48, 226.16it/s]\u001b[A\n",
            "  9%|▊         | 1046/12000 [00:04<00:48, 223.84it/s]\u001b[A\n",
            "  9%|▉         | 1070/12000 [00:04<00:48, 225.75it/s]\u001b[A\n",
            "  9%|▉         | 1093/12000 [00:04<00:49, 220.15it/s]\u001b[A\n",
            "  9%|▉         | 1116/12000 [00:04<00:49, 220.56it/s]\u001b[A\n",
            " 10%|▉         | 1140/12000 [00:04<00:48, 224.28it/s]\u001b[A\n",
            " 10%|▉         | 1163/12000 [00:05<00:48, 225.53it/s]\u001b[A\n",
            " 10%|▉         | 1186/12000 [00:05<00:48, 225.11it/s]\u001b[A\n",
            " 10%|█         | 1210/12000 [00:05<00:47, 227.79it/s]\u001b[A\n",
            " 10%|█         | 1233/12000 [00:05<00:47, 227.12it/s]\u001b[A\n",
            " 10%|█         | 1256/12000 [00:05<00:47, 226.91it/s]\u001b[A\n",
            " 11%|█         | 1279/12000 [00:05<00:48, 220.98it/s]\u001b[A\n",
            " 11%|█         | 1302/12000 [00:05<00:48, 219.47it/s]\u001b[A\n",
            " 11%|█         | 1326/12000 [00:05<00:47, 223.55it/s]\u001b[A\n",
            " 11%|█▏        | 1350/12000 [00:05<00:47, 226.31it/s]\u001b[A\n",
            " 11%|█▏        | 1374/12000 [00:06<00:46, 229.80it/s]\u001b[A\n",
            " 12%|█▏        | 1398/12000 [00:06<00:46, 228.38it/s]\u001b[A\n",
            " 12%|█▏        | 1421/12000 [00:06<00:47, 223.29it/s]\u001b[A\n",
            " 12%|█▏        | 1445/12000 [00:06<00:46, 226.05it/s]\u001b[A\n",
            " 12%|█▏        | 1468/12000 [00:06<00:46, 224.26it/s]\u001b[A\n",
            " 12%|█▏        | 1491/12000 [00:06<00:47, 221.52it/s]\u001b[A\n",
            " 13%|█▎        | 1514/12000 [00:06<00:47, 218.76it/s]\u001b[A\n",
            " 13%|█▎        | 1538/12000 [00:06<00:46, 223.99it/s]\u001b[A\n",
            " 13%|█▎        | 1561/12000 [00:06<00:48, 217.45it/s]\u001b[A\n",
            " 13%|█▎        | 1584/12000 [00:06<00:47, 219.23it/s]\u001b[A\n",
            " 13%|█▎        | 1608/12000 [00:07<00:46, 223.63it/s]\u001b[A\n",
            " 14%|█▎        | 1631/12000 [00:07<00:46, 220.67it/s]\u001b[A\n",
            " 14%|█▍        | 1654/12000 [00:07<00:47, 219.70it/s]\u001b[A\n",
            " 14%|█▍        | 1677/12000 [00:07<00:47, 218.27it/s]\u001b[A\n",
            " 14%|█▍        | 1700/12000 [00:07<00:46, 221.46it/s]\u001b[A\n",
            " 14%|█▍        | 1723/12000 [00:07<00:46, 221.54it/s]\u001b[A\n",
            " 15%|█▍        | 1747/12000 [00:07<00:45, 225.07it/s]\u001b[A\n",
            " 15%|█▍        | 1770/12000 [00:07<00:45, 224.67it/s]\u001b[A\n",
            " 15%|█▍        | 1793/12000 [00:07<00:46, 221.70it/s]\u001b[A\n",
            " 15%|█▌        | 1816/12000 [00:08<00:45, 223.13it/s]\u001b[A\n",
            " 15%|█▌        | 1839/12000 [00:08<00:45, 223.52it/s]\u001b[A\n",
            " 16%|█▌        | 1862/12000 [00:08<00:45, 220.62it/s]\u001b[A\n",
            " 16%|█▌        | 1886/12000 [00:08<00:44, 225.66it/s]\u001b[A\n",
            " 16%|█▌        | 1909/12000 [00:08<00:44, 225.45it/s]\u001b[A\n",
            " 16%|█▌        | 1932/12000 [00:08<00:44, 226.01it/s]\u001b[A\n",
            " 16%|█▋        | 1956/12000 [00:08<00:43, 228.42it/s]\u001b[A\n",
            " 16%|█▋        | 1979/12000 [00:08<00:44, 224.23it/s]\u001b[A\n",
            " 17%|█▋        | 2002/12000 [00:08<00:45, 218.97it/s]\u001b[A\n",
            " 17%|█▋        | 2025/12000 [00:08<00:45, 221.45it/s]\u001b[A"
          ],
          "name": "stderr"
        },
        {
          "output_type": "stream",
          "text": [
            "[2,  2000] loss: 0.158\n"
          ],
          "name": "stdout"
        },
        {
          "output_type": "stream",
          "text": [
            "\n",
            " 17%|█▋        | 2048/12000 [00:09<00:44, 221.50it/s]\u001b[A\n",
            " 17%|█▋        | 2072/12000 [00:09<00:44, 224.49it/s]\u001b[A\n",
            " 17%|█▋        | 2095/12000 [00:09<00:44, 224.68it/s]\u001b[A\n",
            " 18%|█▊        | 2118/12000 [00:09<00:43, 224.95it/s]\u001b[A\n",
            " 18%|█▊        | 2141/12000 [00:09<00:44, 223.91it/s]\u001b[A\n",
            " 18%|█▊        | 2164/12000 [00:09<00:44, 222.98it/s]\u001b[A\n",
            " 18%|█▊        | 2188/12000 [00:09<00:43, 227.73it/s]\u001b[A\n",
            " 18%|█▊        | 2211/12000 [00:09<00:43, 223.63it/s]\u001b[A\n",
            " 19%|█▊        | 2234/12000 [00:09<00:43, 224.70it/s]\u001b[A\n",
            " 19%|█▉        | 2258/12000 [00:09<00:42, 226.72it/s]\u001b[A\n",
            " 19%|█▉        | 2281/12000 [00:10<00:42, 226.82it/s]\u001b[A\n",
            " 19%|█▉        | 2305/12000 [00:10<00:42, 229.72it/s]\u001b[A\n",
            " 19%|█▉        | 2328/12000 [00:10<00:42, 228.06it/s]\u001b[A\n",
            " 20%|█▉        | 2352/12000 [00:10<00:41, 230.05it/s]\u001b[A\n",
            " 20%|█▉        | 2376/12000 [00:10<00:42, 226.73it/s]\u001b[A\n",
            " 20%|█▉        | 2399/12000 [00:10<00:43, 220.62it/s]\u001b[A\n",
            " 20%|██        | 2423/12000 [00:10<00:42, 224.71it/s]\u001b[A\n",
            " 20%|██        | 2446/12000 [00:10<00:43, 221.39it/s]\u001b[A\n",
            " 21%|██        | 2470/12000 [00:10<00:42, 224.57it/s]\u001b[A\n",
            " 21%|██        | 2495/12000 [00:11<00:41, 229.11it/s]\u001b[A\n",
            " 21%|██        | 2518/12000 [00:11<00:41, 227.49it/s]\u001b[A\n",
            " 21%|██        | 2542/12000 [00:11<00:41, 228.09it/s]\u001b[A\n",
            " 21%|██▏       | 2566/12000 [00:11<00:40, 230.21it/s]\u001b[A\n",
            " 22%|██▏       | 2590/12000 [00:11<00:41, 225.74it/s]\u001b[A\n",
            " 22%|██▏       | 2614/12000 [00:11<00:41, 228.31it/s]\u001b[A\n",
            " 22%|██▏       | 2637/12000 [00:11<00:42, 222.80it/s]\u001b[A\n",
            " 22%|██▏       | 2660/12000 [00:11<00:42, 221.75it/s]\u001b[A\n",
            " 22%|██▏       | 2684/12000 [00:11<00:41, 226.47it/s]\u001b[A\n",
            " 23%|██▎       | 2707/12000 [00:11<00:41, 223.92it/s]\u001b[A\n",
            " 23%|██▎       | 2730/12000 [00:12<00:41, 222.56it/s]\u001b[A\n",
            " 23%|██▎       | 2753/12000 [00:12<00:41, 223.64it/s]\u001b[A\n",
            " 23%|██▎       | 2776/12000 [00:12<00:43, 214.04it/s]\u001b[A\n",
            " 23%|██▎       | 2798/12000 [00:12<00:42, 214.75it/s]\u001b[A\n",
            " 24%|██▎       | 2822/12000 [00:12<00:41, 220.61it/s]\u001b[A\n",
            " 24%|██▎       | 2846/12000 [00:12<00:40, 224.11it/s]\u001b[A\n",
            " 24%|██▍       | 2870/12000 [00:12<00:40, 227.22it/s]\u001b[A\n",
            " 24%|██▍       | 2893/12000 [00:12<00:40, 227.27it/s]\u001b[A\n",
            " 24%|██▍       | 2916/12000 [00:12<00:40, 226.74it/s]\u001b[A\n",
            " 24%|██▍       | 2939/12000 [00:13<00:40, 223.42it/s]\u001b[A\n",
            " 25%|██▍       | 2962/12000 [00:13<00:40, 224.75it/s]\u001b[A\n",
            " 25%|██▍       | 2985/12000 [00:13<00:40, 221.69it/s]\u001b[A\n",
            " 25%|██▌       | 3008/12000 [00:13<00:41, 218.02it/s]\u001b[A\n",
            " 25%|██▌       | 3032/12000 [00:13<00:40, 222.98it/s]\u001b[A\n",
            " 25%|██▌       | 3056/12000 [00:13<00:39, 226.25it/s]\u001b[A\n",
            " 26%|██▌       | 3080/12000 [00:13<00:38, 229.66it/s]\u001b[A\n",
            " 26%|██▌       | 3104/12000 [00:13<00:38, 229.95it/s]\u001b[A\n",
            " 26%|██▌       | 3128/12000 [00:13<00:38, 229.53it/s]\u001b[A\n",
            " 26%|██▋       | 3151/12000 [00:13<00:39, 225.17it/s]\u001b[A\n",
            " 26%|██▋       | 3174/12000 [00:14<00:40, 220.04it/s]\u001b[A\n",
            " 27%|██▋       | 3197/12000 [00:14<00:39, 220.91it/s]\u001b[A\n",
            " 27%|██▋       | 3221/12000 [00:14<00:39, 224.07it/s]\u001b[A\n",
            " 27%|██▋       | 3244/12000 [00:14<00:39, 223.43it/s]\u001b[A\n",
            " 27%|██▋       | 3267/12000 [00:14<00:39, 218.57it/s]\u001b[A\n",
            " 27%|██▋       | 3289/12000 [00:14<00:40, 215.29it/s]\u001b[A\n",
            " 28%|██▊       | 3313/12000 [00:14<00:39, 221.91it/s]\u001b[A\n",
            " 28%|██▊       | 3336/12000 [00:14<00:39, 219.96it/s]\u001b[A\n",
            " 28%|██▊       | 3359/12000 [00:14<00:38, 222.53it/s]\u001b[A\n",
            " 28%|██▊       | 3382/12000 [00:15<00:38, 223.87it/s]\u001b[A\n",
            " 28%|██▊       | 3407/12000 [00:15<00:37, 228.90it/s]\u001b[A\n",
            " 29%|██▊       | 3431/12000 [00:15<00:37, 230.26it/s]\u001b[A\n",
            " 29%|██▉       | 3455/12000 [00:15<00:37, 226.26it/s]\u001b[A\n",
            " 29%|██▉       | 3478/12000 [00:15<00:37, 224.55it/s]\u001b[A\n",
            " 29%|██▉       | 3501/12000 [00:15<00:38, 222.28it/s]\u001b[A\n",
            " 29%|██▉       | 3525/12000 [00:15<00:37, 224.97it/s]\u001b[A\n",
            " 30%|██▉       | 3548/12000 [00:15<00:37, 225.50it/s]\u001b[A\n",
            " 30%|██▉       | 3571/12000 [00:15<00:38, 221.64it/s]\u001b[A\n",
            " 30%|██▉       | 3594/12000 [00:15<00:37, 222.40it/s]\u001b[A\n",
            " 30%|███       | 3617/12000 [00:16<00:37, 220.99it/s]\u001b[A\n",
            " 30%|███       | 3641/12000 [00:16<00:37, 224.14it/s]\u001b[A\n",
            " 31%|███       | 3664/12000 [00:16<00:38, 216.00it/s]\u001b[A\n",
            " 31%|███       | 3686/12000 [00:16<00:39, 208.41it/s]\u001b[A\n",
            " 31%|███       | 3710/12000 [00:16<00:38, 216.74it/s]\u001b[A\n",
            " 31%|███       | 3733/12000 [00:16<00:37, 218.90it/s]\u001b[A\n",
            " 31%|███▏      | 3756/12000 [00:16<00:37, 218.70it/s]\u001b[A\n",
            " 31%|███▏      | 3778/12000 [00:16<00:37, 217.13it/s]\u001b[A\n",
            " 32%|███▏      | 3800/12000 [00:16<00:38, 215.65it/s]\u001b[A\n",
            " 32%|███▏      | 3823/12000 [00:16<00:37, 219.69it/s]\u001b[A\n",
            " 32%|███▏      | 3848/12000 [00:17<00:35, 226.80it/s]\u001b[A\n",
            " 32%|███▏      | 3873/12000 [00:17<00:34, 232.51it/s]\u001b[A\n",
            " 32%|███▏      | 3898/12000 [00:17<00:34, 236.23it/s]\u001b[A\n",
            " 33%|███▎      | 3922/12000 [00:17<00:34, 234.24it/s]\u001b[A\n",
            " 33%|███▎      | 3946/12000 [00:17<00:35, 228.10it/s]\u001b[A\n",
            " 33%|███▎      | 3969/12000 [00:17<00:36, 222.71it/s]\u001b[A\n",
            " 33%|███▎      | 3993/12000 [00:17<00:35, 226.91it/s]\u001b[A\n",
            " 33%|███▎      | 4017/12000 [00:17<00:34, 228.30it/s]\u001b[A\n",
            " 34%|███▎      | 4041/12000 [00:17<00:34, 229.36it/s]\u001b[A"
          ],
          "name": "stderr"
        },
        {
          "output_type": "stream",
          "text": [
            "[2,  4000] loss: 0.139\n"
          ],
          "name": "stdout"
        },
        {
          "output_type": "stream",
          "text": [
            "\n",
            " 34%|███▍      | 4064/12000 [00:18<00:34, 226.89it/s]\u001b[A\n",
            " 34%|███▍      | 4087/12000 [00:18<00:34, 226.33it/s]\u001b[A\n",
            " 34%|███▍      | 4111/12000 [00:18<00:34, 229.51it/s]\u001b[A\n",
            " 34%|███▍      | 4134/12000 [00:18<00:35, 224.18it/s]\u001b[A\n",
            " 35%|███▍      | 4157/12000 [00:18<00:34, 224.98it/s]\u001b[A\n",
            " 35%|███▍      | 4182/12000 [00:18<00:33, 230.02it/s]\u001b[A\n",
            " 35%|███▌      | 4207/12000 [00:18<00:33, 233.71it/s]\u001b[A\n",
            " 35%|███▌      | 4231/12000 [00:18<00:34, 227.01it/s]\u001b[A\n",
            " 35%|███▌      | 4254/12000 [00:18<00:34, 227.73it/s]\u001b[A\n",
            " 36%|███▌      | 4278/12000 [00:18<00:33, 228.03it/s]\u001b[A\n",
            " 36%|███▌      | 4301/12000 [00:19<00:34, 225.41it/s]\u001b[A\n",
            " 36%|███▌      | 4324/12000 [00:19<00:34, 220.82it/s]\u001b[A\n",
            " 36%|███▌      | 4347/12000 [00:19<00:34, 218.91it/s]\u001b[A\n",
            " 36%|███▋      | 4369/12000 [00:19<00:35, 217.38it/s]\u001b[A\n",
            " 37%|███▋      | 4392/12000 [00:19<00:34, 218.81it/s]\u001b[A\n",
            " 37%|███▋      | 4415/12000 [00:19<00:34, 219.69it/s]\u001b[A\n",
            " 37%|███▋      | 4439/12000 [00:19<00:33, 223.59it/s]\u001b[A\n",
            " 37%|███▋      | 4463/12000 [00:19<00:33, 226.01it/s]\u001b[A\n",
            " 37%|███▋      | 4487/12000 [00:19<00:33, 227.39it/s]\u001b[A\n",
            " 38%|███▊      | 4510/12000 [00:20<00:34, 219.62it/s]\u001b[A\n",
            " 38%|███▊      | 4533/12000 [00:20<00:34, 215.54it/s]\u001b[A\n",
            " 38%|███▊      | 4556/12000 [00:20<00:33, 219.09it/s]\u001b[A\n",
            " 38%|███▊      | 4578/12000 [00:20<00:34, 217.85it/s]\u001b[A\n",
            " 38%|███▊      | 4600/12000 [00:20<00:34, 215.58it/s]\u001b[A\n",
            " 39%|███▊      | 4624/12000 [00:20<00:33, 220.42it/s]\u001b[A\n",
            " 39%|███▊      | 4647/12000 [00:20<00:33, 220.48it/s]\u001b[A\n",
            " 39%|███▉      | 4670/12000 [00:20<00:32, 222.37it/s]\u001b[A\n",
            " 39%|███▉      | 4693/12000 [00:20<00:33, 221.40it/s]\u001b[A\n",
            " 39%|███▉      | 4718/12000 [00:20<00:32, 227.20it/s]\u001b[A\n",
            " 40%|███▉      | 4742/12000 [00:21<00:31, 228.68it/s]\u001b[A\n",
            " 40%|███▉      | 4765/12000 [00:21<00:31, 228.93it/s]\u001b[A\n",
            " 40%|███▉      | 4789/12000 [00:21<00:31, 230.88it/s]\u001b[A\n",
            " 40%|████      | 4813/12000 [00:21<00:31, 230.31it/s]\u001b[A\n",
            " 40%|████      | 4837/12000 [00:21<00:31, 224.19it/s]\u001b[A\n",
            " 40%|████      | 4860/12000 [00:21<00:31, 223.73it/s]\u001b[A\n",
            " 41%|████      | 4883/12000 [00:21<00:31, 225.33it/s]\u001b[A\n",
            " 41%|████      | 4906/12000 [00:21<00:31, 225.30it/s]\u001b[A\n",
            " 41%|████      | 4930/12000 [00:21<00:31, 227.60it/s]\u001b[A\n",
            " 41%|████▏     | 4954/12000 [00:22<00:30, 228.82it/s]\u001b[A\n",
            " 41%|████▏     | 4979/12000 [00:22<00:30, 232.56it/s]\u001b[A\n",
            " 42%|████▏     | 5003/12000 [00:22<00:29, 234.65it/s]\u001b[A\n",
            " 42%|████▏     | 5027/12000 [00:22<00:31, 221.59it/s]\u001b[A\n",
            " 42%|████▏     | 5050/12000 [00:22<00:31, 217.38it/s]\u001b[A\n",
            " 42%|████▏     | 5074/12000 [00:22<00:31, 223.34it/s]\u001b[A\n",
            " 42%|████▏     | 5098/12000 [00:22<00:30, 226.99it/s]\u001b[A\n",
            " 43%|████▎     | 5122/12000 [00:22<00:30, 228.11it/s]\u001b[A\n",
            " 43%|████▎     | 5146/12000 [00:22<00:29, 230.62it/s]\u001b[A\n",
            " 43%|████▎     | 5170/12000 [00:22<00:29, 232.99it/s]\u001b[A\n",
            " 43%|████▎     | 5195/12000 [00:23<00:28, 235.90it/s]\u001b[A\n",
            " 43%|████▎     | 5219/12000 [00:23<00:29, 231.08it/s]\u001b[A\n",
            " 44%|████▎     | 5243/12000 [00:23<00:30, 219.65it/s]\u001b[A\n",
            " 44%|████▍     | 5266/12000 [00:23<00:31, 215.94it/s]\u001b[A\n",
            " 44%|████▍     | 5288/12000 [00:23<00:31, 215.66it/s]\u001b[A\n",
            " 44%|████▍     | 5310/12000 [00:23<00:31, 214.73it/s]\u001b[A\n",
            " 44%|████▍     | 5333/12000 [00:23<00:30, 217.07it/s]\u001b[A\n",
            " 45%|████▍     | 5355/12000 [00:23<00:31, 211.20it/s]\u001b[A\n",
            " 45%|████▍     | 5377/12000 [00:23<00:31, 212.99it/s]\u001b[A\n",
            " 45%|████▍     | 5399/12000 [00:24<00:31, 212.33it/s]\u001b[A\n",
            " 45%|████▌     | 5422/12000 [00:24<00:30, 216.56it/s]\u001b[A\n",
            " 45%|████▌     | 5445/12000 [00:24<00:29, 219.05it/s]\u001b[A\n",
            " 46%|████▌     | 5467/12000 [00:24<00:30, 213.67it/s]\u001b[A\n",
            " 46%|████▌     | 5489/12000 [00:24<00:30, 214.18it/s]\u001b[A\n",
            " 46%|████▌     | 5511/12000 [00:24<00:31, 208.54it/s]\u001b[A\n",
            " 46%|████▌     | 5533/12000 [00:24<00:30, 209.86it/s]\u001b[A\n",
            " 46%|████▋     | 5555/12000 [00:24<00:30, 210.23it/s]\u001b[A\n",
            " 46%|████▋     | 5577/12000 [00:24<00:30, 212.04it/s]\u001b[A\n",
            " 47%|████▋     | 5600/12000 [00:24<00:29, 216.44it/s]\u001b[A\n",
            " 47%|████▋     | 5622/12000 [00:25<00:29, 216.30it/s]\u001b[A\n",
            " 47%|████▋     | 5644/12000 [00:25<00:29, 213.94it/s]\u001b[A\n",
            " 47%|████▋     | 5666/12000 [00:25<00:29, 211.93it/s]\u001b[A\n",
            " 47%|████▋     | 5688/12000 [00:25<00:30, 208.55it/s]\u001b[A\n",
            " 48%|████▊     | 5709/12000 [00:25<00:30, 208.28it/s]\u001b[A\n",
            " 48%|████▊     | 5731/12000 [00:25<00:29, 211.51it/s]\u001b[A\n",
            " 48%|████▊     | 5754/12000 [00:25<00:28, 216.41it/s]\u001b[A\n",
            " 48%|████▊     | 5776/12000 [00:25<00:28, 214.66it/s]\u001b[A\n",
            " 48%|████▊     | 5798/12000 [00:25<00:29, 211.84it/s]\u001b[A\n",
            " 49%|████▊     | 5821/12000 [00:25<00:28, 215.88it/s]\u001b[A\n",
            " 49%|████▊     | 5845/12000 [00:26<00:27, 221.53it/s]\u001b[A\n",
            " 49%|████▉     | 5868/12000 [00:26<00:27, 223.10it/s]\u001b[A\n",
            " 49%|████▉     | 5891/12000 [00:26<00:27, 224.65it/s]\u001b[A\n",
            " 49%|████▉     | 5915/12000 [00:26<00:26, 226.41it/s]\u001b[A\n",
            " 49%|████▉     | 5938/12000 [00:26<00:27, 219.09it/s]\u001b[A\n",
            " 50%|████▉     | 5961/12000 [00:26<00:27, 220.34it/s]\u001b[A\n",
            " 50%|████▉     | 5984/12000 [00:26<00:27, 222.50it/s]\u001b[A\n",
            " 50%|█████     | 6007/12000 [00:26<00:26, 222.28it/s]\u001b[A\n",
            " 50%|█████     | 6031/12000 [00:26<00:26, 225.31it/s]\u001b[A"
          ],
          "name": "stderr"
        },
        {
          "output_type": "stream",
          "text": [
            "[2,  6000] loss: 0.130\n"
          ],
          "name": "stdout"
        },
        {
          "output_type": "stream",
          "text": [
            "\n",
            " 50%|█████     | 6054/12000 [00:27<00:26, 223.22it/s]\u001b[A\n",
            " 51%|█████     | 6077/12000 [00:27<00:26, 222.58it/s]\u001b[A\n",
            " 51%|█████     | 6100/12000 [00:27<00:26, 219.59it/s]\u001b[A\n",
            " 51%|█████     | 6123/12000 [00:27<00:26, 222.43it/s]\u001b[A\n",
            " 51%|█████     | 6146/12000 [00:27<00:26, 221.83it/s]\u001b[A\n",
            " 51%|█████▏    | 6169/12000 [00:27<00:26, 218.61it/s]\u001b[A\n",
            " 52%|█████▏    | 6191/12000 [00:27<00:26, 215.96it/s]\u001b[A\n",
            " 52%|█████▏    | 6213/12000 [00:27<00:27, 211.75it/s]\u001b[A\n",
            " 52%|█████▏    | 6236/12000 [00:27<00:26, 216.14it/s]\u001b[A\n",
            " 52%|█████▏    | 6258/12000 [00:27<00:26, 215.10it/s]\u001b[A\n",
            " 52%|█████▏    | 6280/12000 [00:28<00:26, 214.46it/s]\u001b[A\n",
            " 53%|█████▎    | 6302/12000 [00:28<00:27, 209.48it/s]\u001b[A\n",
            " 53%|█████▎    | 6325/12000 [00:28<00:26, 213.68it/s]\u001b[A\n",
            " 53%|█████▎    | 6348/12000 [00:28<00:26, 215.81it/s]\u001b[A\n",
            " 53%|█████▎    | 6370/12000 [00:28<00:25, 216.90it/s]\u001b[A\n",
            " 53%|█████▎    | 6393/12000 [00:28<00:25, 217.78it/s]\u001b[A\n",
            " 53%|█████▎    | 6416/12000 [00:28<00:25, 220.96it/s]\u001b[A\n",
            " 54%|█████▎    | 6439/12000 [00:28<00:25, 221.85it/s]\u001b[A\n",
            " 54%|█████▍    | 6463/12000 [00:28<00:24, 224.47it/s]\u001b[A\n",
            " 54%|█████▍    | 6486/12000 [00:29<00:24, 221.40it/s]\u001b[A\n",
            " 54%|█████▍    | 6510/12000 [00:29<00:24, 224.64it/s]\u001b[A\n",
            " 54%|█████▍    | 6533/12000 [00:29<00:24, 225.12it/s]\u001b[A\n",
            " 55%|█████▍    | 6556/12000 [00:29<00:24, 222.75it/s]\u001b[A\n",
            " 55%|█████▍    | 6579/12000 [00:29<00:24, 224.64it/s]\u001b[A\n",
            " 55%|█████▌    | 6602/12000 [00:29<00:24, 218.27it/s]\u001b[A\n",
            " 55%|█████▌    | 6624/12000 [00:29<00:25, 212.04it/s]\u001b[A\n",
            " 55%|█████▌    | 6646/12000 [00:29<00:25, 213.66it/s]\u001b[A\n",
            " 56%|█████▌    | 6668/12000 [00:29<00:24, 213.69it/s]\u001b[A\n",
            " 56%|█████▌    | 6691/12000 [00:29<00:24, 215.89it/s]\u001b[A\n",
            " 56%|█████▌    | 6713/12000 [00:30<00:24, 215.05it/s]\u001b[A\n",
            " 56%|█████▌    | 6736/12000 [00:30<00:24, 218.86it/s]\u001b[A\n",
            " 56%|█████▋    | 6759/12000 [00:30<00:23, 221.66it/s]\u001b[A\n",
            " 57%|█████▋    | 6782/12000 [00:30<00:23, 220.46it/s]\u001b[A\n",
            " 57%|█████▋    | 6805/12000 [00:30<00:23, 220.50it/s]\u001b[A\n",
            " 57%|█████▋    | 6828/12000 [00:30<00:23, 216.61it/s]\u001b[A\n",
            " 57%|█████▋    | 6850/12000 [00:30<00:23, 216.43it/s]\u001b[A\n",
            " 57%|█████▋    | 6872/12000 [00:30<00:23, 216.34it/s]\u001b[A\n",
            " 57%|█████▋    | 6894/12000 [00:30<00:23, 214.95it/s]\u001b[A\n",
            " 58%|█████▊    | 6916/12000 [00:30<00:23, 213.89it/s]\u001b[A\n",
            " 58%|█████▊    | 6939/12000 [00:31<00:23, 217.04it/s]\u001b[A\n",
            " 58%|█████▊    | 6962/12000 [00:31<00:22, 220.69it/s]\u001b[A\n",
            " 58%|█████▊    | 6985/12000 [00:31<00:22, 222.31it/s]\u001b[A\n",
            " 58%|█████▊    | 7008/12000 [00:31<00:23, 216.33it/s]\u001b[A\n",
            " 59%|█████▊    | 7030/12000 [00:31<00:23, 213.13it/s]\u001b[A\n",
            " 59%|█████▉    | 7052/12000 [00:31<00:23, 209.17it/s]\u001b[A\n",
            " 59%|█████▉    | 7074/12000 [00:31<00:23, 211.05it/s]\u001b[A\n",
            " 59%|█████▉    | 7096/12000 [00:31<00:23, 213.12it/s]\u001b[A\n",
            " 59%|█████▉    | 7118/12000 [00:31<00:22, 214.04it/s]\u001b[A\n",
            " 60%|█████▉    | 7141/12000 [00:32<00:22, 217.26it/s]\u001b[A\n",
            " 60%|█████▉    | 7163/12000 [00:32<00:22, 216.22it/s]\u001b[A\n",
            " 60%|█████▉    | 7185/12000 [00:32<00:22, 216.98it/s]\u001b[A\n",
            " 60%|██████    | 7208/12000 [00:32<00:21, 219.69it/s]\u001b[A\n",
            " 60%|██████    | 7230/12000 [00:32<00:21, 217.42it/s]\u001b[A\n",
            " 60%|██████    | 7252/12000 [00:32<00:21, 216.63it/s]\u001b[A\n",
            " 61%|██████    | 7274/12000 [00:32<00:21, 215.21it/s]\u001b[A\n",
            " 61%|██████    | 7296/12000 [00:32<00:21, 214.94it/s]\u001b[A\n",
            " 61%|██████    | 7318/12000 [00:32<00:21, 215.68it/s]\u001b[A\n",
            " 61%|██████    | 7341/12000 [00:32<00:21, 218.19it/s]\u001b[A\n",
            " 61%|██████▏   | 7364/12000 [00:33<00:21, 219.51it/s]\u001b[A\n",
            " 62%|██████▏   | 7387/12000 [00:33<00:20, 220.55it/s]\u001b[A\n",
            " 62%|██████▏   | 7410/12000 [00:33<00:20, 219.97it/s]\u001b[A\n",
            " 62%|██████▏   | 7433/12000 [00:33<00:20, 218.01it/s]\u001b[A\n",
            " 62%|██████▏   | 7455/12000 [00:33<00:20, 217.34it/s]\u001b[A\n",
            " 62%|██████▏   | 7477/12000 [00:33<00:21, 211.60it/s]\u001b[A\n",
            " 62%|██████▎   | 7500/12000 [00:33<00:20, 214.94it/s]\u001b[A\n",
            " 63%|██████▎   | 7523/12000 [00:33<00:20, 218.64it/s]\u001b[A\n",
            " 63%|██████▎   | 7546/12000 [00:33<00:20, 221.36it/s]\u001b[A\n",
            " 63%|██████▎   | 7569/12000 [00:33<00:20, 219.89it/s]\u001b[A\n",
            " 63%|██████▎   | 7592/12000 [00:34<00:20, 215.36it/s]\u001b[A\n",
            " 63%|██████▎   | 7615/12000 [00:34<00:20, 217.79it/s]\u001b[A\n",
            " 64%|██████▎   | 7637/12000 [00:34<00:20, 216.73it/s]\u001b[A\n",
            " 64%|██████▍   | 7659/12000 [00:34<00:20, 214.37it/s]\u001b[A\n",
            " 64%|██████▍   | 7681/12000 [00:34<00:20, 212.14it/s]\u001b[A\n",
            " 64%|██████▍   | 7703/12000 [00:34<00:21, 202.74it/s]\u001b[A\n",
            " 64%|██████▍   | 7724/12000 [00:34<00:21, 197.70it/s]\u001b[A\n",
            " 65%|██████▍   | 7747/12000 [00:34<00:20, 205.24it/s]\u001b[A\n",
            " 65%|██████▍   | 7769/12000 [00:34<00:20, 209.43it/s]\u001b[A\n",
            " 65%|██████▍   | 7791/12000 [00:35<00:20, 209.03it/s]\u001b[A\n",
            " 65%|██████▌   | 7812/12000 [00:35<00:20, 207.25it/s]\u001b[A\n",
            " 65%|██████▌   | 7833/12000 [00:35<00:20, 203.46it/s]\u001b[A\n",
            " 65%|██████▌   | 7854/12000 [00:35<00:20, 198.98it/s]\u001b[A\n",
            " 66%|██████▌   | 7875/12000 [00:35<00:20, 200.98it/s]\u001b[A\n",
            " 66%|██████▌   | 7897/12000 [00:35<00:19, 206.03it/s]\u001b[A\n",
            " 66%|██████▌   | 7918/12000 [00:35<00:20, 202.87it/s]\u001b[A\n",
            " 66%|██████▌   | 7939/12000 [00:35<00:20, 202.31it/s]\u001b[A\n",
            " 66%|██████▋   | 7960/12000 [00:35<00:20, 200.09it/s]\u001b[A\n",
            " 67%|██████▋   | 7982/12000 [00:36<00:19, 203.93it/s]\u001b[A\n",
            " 67%|██████▋   | 8006/12000 [00:36<00:18, 212.65it/s]\u001b[A\n",
            " 67%|██████▋   | 8031/12000 [00:36<00:17, 221.58it/s]\u001b[A"
          ],
          "name": "stderr"
        },
        {
          "output_type": "stream",
          "text": [
            "[2,  8000] loss: 0.119\n"
          ],
          "name": "stdout"
        },
        {
          "output_type": "stream",
          "text": [
            "\n",
            " 67%|██████▋   | 8054/12000 [00:36<00:17, 223.30it/s]\u001b[A\n",
            " 67%|██████▋   | 8080/12000 [00:36<00:16, 230.95it/s]\u001b[A\n",
            " 68%|██████▊   | 8104/12000 [00:36<00:17, 224.67it/s]\u001b[A\n",
            " 68%|██████▊   | 8127/12000 [00:36<00:17, 217.62it/s]\u001b[A\n",
            " 68%|██████▊   | 8150/12000 [00:36<00:17, 219.83it/s]\u001b[A\n",
            " 68%|██████▊   | 8174/12000 [00:36<00:17, 224.30it/s]\u001b[A\n",
            " 68%|██████▊   | 8199/12000 [00:36<00:16, 228.81it/s]\u001b[A\n",
            " 69%|██████▊   | 8223/12000 [00:37<00:16, 231.38it/s]\u001b[A\n",
            " 69%|██████▊   | 8248/12000 [00:37<00:15, 235.75it/s]\u001b[A\n",
            " 69%|██████▉   | 8272/12000 [00:37<00:15, 236.56it/s]\u001b[A\n",
            " 69%|██████▉   | 8296/12000 [00:37<00:15, 232.13it/s]\u001b[A\n",
            " 69%|██████▉   | 8320/12000 [00:37<00:16, 229.75it/s]\u001b[A\n",
            " 70%|██████▉   | 8345/12000 [00:37<00:15, 231.79it/s]\u001b[A\n",
            " 70%|██████▉   | 8369/12000 [00:37<00:16, 223.11it/s]\u001b[A\n",
            " 70%|██████▉   | 8392/12000 [00:37<00:16, 224.83it/s]\u001b[A\n",
            " 70%|███████   | 8417/12000 [00:37<00:15, 229.22it/s]\u001b[A\n",
            " 70%|███████   | 8440/12000 [00:38<00:15, 227.88it/s]\u001b[A\n",
            " 71%|███████   | 8463/12000 [00:38<00:15, 223.71it/s]\u001b[A\n",
            " 71%|███████   | 8486/12000 [00:38<00:15, 219.83it/s]\u001b[A\n",
            " 71%|███████   | 8510/12000 [00:38<00:15, 225.43it/s]\u001b[A\n",
            " 71%|███████   | 8534/12000 [00:38<00:15, 228.06it/s]\u001b[A\n",
            " 71%|███████▏  | 8558/12000 [00:38<00:14, 229.98it/s]\u001b[A\n",
            " 72%|███████▏  | 8582/12000 [00:38<00:15, 227.83it/s]\u001b[A\n",
            " 72%|███████▏  | 8605/12000 [00:38<00:15, 214.20it/s]\u001b[A\n",
            " 72%|███████▏  | 8627/12000 [00:38<00:15, 213.55it/s]\u001b[A\n",
            " 72%|███████▏  | 8649/12000 [00:38<00:15, 213.03it/s]\u001b[A\n",
            " 72%|███████▏  | 8673/12000 [00:39<00:15, 219.23it/s]\u001b[A\n",
            " 72%|███████▏  | 8696/12000 [00:39<00:14, 221.22it/s]\u001b[A\n",
            " 73%|███████▎  | 8719/12000 [00:39<00:14, 220.84it/s]\u001b[A\n",
            " 73%|███████▎  | 8744/12000 [00:39<00:14, 227.78it/s]\u001b[A\n",
            " 73%|███████▎  | 8769/12000 [00:39<00:13, 232.15it/s]\u001b[A\n",
            " 73%|███████▎  | 8793/12000 [00:39<00:13, 232.45it/s]\u001b[A\n",
            " 73%|███████▎  | 8817/12000 [00:39<00:13, 230.40it/s]\u001b[A\n",
            " 74%|███████▎  | 8841/12000 [00:39<00:13, 228.44it/s]\u001b[A\n",
            " 74%|███████▍  | 8864/12000 [00:39<00:13, 226.06it/s]\u001b[A\n",
            " 74%|███████▍  | 8887/12000 [00:40<00:13, 222.93it/s]\u001b[A\n",
            " 74%|███████▍  | 8910/12000 [00:40<00:13, 224.65it/s]\u001b[A\n",
            " 74%|███████▍  | 8934/12000 [00:40<00:13, 227.64it/s]\u001b[A\n",
            " 75%|███████▍  | 8957/12000 [00:40<00:13, 228.27it/s]\u001b[A\n",
            " 75%|███████▍  | 8980/12000 [00:40<00:13, 223.01it/s]\u001b[A\n",
            " 75%|███████▌  | 9003/12000 [00:40<00:13, 218.28it/s]\u001b[A\n",
            " 75%|███████▌  | 9026/12000 [00:40<00:13, 221.09it/s]\u001b[A\n",
            " 75%|███████▌  | 9049/12000 [00:40<00:13, 221.21it/s]\u001b[A\n",
            " 76%|███████▌  | 9072/12000 [00:40<00:13, 223.73it/s]\u001b[A\n",
            " 76%|███████▌  | 9095/12000 [00:40<00:12, 225.46it/s]\u001b[A\n",
            " 76%|███████▌  | 9118/12000 [00:41<00:12, 223.79it/s]\u001b[A\n",
            " 76%|███████▌  | 9141/12000 [00:41<00:12, 225.22it/s]\u001b[A\n",
            " 76%|███████▋  | 9164/12000 [00:41<00:12, 220.96it/s]\u001b[A\n",
            " 77%|███████▋  | 9187/12000 [00:41<00:12, 217.20it/s]\u001b[A\n",
            " 77%|███████▋  | 9209/12000 [00:41<00:13, 211.75it/s]\u001b[A\n",
            " 77%|███████▋  | 9231/12000 [00:41<00:13, 211.12it/s]\u001b[A\n",
            " 77%|███████▋  | 9253/12000 [00:41<00:12, 212.38it/s]\u001b[A\n",
            " 77%|███████▋  | 9275/12000 [00:41<00:12, 210.76it/s]\u001b[A\n",
            " 77%|███████▋  | 9297/12000 [00:41<00:12, 212.68it/s]\u001b[A\n",
            " 78%|███████▊  | 9320/12000 [00:41<00:12, 215.30it/s]\u001b[A\n",
            " 78%|███████▊  | 9342/12000 [00:42<00:12, 214.86it/s]\u001b[A\n",
            " 78%|███████▊  | 9364/12000 [00:42<00:12, 209.37it/s]\u001b[A\n",
            " 78%|███████▊  | 9387/12000 [00:42<00:12, 214.25it/s]\u001b[A\n",
            " 78%|███████▊  | 9411/12000 [00:42<00:11, 220.05it/s]\u001b[A\n",
            " 79%|███████▊  | 9434/12000 [00:42<00:11, 221.94it/s]\u001b[A\n",
            " 79%|███████▉  | 9457/12000 [00:42<00:11, 222.81it/s]\u001b[A\n",
            " 79%|███████▉  | 9480/12000 [00:42<00:11, 218.57it/s]\u001b[A\n",
            " 79%|███████▉  | 9502/12000 [00:42<00:11, 216.56it/s]\u001b[A\n",
            " 79%|███████▉  | 9525/12000 [00:42<00:11, 220.21it/s]\u001b[A\n",
            " 80%|███████▉  | 9548/12000 [00:43<00:11, 222.71it/s]\u001b[A\n",
            " 80%|███████▉  | 9571/12000 [00:43<00:10, 224.72it/s]\u001b[A\n",
            " 80%|███████▉  | 9594/12000 [00:43<00:10, 220.12it/s]\u001b[A\n",
            " 80%|████████  | 9617/12000 [00:43<00:10, 219.97it/s]\u001b[A\n",
            " 80%|████████  | 9640/12000 [00:43<00:10, 219.47it/s]\u001b[A\n",
            " 81%|████████  | 9663/12000 [00:43<00:10, 221.45it/s]\u001b[A\n",
            " 81%|████████  | 9687/12000 [00:43<00:10, 224.74it/s]\u001b[A\n",
            " 81%|████████  | 9710/12000 [00:43<00:10, 216.59it/s]\u001b[A\n",
            " 81%|████████  | 9733/12000 [00:43<00:10, 218.79it/s]\u001b[A\n",
            " 81%|████████▏ | 9755/12000 [00:43<00:10, 218.87it/s]\u001b[A\n",
            " 81%|████████▏ | 9778/12000 [00:44<00:10, 220.07it/s]\u001b[A\n",
            " 82%|████████▏ | 9801/12000 [00:44<00:09, 222.52it/s]\u001b[A\n",
            " 82%|████████▏ | 9824/12000 [00:44<00:09, 219.37it/s]\u001b[A\n",
            " 82%|████████▏ | 9846/12000 [00:44<00:09, 217.60it/s]\u001b[A\n",
            " 82%|████████▏ | 9869/12000 [00:44<00:09, 220.59it/s]\u001b[A\n",
            " 82%|████████▏ | 9893/12000 [00:44<00:09, 224.56it/s]\u001b[A\n",
            " 83%|████████▎ | 9916/12000 [00:44<00:09, 222.41it/s]\u001b[A\n",
            " 83%|████████▎ | 9939/12000 [00:44<00:09, 216.80it/s]\u001b[A\n",
            " 83%|████████▎ | 9962/12000 [00:44<00:09, 219.38it/s]\u001b[A\n",
            " 83%|████████▎ | 9985/12000 [00:45<00:09, 221.68it/s]\u001b[A\n",
            " 83%|████████▎ | 10009/12000 [00:45<00:08, 225.33it/s]\u001b[A\n",
            " 84%|████████▎ | 10032/12000 [00:45<00:08, 225.83it/s]\u001b[A"
          ],
          "name": "stderr"
        },
        {
          "output_type": "stream",
          "text": [
            "[2, 10000] loss: 0.122\n"
          ],
          "name": "stdout"
        },
        {
          "output_type": "stream",
          "text": [
            "\n",
            " 84%|████████▍ | 10055/12000 [00:45<00:08, 217.54it/s]\u001b[A\n",
            " 84%|████████▍ | 10079/12000 [00:45<00:08, 222.54it/s]\u001b[A\n",
            " 84%|████████▍ | 10102/12000 [00:45<00:08, 222.45it/s]\u001b[A\n",
            " 84%|████████▍ | 10126/12000 [00:45<00:08, 225.30it/s]\u001b[A\n",
            " 85%|████████▍ | 10149/12000 [00:45<00:08, 224.81it/s]\u001b[A\n",
            " 85%|████████▍ | 10172/12000 [00:45<00:08, 216.53it/s]\u001b[A\n",
            " 85%|████████▍ | 10194/12000 [00:45<00:08, 213.65it/s]\u001b[A\n",
            " 85%|████████▌ | 10218/12000 [00:46<00:08, 219.63it/s]\u001b[A\n",
            " 85%|████████▌ | 10241/12000 [00:46<00:07, 222.00it/s]\u001b[A\n",
            " 86%|████████▌ | 10264/12000 [00:46<00:07, 219.32it/s]\u001b[A\n",
            " 86%|████████▌ | 10288/12000 [00:46<00:07, 224.22it/s]\u001b[A\n",
            " 86%|████████▌ | 10311/12000 [00:46<00:07, 224.54it/s]\u001b[A\n",
            " 86%|████████▌ | 10334/12000 [00:46<00:07, 224.30it/s]\u001b[A\n",
            " 86%|████████▋ | 10357/12000 [00:46<00:07, 225.92it/s]\u001b[A\n",
            " 86%|████████▋ | 10380/12000 [00:46<00:07, 217.03it/s]\u001b[A\n",
            " 87%|████████▋ | 10404/12000 [00:46<00:07, 221.61it/s]\u001b[A\n",
            " 87%|████████▋ | 10427/12000 [00:46<00:07, 223.95it/s]\u001b[A\n",
            " 87%|████████▋ | 10450/12000 [00:47<00:06, 225.01it/s]\u001b[A\n",
            " 87%|████████▋ | 10473/12000 [00:47<00:06, 224.31it/s]\u001b[A\n",
            " 87%|████████▋ | 10496/12000 [00:47<00:06, 224.64it/s]\u001b[A\n",
            " 88%|████████▊ | 10519/12000 [00:47<00:06, 220.56it/s]\u001b[A\n",
            " 88%|████████▊ | 10542/12000 [00:47<00:06, 218.60it/s]\u001b[A\n",
            " 88%|████████▊ | 10565/12000 [00:47<00:06, 220.46it/s]\u001b[A\n",
            " 88%|████████▊ | 10588/12000 [00:47<00:06, 222.42it/s]\u001b[A\n",
            " 88%|████████▊ | 10611/12000 [00:47<00:06, 221.92it/s]\u001b[A\n",
            " 89%|████████▊ | 10634/12000 [00:47<00:06, 223.69it/s]\u001b[A\n",
            " 89%|████████▉ | 10657/12000 [00:48<00:06, 222.22it/s]\u001b[A\n",
            " 89%|████████▉ | 10680/12000 [00:48<00:06, 219.11it/s]\u001b[A\n",
            " 89%|████████▉ | 10702/12000 [00:48<00:05, 216.96it/s]\u001b[A\n",
            " 89%|████████▉ | 10725/12000 [00:48<00:05, 220.51it/s]\u001b[A\n",
            " 90%|████████▉ | 10748/12000 [00:48<00:05, 221.01it/s]\u001b[A\n",
            " 90%|████████▉ | 10771/12000 [00:48<00:05, 216.45it/s]\u001b[A\n",
            " 90%|████████▉ | 10793/12000 [00:48<00:05, 214.20it/s]\u001b[A\n",
            " 90%|█████████ | 10815/12000 [00:48<00:05, 215.43it/s]\u001b[A\n",
            " 90%|█████████ | 10837/12000 [00:48<00:05, 213.52it/s]\u001b[A\n",
            " 90%|█████████ | 10860/12000 [00:48<00:05, 217.09it/s]\u001b[A\n",
            " 91%|█████████ | 10882/12000 [00:49<00:05, 212.02it/s]\u001b[A\n",
            " 91%|█████████ | 10904/12000 [00:49<00:05, 211.43it/s]\u001b[A\n",
            " 91%|█████████ | 10927/12000 [00:49<00:04, 215.23it/s]\u001b[A\n",
            " 91%|█████████▏| 10950/12000 [00:49<00:04, 217.94it/s]\u001b[A\n",
            " 91%|█████████▏| 10972/12000 [00:49<00:04, 214.42it/s]\u001b[A\n",
            " 92%|█████████▏| 10994/12000 [00:49<00:04, 208.34it/s]\u001b[A\n",
            " 92%|█████████▏| 11015/12000 [00:49<00:04, 203.89it/s]\u001b[A\n",
            " 92%|█████████▏| 11037/12000 [00:49<00:04, 208.32it/s]\u001b[A\n",
            " 92%|█████████▏| 11059/12000 [00:49<00:04, 211.02it/s]\u001b[A\n",
            " 92%|█████████▏| 11081/12000 [00:50<00:04, 212.62it/s]\u001b[A\n",
            " 93%|█████████▎| 11103/12000 [00:50<00:04, 211.55it/s]\u001b[A\n",
            " 93%|█████████▎| 11126/12000 [00:50<00:04, 215.38it/s]\u001b[A\n",
            " 93%|█████████▎| 11150/12000 [00:50<00:03, 220.96it/s]\u001b[A\n",
            " 93%|█████████▎| 11174/12000 [00:50<00:03, 225.55it/s]\u001b[A\n",
            " 93%|█████████▎| 11197/12000 [00:50<00:03, 226.68it/s]\u001b[A\n",
            " 94%|█████████▎| 11221/12000 [00:50<00:03, 230.51it/s]\u001b[A\n",
            " 94%|█████████▎| 11245/12000 [00:50<00:03, 228.11it/s]\u001b[A\n",
            " 94%|█████████▍| 11268/12000 [00:50<00:03, 219.54it/s]\u001b[A\n",
            " 94%|█████████▍| 11292/12000 [00:50<00:03, 224.69it/s]\u001b[A\n",
            " 94%|█████████▍| 11315/12000 [00:51<00:03, 220.25it/s]\u001b[A\n",
            " 94%|█████████▍| 11338/12000 [00:51<00:03, 220.14it/s]\u001b[A\n",
            " 95%|█████████▍| 11361/12000 [00:51<00:02, 217.96it/s]\u001b[A\n",
            " 95%|█████████▍| 11384/12000 [00:51<00:02, 220.62it/s]\u001b[A\n",
            " 95%|█████████▌| 11407/12000 [00:51<00:02, 222.49it/s]\u001b[A\n",
            " 95%|█████████▌| 11430/12000 [00:51<00:02, 216.69it/s]\u001b[A\n",
            " 95%|█████████▌| 11452/12000 [00:51<00:02, 216.61it/s]\u001b[A\n",
            " 96%|█████████▌| 11475/12000 [00:51<00:02, 218.42it/s]\u001b[A\n",
            " 96%|█████████▌| 11497/12000 [00:51<00:02, 216.34it/s]\u001b[A\n",
            " 96%|█████████▌| 11520/12000 [00:51<00:02, 219.74it/s]\u001b[A\n",
            " 96%|█████████▌| 11543/12000 [00:52<00:02, 211.49it/s]\u001b[A\n",
            " 96%|█████████▋| 11566/12000 [00:52<00:02, 216.42it/s]\u001b[A\n",
            " 97%|█████████▋| 11588/12000 [00:52<00:01, 216.85it/s]\u001b[A\n",
            " 97%|█████████▋| 11612/12000 [00:52<00:01, 221.36it/s]\u001b[A\n",
            " 97%|█████████▋| 11635/12000 [00:52<00:01, 221.83it/s]\u001b[A\n",
            " 97%|█████████▋| 11658/12000 [00:52<00:01, 219.90it/s]\u001b[A\n",
            " 97%|█████████▋| 11683/12000 [00:52<00:01, 225.94it/s]\u001b[A\n",
            " 98%|█████████▊| 11706/12000 [00:52<00:01, 223.43it/s]\u001b[A\n",
            " 98%|█████████▊| 11729/12000 [00:52<00:01, 217.58it/s]\u001b[A\n",
            " 98%|█████████▊| 11751/12000 [00:53<00:01, 217.28it/s]\u001b[A\n",
            " 98%|█████████▊| 11773/12000 [00:53<00:01, 213.10it/s]\u001b[A\n",
            " 98%|█████████▊| 11796/12000 [00:53<00:00, 215.63it/s]\u001b[A\n",
            " 98%|█████████▊| 11818/12000 [00:53<00:00, 215.90it/s]\u001b[A\n",
            " 99%|█████████▊| 11841/12000 [00:53<00:00, 217.92it/s]\u001b[A\n",
            " 99%|█████████▉| 11863/12000 [00:53<00:00, 217.14it/s]\u001b[A\n",
            " 99%|█████████▉| 11886/12000 [00:53<00:00, 220.18it/s]\u001b[A\n",
            " 99%|█████████▉| 11909/12000 [00:53<00:00, 220.09it/s]\u001b[A\n",
            " 99%|█████████▉| 11932/12000 [00:53<00:00, 215.39it/s]\u001b[A\n",
            "100%|█████████▉| 11954/12000 [00:53<00:00, 212.52it/s]\u001b[A\n",
            "100%|██████████| 12000/12000 [00:54<00:00, 221.44it/s]\n"
          ],
          "name": "stderr"
        },
        {
          "output_type": "stream",
          "text": [
            "[2, 12000] loss: 0.098\n"
          ],
          "name": "stdout"
        },
        {
          "output_type": "display_data",
          "data": {
            "image/png": "[encoded data removed]",
            "text/plain": [
              "<Figure size 720x504 with 1 Axes>"
            ]
          },
          "metadata": {
            "tags": [],
            "needs_background": "light"
          }
        },
        {
          "output_type": "stream",
          "text": [
            "100%|██████████| 2/2 [01:46<00:00, 53.19s/it]"
          ],
          "name": "stderr"
        },
        {
          "output_type": "stream",
          "text": [
            "Обучение закончено\n"
          ],
          "name": "stdout"
        },
        {
          "output_type": "stream",
          "text": [
            "\n"
          ],
          "name": "stderr"
        }
      ]
    },
    {
      "cell_type": "markdown",
      "metadata": {
        "id": "sJ8up_fZmvRc"
      },
      "source": [
        "Протестируем на всём тестовом датасете, используя метрику accuracy_score:"
      ]
    },
    {
      "cell_type": "code",
      "metadata": {
        "colab": {
          "base_uri": "https://localhost:8080/"
        },
        "id": "RJc3Zea2mvRc",
        "outputId": "5b8e2e2e-1ac9-404a-fa4a-c385dc934c9f"
      },
      "source": [
        "class_correct = list(0. for i in range(10))\n",
        "class_total = list(0. for i in range(10))\n",
        "classes = list([i for i in range(10)])\n",
        "mistakes = list()\n",
        "right_answers = list()\n",
        "count = 0\n",
        "with torch.no_grad():\n",
        "    for data in testloader: \n",
        "        images, labels = data\n",
        "        y_pred = net(images)\n",
        "        _, predicted = torch.max(y_pred, 1)\n",
        "        \n",
        "        c = (predicted == labels)\n",
        "        for i in range(5): #             there was 4 !!!!!!!!!!!!!!!!!!!!\n",
        "            label = labels[i]\n",
        "            pred = predicted[i]\n",
        "            if c[i].item():        # if prediction correct we add them into class_correct array \n",
        "              class_correct[label] += c[i].item()\n",
        "              class_total[label] += 1\n",
        "              right_answers.append([pred.item(), label.item()])\n",
        "            else:                  # else we save incorrect pairs<predicted, needed> into mistakes\n",
        "              mistakes.append([pred.item(), label.item()])\n",
        "            # if(c[i].item() is False or c[i].item() is 0):\n",
        "            #   mistakes.append((predicted[i], label))\n",
        "            class_correct[label] += c[i].item()\n",
        "            class_total[label] += 1\n",
        "            count += 1\n",
        "\n",
        "print(mistakes[2], right_answers[2]) ### there answer!                  We can see and iterate over all mistakes.\n",
        "for i in range(10):\n",
        "    print('Accuracy of %5s : %2d %%' % (\n",
        "        classes[i], 100 * class_correct[i] / class_total[i]))\n",
        "# for i in range(10):\n",
        "    #arr = np.ndarray(mistakes[i][1])#This is your tensor\n",
        "    #arr_ = np.squeeze(arr) # you can give axis attribute if you wanna squeeze in specific dimension\n",
        "    #plt.imshow(arr_)\n",
        "    #plt.show()\n",
        "    # plt.imshow(mistakes[i][1], cmap='gray')\n",
        "    # for(x in mistakes[i][1]):\n",
        "    #     print(x)\n",
        "    # print(mistakes[i][0])\n",
        "# print(len(mistakes), count, len(mistakes) / count)"
      ],
      "execution_count": 20,
      "outputs": [
        {
          "output_type": "stream",
          "text": [
            "[5, 6] [4, 4]\n",
            "Accuracy of     0 : 99 %\n",
            "Accuracy of     1 : 99 %\n",
            "Accuracy of     2 : 97 %\n",
            "Accuracy of     3 : 97 %\n",
            "Accuracy of     4 : 97 %\n",
            "Accuracy of     5 : 99 %\n",
            "Accuracy of     6 : 97 %\n",
            "Accuracy of     7 : 96 %\n",
            "Accuracy of     8 : 95 %\n",
            "Accuracy of     9 : 98 %\n"
          ],
          "name": "stdout"
        }
      ]
    },
    {
      "cell_type": "markdown",
      "metadata": {
        "id": "Pppnesw-MzBc"
      },
      "source": [
        "### Задача 1\n",
        "\n",
        "Написать код, который выводит те примеры где классификатор ошибся. Проанализировать ошибки и предложить улучшения (в виде research report, google it) классификатор для того чтобы поднять его качество."
      ]
    },
    {
      "cell_type": "code",
      "metadata": {
        "id": "QFcPINKeMzBf"
      },
      "source": [
        "### Research report\n",
        "Вся ошибка заключалась в том, что мы использовали только 4 из 5 вектора в батче.\n",
        "Если же мы используем их все, то результат улучшится."
      ],
      "execution_count": null,
      "outputs": []
    },
    {
      "cell_type": "markdown",
      "metadata": {
        "id": "ca7_nhaCmvRg"
      },
      "source": [
        "---"
      ]
    },
    {
      "cell_type": "markdown",
      "metadata": {
        "id": "LPxtwt8DmvRi"
      },
      "source": [
        "### Задача 2"
      ]
    },
    {
      "cell_type": "markdown",
      "metadata": {
        "id": "2TQgBg3KmvRm"
      },
      "source": [
        "Протестируйте эту нейросеть на отдельных картинках из тестового датасета: напишите функцию, которая принимает индекс картинки в тестовом датасете, отрисовывает её, потом запускает на ней модель (нейросеть) и выводит результат предсказания."
      ]
    },
    {
      "cell_type": "markdown",
      "metadata": {
        "id": "JUKgvCXhmvRq"
      },
      "source": [
        "---"
      ]
    },
    {
      "cell_type": "markdown",
      "metadata": {
        "id": "cr4ftiAGmvRq"
      },
      "source": [
        "<h3 style=\"text-align: center;\"><b>CIFAR10</b></h3>"
      ]
    },
    {
      "cell_type": "markdown",
      "metadata": {
        "id": "i5ndS6LomvRt"
      },
      "source": [
        "<img src=\"https://raw.githubusercontent.com/soumith/ex/gh-pages/assets/cifar10.png\" width=500, height=400>"
      ]
    },
    {
      "cell_type": "markdown",
      "metadata": {
        "id": "zxEQYnT9mvRt"
      },
      "source": [
        "**CIFAR10:** это набор из 60k картинок 32х32х3, 50k которых составляют обучающую выборку, и оставшиеся 10k - тестовую. Классов в этом датасете 10: `'plane', 'car', 'bird', 'cat', 'deer', 'dog', 'frog', 'horse', 'ship', 'truck'`.\n",
        "\n",
        "Скачаем и загрузим в `loader`'ы:\n",
        "\n",
        "**Обратите внимание на аргумент `batch_size`:** именно он будет отвечать за размер батча, который будет подаваться при оптимизации нейросети"
      ]
    },
    {
      "cell_type": "code",
      "metadata": {
        "colab": {
          "base_uri": "https://localhost:8080/",
          "height": 122,
          "referenced_widgets": [
            "ba79cde6a28b4c0d872b5547fcd6c284",
            "d52cdc9d4362452eb9e69878254ff904",
            "385b5cef082141cf9e35b008c9c6607f",
            "10c3840243db43959fe76c3f87508d67",
            "e4103db69b6f4906a27e1eec4666f8a8",
            "563f335565944452b79f25d74df4f2e7",
            "fca55232e5bc4d99983a01a0011db4f6",
            "cb26e80ee0dd451ea71e636e8f43a61d"
          ]
        },
        "id": "KEH8UgeFmvRu",
        "outputId": "047498d0-ad84-4930-bab2-742ecb662804"
      },
      "source": [
        "transform = transforms.Compose(\n",
        "    [transforms.ToTensor(),\n",
        "     transforms.Normalize((0.5, 0.5, 0.5), (0.5, 0.5, 0.5))])\n",
        "\n",
        "trainset = torchvision.datasets.CIFAR10(root='./data', train=True,\n",
        "                                        download=True, transform=transform)\n",
        "trainloader = torch.utils.data.DataLoader(trainset, batch_size=128,\n",
        "                                          shuffle=True, num_workers=2)\n",
        "\n",
        "testset = torchvision.datasets.CIFAR10(root='./data', train=False,\n",
        "                                       download=True, transform=transform)\n",
        "testloader = torch.utils.data.DataLoader(testset, batch_size=128,\n",
        "                                         shuffle=False, num_workers=2)\n",
        "\n",
        "classes = ('plane', 'car', 'bird', 'cat',\n",
        "           'deer', 'dog', 'frog', 'horse', 'ship', 'truck')"
      ],
      "execution_count": 21,
      "outputs": [
        {
          "output_type": "stream",
          "text": [
            "Downloading https://www.cs.toronto.edu/~kriz/cifar-10-python.tar.gz to ./data/cifar-10-python.tar.gz\n"
          ],
          "name": "stdout"
        },
        {
          "output_type": "display_data",
          "data": {
            "application/vnd.jupyter.widget-view+json": {
              "model_id": "ba79cde6a28b4c0d872b5547fcd6c284",
              "version_minor": 0,
              "version_major": 2
            },
            "text/plain": [
              "HBox(children=(FloatProgress(value=0.0, max=170498071.0), HTML(value='')))"
            ]
          },
          "metadata": {
            "tags": []
          }
        },
        {
          "output_type": "stream",
          "text": [
            "\n",
            "Extracting ./data/cifar-10-python.tar.gz to ./data\n",
            "Files already downloaded and verified\n"
          ],
          "name": "stdout"
        }
      ]
    },
    {
      "cell_type": "code",
      "metadata": {
        "id": "apmR_cNyMzB5",
        "colab": {
          "base_uri": "https://localhost:8080/"
        },
        "outputId": "05281281-f08e-47a5-a247-35b6ce12c93b"
      },
      "source": [
        "trainset"
      ],
      "execution_count": 23,
      "outputs": [
        {
          "output_type": "execute_result",
          "data": {
            "text/plain": [
              "Dataset CIFAR10\n",
              "    Number of datapoints: 50000\n",
              "    Root location: ./data\n",
              "    Split: Train\n",
              "    StandardTransform\n",
              "Transform: Compose(\n",
              "               ToTensor()\n",
              "               Normalize(mean=(0.5, 0.5, 0.5), std=(0.5, 0.5, 0.5))\n",
              "           )"
            ]
          },
          "metadata": {
            "tags": []
          },
          "execution_count": 23
        }
      ]
    },
    {
      "cell_type": "code",
      "metadata": {
        "colab": {
          "base_uri": "https://localhost:8080/",
          "height": 1000
        },
        "id": "-IxjpMXfmvRy",
        "outputId": "98204d09-ca98-46dc-ddd7-3d23951cbfee"
      },
      "source": [
        "# случайный индекс от 0 до размера тренировочной выборки\n",
        "i = np.random.randint(low=0, high=50000)\n",
        "# print(shape(testloader))\n",
        "def function(index):\n",
        "  plt.imshow(trainloader.dataset.data[index], cmap='gray');\n",
        "  answer = list()\n",
        "  cnt = 0\n",
        "  with torch.no_grad():\n",
        "    # for data in testloader:\n",
        "\n",
        "    #   if(cnt != index):\n",
        "    #     cnt += 1\n",
        "    #     continue\n",
        "    #   cnt += 1\n",
        "      print(trainloader.dataset.data[index])\n",
        "      # images, labels = trainloader.dataset.data[index]\n",
        "      y_pred = net(transforms.ToTensor(trainloader.dataset.data[index][0]) )\n",
        "      # _, predicted = torch.max(y_pred, 1)\n",
        "      print(y_pred)\n",
        "      # c = (predicted == labels)\n",
        "      # for i in range(4): # there was 4 !!!!!!!!!!!!!!!!!!!!\n",
        "      #   label = labels[i]\n",
        "      #   pred = predicted[i]\n",
        "      #   answer.append([pred.item(), label.item()])\n",
        "      # break\n",
        "        # if c[i].item():\n",
        "        #   class_correct[label] += c[i].item()\n",
        "        #   class_total[label] += 1\n",
        "        #   right_answers.append([pred.item(), label.item()])\n",
        "        # else:\n",
        "        #   mistakes.append([pred.item(), label.item()])\n",
        "          # if(c[i].item() is False or c[i].item() is 0):\n",
        "          #   mistakes.append((predicted[i], label))\n",
        "        # class_correct[label] += c[i].item()\n",
        "        # class_total[label] += 1\n",
        "        # count += 1\n",
        "\n",
        "  print(answer) ### there answer!\n",
        "  \n",
        "function(i)"
      ],
      "execution_count": 24,
      "outputs": [
        {
          "output_type": "stream",
          "text": [
            "[[[ 46 122 172]\n",
            "  [ 49 124 172]\n",
            "  [ 55 131 176]\n",
            "  ...\n",
            "  [ 84 145 183]\n",
            "  [ 81 142 187]\n",
            "  [ 78 149 193]]\n",
            "\n",
            " [[ 58 132 182]\n",
            "  [ 62 136 182]\n",
            "  [ 68 142 186]\n",
            "  ...\n",
            "  [ 74 124 151]\n",
            "  [ 62 116 152]\n",
            "  [ 77 143 181]]\n",
            "\n",
            " [[ 74 145 192]\n",
            "  [ 76 147 190]\n",
            "  [ 80 151 192]\n",
            "  ...\n",
            "  [ 68 113 139]\n",
            "  [ 57 105 135]\n",
            "  [ 83 143 176]]\n",
            "\n",
            " ...\n",
            "\n",
            " [[ 79  96  87]\n",
            "  [ 71  92  81]\n",
            "  [ 76 105 105]\n",
            "  ...\n",
            "  [ 68 128 145]\n",
            "  [ 38 108 129]\n",
            "  [ 24 102 128]]\n",
            "\n",
            " [[ 53  80  80]\n",
            "  [ 55  86  86]\n",
            "  [ 63 101 115]\n",
            "  ...\n",
            "  [ 72 126 141]\n",
            "  [ 38 108 131]\n",
            "  [ 29 107 137]]\n",
            "\n",
            " [[ 13  51  61]\n",
            "  [ 11  52  61]\n",
            "  [ 14  62  83]\n",
            "  ...\n",
            "  [ 70 116 130]\n",
            "  [ 49 117 140]\n",
            "  [ 40 117 148]]]\n"
          ],
          "name": "stdout"
        },
        {
          "output_type": "error",
          "ename": "TypeError",
          "evalue": "ignored",
          "traceback": [
            "\u001b[0;31m---------------------------------------------------------------------------\u001b[0m",
            "\u001b[0;31mTypeError\u001b[0m                                 Traceback (most recent call last)",
            "\u001b[0;32m<ipython-input-24-b3ed5b29a3c5>\u001b[0m in \u001b[0;36m<module>\u001b[0;34m()\u001b[0m\n\u001b[1;32m     38\u001b[0m   \u001b[0mprint\u001b[0m\u001b[0;34m(\u001b[0m\u001b[0manswer\u001b[0m\u001b[0;34m)\u001b[0m \u001b[0;31m### there answer!\u001b[0m\u001b[0;34m\u001b[0m\u001b[0;34m\u001b[0m\u001b[0m\n\u001b[1;32m     39\u001b[0m \u001b[0;34m\u001b[0m\u001b[0m\n\u001b[0;32m---> 40\u001b[0;31m \u001b[0mfunction\u001b[0m\u001b[0;34m(\u001b[0m\u001b[0mi\u001b[0m\u001b[0;34m)\u001b[0m\u001b[0;34m\u001b[0m\u001b[0;34m\u001b[0m\u001b[0m\n\u001b[0m",
            "\u001b[0;32m<ipython-input-24-b3ed5b29a3c5>\u001b[0m in \u001b[0;36mfunction\u001b[0;34m(index)\u001b[0m\n\u001b[1;32m     15\u001b[0m       \u001b[0mprint\u001b[0m\u001b[0;34m(\u001b[0m\u001b[0mtrainloader\u001b[0m\u001b[0;34m.\u001b[0m\u001b[0mdataset\u001b[0m\u001b[0;34m.\u001b[0m\u001b[0mdata\u001b[0m\u001b[0;34m[\u001b[0m\u001b[0mindex\u001b[0m\u001b[0;34m]\u001b[0m\u001b[0;34m)\u001b[0m\u001b[0;34m\u001b[0m\u001b[0;34m\u001b[0m\u001b[0m\n\u001b[1;32m     16\u001b[0m       \u001b[0;31m# images, labels = trainloader.dataset.data[index]\u001b[0m\u001b[0;34m\u001b[0m\u001b[0;34m\u001b[0m\u001b[0;34m\u001b[0m\u001b[0m\n\u001b[0;32m---> 17\u001b[0;31m       \u001b[0my_pred\u001b[0m \u001b[0;34m=\u001b[0m \u001b[0mnet\u001b[0m\u001b[0;34m(\u001b[0m\u001b[0mtransforms\u001b[0m\u001b[0;34m.\u001b[0m\u001b[0mToTensor\u001b[0m\u001b[0;34m(\u001b[0m\u001b[0mtrainloader\u001b[0m\u001b[0;34m.\u001b[0m\u001b[0mdataset\u001b[0m\u001b[0;34m.\u001b[0m\u001b[0mdata\u001b[0m\u001b[0;34m[\u001b[0m\u001b[0mindex\u001b[0m\u001b[0;34m]\u001b[0m\u001b[0;34m[\u001b[0m\u001b[0;36m0\u001b[0m\u001b[0;34m]\u001b[0m\u001b[0;34m)\u001b[0m \u001b[0;34m)\u001b[0m\u001b[0;34m\u001b[0m\u001b[0;34m\u001b[0m\u001b[0m\n\u001b[0m\u001b[1;32m     18\u001b[0m       \u001b[0;31m# _, predicted = torch.max(y_pred, 1)\u001b[0m\u001b[0;34m\u001b[0m\u001b[0;34m\u001b[0m\u001b[0;34m\u001b[0m\u001b[0m\n\u001b[1;32m     19\u001b[0m       \u001b[0mprint\u001b[0m\u001b[0;34m(\u001b[0m\u001b[0my_pred\u001b[0m\u001b[0;34m)\u001b[0m\u001b[0;34m\u001b[0m\u001b[0;34m\u001b[0m\u001b[0m\n",
            "\u001b[0;31mTypeError\u001b[0m: ToTensor() takes no arguments"
          ]
        },
        {
          "output_type": "display_data",
          "data": {
            "image/png": "[encoded data removed]",
            "text/plain": [
              "<Figure size 432x288 with 1 Axes>"
            ]
          },
          "metadata": {
            "tags": [],
            "needs_background": "light"
          }
        }
      ]
    },
    {
      "cell_type": "markdown",
      "metadata": {
        "id": "xAUH5D9tmvR0"
      },
      "source": [
        "То есть мы имеем дело с кусочками данных размера batch_size (в данном случае = 4), причём в каждом батче есть как объекты, так и ответы на них (то есть и $X$, и $y$).\n",
        "\n",
        "Данные готовы, мы даже на них посмотрели.\n",
        "\n",
        "К делу:"
      ]
    },
    {
      "cell_type": "markdown",
      "metadata": {
        "id": "yIzpcJkZmvR2"
      },
      "source": [
        "### Задача 3"
      ]
    },
    {
      "cell_type": "markdown",
      "metadata": {
        "id": "FEzw5SbZmvR3"
      },
      "source": [
        "Напишите свою свёрточную нейросеть для предсказания на CIFAR10."
      ]
    },
    {
      "cell_type": "code",
      "metadata": {
        "colab": {
          "base_uri": "https://localhost:8080/"
        },
        "id": "TdTa6-E3HNlN",
        "outputId": "c1c0fcb7-d311-4e26-9331-b89ae2918e8c"
      },
      "source": [
        "next(iter(trainloader))[0].shape"
      ],
      "execution_count": 25,
      "outputs": [
        {
          "output_type": "execute_result",
          "data": {
            "text/plain": [
              "torch.Size([128, 3, 32, 32])"
            ]
          },
          "metadata": {
            "tags": []
          },
          "execution_count": 25
        }
      ]
    },
    {
      "cell_type": "code",
      "metadata": {
        "id": "oCVhQM1mmvR3"
      },
      "source": [
        "class MyConvNet(nn.Module):\n",
        "    def __init__(self):\n",
        "        # вызов конструктора предка\n",
        "        super().__init__()\n",
        "        # необходмо заранее знать, сколько каналов у картинки (сейчас = 1),\n",
        "        # которую будем подавать в сеть, больше ничего\n",
        "        # про входящие картинки знать не нужно\n",
        "        # Напишите свой код тут\n",
        "        self.conv1 = nn.Conv2d(3,6,5)\n",
        "        self.pool = nn.MaxPool2d(2,2)\n",
        "        self.conv2 = nn.Conv2d(6,16,5)\n",
        "        self.fc1 = nn.Linear(16*5*5, 120)\n",
        "        self.fc2 = nn.Linear(120, 84)\n",
        "        self.fc3 = nn.Linear(84, 10)\n",
        "        \n",
        "    def forward(self, x):\n",
        "        #еапишите свой код тут\n",
        "        x = self.pool(F.relu(self.conv1(x)))\n",
        "        x = self.pool(F.relu(self.conv2(x)))\n",
        "        x = torch.flatten(x, 1)\n",
        "        x = F.relu(self.fc1(x))\n",
        "        x = F.relu(self.fc2(x))\n",
        "        x = self.fc3(x)\n",
        "        return x"
      ],
      "execution_count": 26,
      "outputs": []
    },
    {
      "cell_type": "markdown",
      "metadata": {
        "id": "yWwW8daBmvR7"
      },
      "source": [
        "Обучим:"
      ]
    },
    {
      "cell_type": "code",
      "metadata": {
        "id": "EGOjA5ABmvR-",
        "colab": {
          "base_uri": "https://localhost:8080/",
          "height": 700,
          "referenced_widgets": [
            "3c2cad2d3e5b41e294d3c3fa83277848",
            "b995dbc6e75e4311bc49aec554f01460",
            "984758956514443fa2fdb60952b840ca",
            "196f489ad8b2441f838dc7193bafd4d1",
            "5c9fcb4219f64b5ebddd862425658594",
            "7ffe494d420946a2a5e18516e1f1d1b6",
            "51135bf56dde4bb6b8a69893a76b24e9",
            "473778356d0947b184d06945fa35b903",
            "9a7932506baa46219151c87106af82ff",
            "df0ede7ce0e2407f9f1efbfe9f7e8d1c",
            "b03f492232fd4149bb5e8109f3054d29",
            "b96aa09814154d149f90ba30f056d23b",
            "61a1e413c0ae44b59e9e40a1c8683ccb",
            "1a00428f8ef549619ccade0227b01348",
            "404ba16b923641258195c533eb384c22",
            "78b857bb92a648f49868823b3a26a0fb",
            "d31a9cde454a49edb946c62e6a7824bd",
            "94d18f6ac8f1408e8cfc3d26653ae372",
            "463cce44855142fd892caaa3ab72f4cd",
            "3f2c544061354476af2dfe010ee6d286",
            "651e9bcb1ff44f51908bfc58dd9d540a",
            "2666183b2c4849d188396744f070f2b8",
            "556928c9dcd749978806a3b6618a39e4",
            "c4fe1f210def42a2a93cbd08dec183e7",
            "db45f83364434702aa6f2a47bc04bc73",
            "d7e8bfc81252427da30567aff82473aa",
            "25162f0dc57348598eba7b52d54e1f1c",
            "1953d5984bce4135ab90ba289888d452",
            "be08b2452da746e2bfe5498c8c36e9a0",
            "6b5c6fdc14234b4cb4520a8629c409c1",
            "adcb8cf46c5b4f76aee07d79dc431c1d",
            "33342b2c7ecd408d96e41113826bae4a",
            "179fc9431f294572b9d6107098fd9020",
            "30e23bef65eb4a0fa6d9c8adadfbbc13",
            "dc33023b9d9a49dd9f1de1206f2b934a",
            "42971affbf944b4bb4b728c64f1e5369",
            "44b84fa969b14a66a87d7175bc2fb966",
            "6d0452fca51c4fac92f83f1c4b96d078",
            "e25e8f0041274c239840272abbce0841",
            "1836e6a2b4f740d98d6ede5184828679",
            "3f76cf85cc194a86aa931dcdac312382",
            "0d9fb4906a934ada9c38ebfa4cb92c33",
            "0c6dd89762c04edbbe0374443296fa0a",
            "5f002dc087854ff08d65d8e9db580648",
            "1b5a1e4e1b884115bc0a76a17626a44e",
            "d654d258756745e7b1d8fda9f60f5849",
            "9243b84e11f447359f8e76fa86f4a855",
            "f700cf0dc321409eb354f25e66aa0180",
            "e4f831deaa664bbb9462efebb0db2fcc",
            "e3d4a01d96644330a5eb61452584a66a",
            "195c1f19025e4723aab6ae8aa2e464ad",
            "11140fc18a90466a947089bf9b82c810",
            "5a901237e7e24db3b086a6c9a7251da9",
            "cc6ff126104a4b56938b13e0c489de06",
            "9a924d1c908f4e87998ac0a6ff9f1053",
            "83454afd34964a3dbdad07596de14bad",
            "30d0fec9788d4beb8e8ca7c95f99608f",
            "7c2ecf6deae84c099b5a7776dcc40d8b",
            "a1240c5c6c5747969409eef7fa95d85f",
            "6d97ee1fad8b498ebab899cc5a86aecd",
            "0197dd5424374eaabf52438555feb09e",
            "d1e313c5567d43f0a5683901e387f907",
            "f416b4a08dae453fb3c48d7e83e1b7c1",
            "9697d90023944910a2ad15c7bc28b3bd",
            "df84b426c7154fa2b2e551a2b96c71e5",
            "e6a35de7aa4c4e6e8f8d854f0e25f61c",
            "8b4e2075bdb149d0aeb43706f5d327ff",
            "107368b3908e441799177f5714162ffa",
            "5d76abf7a01146f78476b42ab54883a2",
            "a0b02115d91d423997c6329d8728abca",
            "e747a2af17f64cf5a2612f674da1ccd9",
            "cfe98ac10a104bfea60a62d59f6a9f8a",
            "acac9dbc91744b55b03d67688ac3dd76",
            "d682eecd65114ad3a47f7f66281561cb",
            "6a5483be5f864716b8e571d57c0426c5",
            "1bfd2a0c4ad24095832a42113dabb097",
            "b84eabdf15c94659b03ed8591aecf7f4",
            "8e5102b1acb447dc90c3a437b27d652e",
            "2cc35fa3637941659c96db431c1f4306",
            "eaec23bee73c462caa40e29c25858dd1",
            "e507fd54af9d467d81f63c3f80b56aa2",
            "70f1c05446424338bd939097a4d2793a",
            "13915c076d8b4e5cbebd1694f024c487",
            "8ab1a4802d104866bb058251e9854595",
            "0fce33f9180d4d3f91e3bbce19e0286e",
            "e14c1d19ac2744b6a6ba9c4a1feba2ce",
            "fe88ec81ccdf4ad49d2a7dd4178df2f1",
            "339d435eaf1d4eb9911ab758a997ef09"
          ]
        },
        "outputId": "c80cea5f-550a-4846-f4c3-fcaa09eb6834"
      },
      "source": [
        "# пример взят из официального туториала: \n",
        "# https://pytorch.org/tutorials/beginner/blitz/cifar10_tutorial.html\n",
        "\n",
        "net = MyConvNet()\n",
        "\n",
        "loss_fn = torch.nn.CrossEntropyLoss()\n",
        "losses = []\n",
        "\n",
        "learning_rate = 1e-4\n",
        "optimizer = torch.optim.Adam(net.parameters(), lr=learning_rate)\n",
        "\n",
        "# итерируемся\n",
        "for epoch in tqdm_notebook(range(10)):\n",
        "\n",
        "    running_loss = 0.0\n",
        "    for i, batch in enumerate(tqdm_notebook(trainloader)):\n",
        "        # напишите свой код тут\n",
        "        X_batch, y_batch = batch\n",
        "        \n",
        "        # обнуляем веса\n",
        "        optimizer.zero_grad()\n",
        "\n",
        "        # forward + backward + optimize\n",
        "        y_pred = net(X_batch)\n",
        "        loss = loss_fn(y_pred, y_batch)\n",
        "        loss.backward()\n",
        "        optimizer.step()\n",
        "\n",
        "        # выведем текущий loss\n",
        "        running_loss += loss.item()\n",
        "        # выводем качество каждые 2000 батчей\n",
        "        if i % 2000 == 1999:\n",
        "            print('[%d, %5d] loss: %.3f' %\n",
        "                  (epoch + 1, i + 1, running_loss / 2000))\n",
        "            running_loss = 0.0\n",
        "\n",
        "print('Обучение закончено')"
      ],
      "execution_count": 27,
      "outputs": [
        {
          "output_type": "stream",
          "text": [
            "/usr/local/lib/python3.7/dist-packages/ipykernel_launcher.py:13: TqdmDeprecationWarning: This function will be removed in tqdm==5.0.0\n",
            "Please use `tqdm.notebook.tqdm` instead of `tqdm.tqdm_notebook`\n",
            "  del sys.path[0]\n"
          ],
          "name": "stderr"
        },
        {
          "output_type": "display_data",
          "data": {
            "application/vnd.jupyter.widget-view+json": {
              "model_id": "3c2cad2d3e5b41e294d3c3fa83277848",
              "version_minor": 0,
              "version_major": 2
            },
            "text/plain": [
              "HBox(children=(FloatProgress(value=0.0, max=10.0), HTML(value='')))"
            ]
          },
          "metadata": {
            "tags": []
          }
        },
        {
          "output_type": "stream",
          "text": [
            "/usr/local/lib/python3.7/dist-packages/ipykernel_launcher.py:16: TqdmDeprecationWarning: This function will be removed in tqdm==5.0.0\n",
            "Please use `tqdm.notebook.tqdm` instead of `tqdm.tqdm_notebook`\n",
            "  app.launch_new_instance()\n"
          ],
          "name": "stderr"
        },
        {
          "output_type": "display_data",
          "data": {
            "application/vnd.jupyter.widget-view+json": {
              "model_id": "9a7932506baa46219151c87106af82ff",
              "version_minor": 0,
              "version_major": 2
            },
            "text/plain": [
              "HBox(children=(FloatProgress(value=0.0, max=391.0), HTML(value='')))"
            ]
          },
          "metadata": {
            "tags": []
          }
        },
        {
          "output_type": "stream",
          "text": [
            "\n"
          ],
          "name": "stdout"
        },
        {
          "output_type": "display_data",
          "data": {
            "application/vnd.jupyter.widget-view+json": {
              "model_id": "d31a9cde454a49edb946c62e6a7824bd",
              "version_minor": 0,
              "version_major": 2
            },
            "text/plain": [
              "HBox(children=(FloatProgress(value=0.0, max=391.0), HTML(value='')))"
            ]
          },
          "metadata": {
            "tags": []
          }
        },
        {
          "output_type": "stream",
          "text": [
            "\n"
          ],
          "name": "stdout"
        },
        {
          "output_type": "display_data",
          "data": {
            "application/vnd.jupyter.widget-view+json": {
              "model_id": "db45f83364434702aa6f2a47bc04bc73",
              "version_minor": 0,
              "version_major": 2
            },
            "text/plain": [
              "HBox(children=(FloatProgress(value=0.0, max=391.0), HTML(value='')))"
            ]
          },
          "metadata": {
            "tags": []
          }
        },
        {
          "output_type": "stream",
          "text": [
            "\n"
          ],
          "name": "stdout"
        },
        {
          "output_type": "display_data",
          "data": {
            "application/vnd.jupyter.widget-view+json": {
              "model_id": "179fc9431f294572b9d6107098fd9020",
              "version_minor": 0,
              "version_major": 2
            },
            "text/plain": [
              "HBox(children=(FloatProgress(value=0.0, max=391.0), HTML(value='')))"
            ]
          },
          "metadata": {
            "tags": []
          }
        },
        {
          "output_type": "stream",
          "text": [
            "\n"
          ],
          "name": "stdout"
        },
        {
          "output_type": "display_data",
          "data": {
            "application/vnd.jupyter.widget-view+json": {
              "model_id": "3f76cf85cc194a86aa931dcdac312382",
              "version_minor": 0,
              "version_major": 2
            },
            "text/plain": [
              "HBox(children=(FloatProgress(value=0.0, max=391.0), HTML(value='')))"
            ]
          },
          "metadata": {
            "tags": []
          }
        },
        {
          "output_type": "stream",
          "text": [
            "\n"
          ],
          "name": "stdout"
        },
        {
          "output_type": "display_data",
          "data": {
            "application/vnd.jupyter.widget-view+json": {
              "model_id": "e4f831deaa664bbb9462efebb0db2fcc",
              "version_minor": 0,
              "version_major": 2
            },
            "text/plain": [
              "HBox(children=(FloatProgress(value=0.0, max=391.0), HTML(value='')))"
            ]
          },
          "metadata": {
            "tags": []
          }
        },
        {
          "output_type": "stream",
          "text": [
            "\n"
          ],
          "name": "stdout"
        },
        {
          "output_type": "display_data",
          "data": {
            "application/vnd.jupyter.widget-view+json": {
              "model_id": "30d0fec9788d4beb8e8ca7c95f99608f",
              "version_minor": 0,
              "version_major": 2
            },
            "text/plain": [
              "HBox(children=(FloatProgress(value=0.0, max=391.0), HTML(value='')))"
            ]
          },
          "metadata": {
            "tags": []
          }
        },
        {
          "output_type": "stream",
          "text": [
            "\n"
          ],
          "name": "stdout"
        },
        {
          "output_type": "display_data",
          "data": {
            "application/vnd.jupyter.widget-view+json": {
              "model_id": "df84b426c7154fa2b2e551a2b96c71e5",
              "version_minor": 0,
              "version_major": 2
            },
            "text/plain": [
              "HBox(children=(FloatProgress(value=0.0, max=391.0), HTML(value='')))"
            ]
          },
          "metadata": {
            "tags": []
          }
        },
        {
          "output_type": "stream",
          "text": [
            "\n"
          ],
          "name": "stdout"
        },
        {
          "output_type": "display_data",
          "data": {
            "application/vnd.jupyter.widget-view+json": {
              "model_id": "acac9dbc91744b55b03d67688ac3dd76",
              "version_minor": 0,
              "version_major": 2
            },
            "text/plain": [
              "HBox(children=(FloatProgress(value=0.0, max=391.0), HTML(value='')))"
            ]
          },
          "metadata": {
            "tags": []
          }
        },
        {
          "output_type": "stream",
          "text": [
            "\n"
          ],
          "name": "stdout"
        },
        {
          "output_type": "display_data",
          "data": {
            "application/vnd.jupyter.widget-view+json": {
              "model_id": "e507fd54af9d467d81f63c3f80b56aa2",
              "version_minor": 0,
              "version_major": 2
            },
            "text/plain": [
              "HBox(children=(FloatProgress(value=0.0, max=391.0), HTML(value='')))"
            ]
          },
          "metadata": {
            "tags": []
          }
        },
        {
          "output_type": "stream",
          "text": [
            "\n",
            "\n",
            "Обучение закончено\n"
          ],
          "name": "stdout"
        }
      ]
    },
    {
      "cell_type": "markdown",
      "metadata": {
        "id": "u4doogQbmvSA"
      },
      "source": [
        "Посмотрим на accuracy на тестовом датасете:"
      ]
    },
    {
      "cell_type": "code",
      "metadata": {
        "id": "VEzyCJHXmvSA",
        "colab": {
          "base_uri": "https://localhost:8080/"
        },
        "outputId": "45ecabce-c3c9-40bf-924d-c58e358e38df"
      },
      "source": [
        "class_correct = list(0. for i in range(10))\n",
        "class_total = list(0. for i in range(10))\n",
        "\n",
        "with torch.no_grad():\n",
        "    for data in testloader:\n",
        "        images, labels = data\n",
        "        y_pred = net(images)#.view(4, -1))\n",
        "        _, predicted = torch.max(y_pred, 1)\n",
        "        c = (predicted == labels).squeeze()\n",
        "        for i in range(4):\n",
        "            label = labels[i]\n",
        "            class_correct[label] += c[i].item()\n",
        "            class_total[label] += 1\n",
        "\n",
        "summa = 0\n",
        "for i in range(10):\n",
        "    summa += (100 * class_correct[i] / class_total[i])\n",
        "    print('Accuracy of %5s : %2d %%' % (\n",
        "        classes[i], 100 * class_correct[i] / class_total[i]))\n",
        "print(summa/10, '% of average accuracy.')"
      ],
      "execution_count": 28,
      "outputs": [
        {
          "output_type": "stream",
          "text": [
            "Accuracy of plane : 41 %\n",
            "Accuracy of   car : 53 %\n",
            "Accuracy of  bird : 21 %\n",
            "Accuracy of   cat : 20 %\n",
            "Accuracy of  deer : 29 %\n",
            "Accuracy of   dog : 39 %\n",
            "Accuracy of  frog : 55 %\n",
            "Accuracy of horse : 56 %\n",
            "Accuracy of  ship : 50 %\n",
            "Accuracy of truck : 51 %\n",
            "41.861227128367084 % of average accuracy.\n"
          ],
          "name": "stdout"
        }
      ]
    },
    {
      "cell_type": "markdown",
      "metadata": {
        "id": "C4OF55kMmvSE"
      },
      "source": [
        "Как думаете, этого достаточно?"
      ]
    },
    {
      "cell_type": "markdown",
      "metadata": {
        "id": "F__l8jHsmvSF"
      },
      "source": [
        "### Задача 3  \n",
        "\n",
        "Улучшите свёрточную нейросеть: поэкспериментируйте с архитектурой (количество слоёв, порядок слоёв), с гиперпараметрами слоёв (размеры kernel_size, размеры pooling'а, количество kernel'ов в свёрточном слое) и с гиперпараметрами, указанными в \"Компоненты нейросети\" (см. памятку выше)."
      ]
    },
    {
      "cell_type": "code",
      "metadata": {
        "id": "moepyKFemvSG",
        "colab": {
          "base_uri": "https://localhost:8080/"
        },
        "outputId": "ce28bd98-498c-44b7-a21c-ebef2bff7678"
      },
      "source": [
        "# Ваш код здесь\n",
        "next(iter(trainloader))[0].shape"
      ],
      "execution_count": 29,
      "outputs": [
        {
          "output_type": "execute_result",
          "data": {
            "text/plain": [
              "torch.Size([128, 3, 32, 32])"
            ]
          },
          "metadata": {
            "tags": []
          },
          "execution_count": 29
        }
      ]
    },
    {
      "cell_type": "code",
      "metadata": {
        "colab": {
          "base_uri": "https://localhost:8080/"
        },
        "id": "BXYfyXHnM2q9",
        "outputId": "f0d6f514-d305-4b06-8643-5d65edac57a9"
      },
      "source": [
        "# Ваш код здесь\n",
        "transform = transforms.Compose(\n",
        "    [transforms.ToTensor(),\n",
        "    #  transforms.Grayscale(num_output_channels=1),\n",
        "    #  transforms.Normalize(mean=[0.485, 0.456, 0.406],\n",
        "                        #  std=[0.229, 0.224, 0.225] )])\n",
        "     transforms.Normalize((0.5, 0.5, 0.5), (0.5, 0.5, 0.5))])\n",
        "\n",
        "trainset = torchvision.datasets.CIFAR10(root='./data', train=True,\n",
        "                                        download=True, transform=transform)\n",
        "trainloader = torch.utils.data.DataLoader(trainset, batch_size=4, # batch size is 4\n",
        "                                          shuffle=True, num_workers=2)\n",
        "\n",
        "testset = torchvision.datasets.CIFAR10(root='./data', train=False,\n",
        "                                       download=True, transform=transform)\n",
        "testloader = torch.utils.data.DataLoader(testset, batch_size=4,\n",
        "                                         shuffle=False, num_workers=2)\n",
        "\n",
        "classes = ('plane', 'car', 'bird', 'cat',\n",
        "           'deer', 'dog', 'frog', 'horse', 'ship', 'truck')"
      ],
      "execution_count": 30,
      "outputs": [
        {
          "output_type": "stream",
          "text": [
            "Files already downloaded and verified\n",
            "Files already downloaded and verified\n"
          ],
          "name": "stdout"
        }
      ]
    },
    {
      "cell_type": "code",
      "metadata": {
        "id": "VFB_dZ9sM3Cr"
      },
      "source": [
        "class MyNewConvNet(nn.Module):\n",
        "    def __init__(self):\n",
        "        # вызов конструктора предка\n",
        "        super().__init__()\n",
        "        # необходмо заранее знать, сколько каналов у картинки (сейчас = 1),\n",
        "        # которую будем подавать в сеть, больше ничего\n",
        "        # про входящие картинки знать не нужно\n",
        "        # Напишите свой код тут\n",
        "        self.conv1 = nn.Conv2d(3,15,2) #3 6 5\n",
        "        self.pool = nn.MaxPool2d(2,2)\n",
        "        self.conv2 = nn.Conv2d(15,16,2) #6 16 5\n",
        "        self.fc1 = nn.Linear(784, 400) #120 -> 400 28*28\n",
        "        self.fc2 = nn.Linear(400, 240)    #84 ->200\n",
        "        self.fc3 = nn.Linear(240, 120)\n",
        "        self.fc4 = nn.Linear(120, 84)     #additional layer\n",
        "        self.fc5 = nn.Linear(84, 10)\n",
        "\n",
        "    def forward(self, x):\n",
        "        #еапишите свой код тут\n",
        "        x = self.pool(F.relu(self.conv1(x)))\n",
        "        x = self.pool(F.relu(self.conv2(x)))\n",
        "        x = torch.flatten(x, 1)\n",
        "        x = F.relu(self.fc1(x))\n",
        "        x = F.relu(self.fc2(x))\n",
        "        x = F.relu(self.fc3(x))\n",
        "        x = F.relu(self.fc4(x))\n",
        "        x = self.fc5(x)\n",
        "        return x"
      ],
      "execution_count": 42,
      "outputs": []
    },
    {
      "cell_type": "code",
      "metadata": {
        "colab": {
          "base_uri": "https://localhost:8080/",
          "height": 1000,
          "referenced_widgets": [
            "daa82b60b29d4293940705a25974744a",
            "9b860ef42309486fbbf77049739b7298",
            "1d5e909c3f8b4d58abbe320d6ebc8127",
            "90b84d354f0f475591593004468f05b7",
            "b5d1144f3c9b45c7a1a9548a3650bdd8",
            "0f2c61041aa145bd97b8168e7a07973a",
            "df872f4235ce46a99ea083561ec3383d",
            "180e211ea7f9400b98e64cb262e21a21",
            "556894c7f90f4e59ad59233820ade583",
            "8171debce34a4b488426b2b91df7abf0",
            "543f8f9602524e96a5444e623dd81cc8",
            "4f9a28e50d2a4590bfa680c9bc01fd34",
            "79528e14ed0d47f7b29ee1aa934ec3b2",
            "76574e3e1df441f8a08d1c7f76ece5ae",
            "e588830491244e7284aae15dbce64f38",
            "2bae1c06199b4955946d561304a91577",
            "31e65ca5640c44a78ed643475bd81fb2",
            "b61e1ca84a0347d6b1a8d2a7fec9a2a4",
            "7e34186e42b945d79515b2850b737962",
            "9bdab75604d2479ca9c0793cffd87df1",
            "58a0f9a4a44a4a488d435498e726ee43",
            "6c76ae19513e42de932a6e3590b7bf25",
            "85b4652ed7f3401191db9b79fb53fdb2",
            "e094ad2ce67a4201a36e959610df7cb0",
            "ef7c7f463da247beaaacec7ba92e2e6a",
            "241737126fe94dc9bf036df5267857d8",
            "b8ddbb10a2de4d2aa92692355c6de300",
            "71169602918e43aeb3e4fe94a6f9d28e",
            "d7bb9c473aee4e4582972514afd5197b",
            "cf45b162cc2948488c89981423cc2f0e",
            "0121ca04061142da9b5141b6dc006f59",
            "6ac885b663dc4e71a1d0806f6d1f613e",
            "f5378ab5e7e040b0b4af5d58f28a2b3d",
            "f02515b504194398b8411c99c3bce882",
            "0336fa7e43ac4141bf79a6160c85c0ac",
            "76d80a919a634a11bd53f8e955326e45",
            "62ffe91dd9144812878e3444e74c4e28",
            "6b6c931b16e548ef9f22c74e9cb5e5c5",
            "fe24d3aa279442209205d613179e420f",
            "126d073677ad4da0af909216736d80aa",
            "2ff5999dac0347b08f944b06a4ea25b5",
            "8b0b0cb9cb1e458fb46f303d958d56ef",
            "fb791780248e4ea4b03cafb6ec17aea3",
            "9b8bb405e55e409c9f9da1c6ea096e75",
            "81c2f0c06c0a4901af6409e82dc8d2e0",
            "c799acefce484e8eb031e76f7db1804f",
            "af57dd018cea484e9dc942f243c35f0a",
            "2a123c8ae7a3411a83762b302f8977e5",
            "5386814373434ac29d1fc0092e2bdc01",
            "38ca6e995ff94f4f904ecffe7f861a03",
            "8d0e55f89cbf4b41a29269f8095377da",
            "338d773753464433b46757e4a9f587f9",
            "bd2a0400f54a4c2c9185e9a9a7c89104",
            "fe86086888814f6a8e84ddda25bc48a2",
            "4b6d6f231c23411dae8653567811c3dd",
            "23ffc345481446de9cc1ffb2d8abd433",
            "31faf36d34434e608cd2a2d7662bc580",
            "eb50ebcd421a4397839cc4122d351cdf",
            "bfb2cc0a629045f78d8ac2f0ce1b059a",
            "0fa78945fbe24f98a3d38e7b544003c3",
            "4f4f0635bca34e378b65bc8d2645fc1d",
            "29ecf95ab1504a64b998b877608fa435",
            "beef7c3995ad421abe4b9a628c460c36",
            "0058f3907aa14c07bdec3f3cb44d16e7",
            "3ac5a0f33452492cb9e83f18cb9a81f0",
            "060d3f212acd494cae8835a43e73a192",
            "fde58b0a3059497390947c5aab336949",
            "291474acc148440f9191060e53977e90",
            "d1ce4846a1f0456fbf70c60751dd6644",
            "31e7ad08d40146b3a7b512bdcd2a45c6",
            "c462f966a3624b57b14c0e11577b75d4",
            "3f4caa431ea342939b07f25bbf42ca5f",
            "3fc4c2c3740f4f10b7283ee5ae9a039d",
            "5e6e365ced554802b90f076d2caa598f",
            "7eb6f92081da418d928408123af97575",
            "55ad369bf3674a9299ef0447e115abf9",
            "4ea4931e2bd2431aa0cfb839345ea18a",
            "4b793755d9ed401fb20500687d7dea20",
            "9abc56a683114ec396963845244c1c6c",
            "376ad302baee48f4a63f28d6e4b84a41",
            "b00f9caddaca46d3a8724361555f61c6",
            "94c46d472b8544efb4c4246d880b9668",
            "9115d50c8cff4428bccc8ba1c27f5f01",
            "ad9319890def440c86e7110194c373d7",
            "992e2d266c634b398f48ed42f184f8b2",
            "0c21e4a6be1c45708f9c0f4ca08f1d2a",
            "376fadd345df41b0bacca4b967fd8412",
            "04ac08a8c71d4da8a5e50a80215d57b1"
          ]
        },
        "id": "hvuhpM3vNLRz",
        "outputId": "7b7a8d3a-4b42-4645-e39d-54c87a6a91fb"
      },
      "source": [
        "import torch.optim as optim\n",
        "net = MyNewConvNet()\n",
        "\n",
        "loss_fn = torch.nn.CrossEntropyLoss()\n",
        "losses = []\n",
        "\n",
        "learning_rate = 1e-3\n",
        "optimizer = optim.SGD(net.parameters(), lr=learning_rate, momentum=0.9)\n",
        "\n",
        "# итерируемся\n",
        "for epoch in tqdm_notebook(range(10)):\n",
        "\n",
        "    running_loss = 0.0\n",
        "    for i, batch in enumerate(tqdm_notebook(trainloader)):\n",
        "        # напишите свой код тут\n",
        "        X_batch, y_batch = batch\n",
        "        \n",
        "        # обнуляем веса\n",
        "        optimizer.zero_grad()\n",
        "\n",
        "        # forward + backward + optimize\n",
        "        y_pred = net(X_batch)\n",
        "        loss = loss_fn(y_pred, y_batch)\n",
        "        loss.backward()\n",
        "        optimizer.step()\n",
        "\n",
        "        # выведем текущий loss\n",
        "        running_loss += loss.item()\n",
        "        # выводем качество каждые 2000 батчей\n",
        "        if i % 2000 == 1999:\n",
        "            print('[%d, %5d] loss: %.3f' %\n",
        "                  (epoch + 1, i + 1, running_loss / 2000))\n",
        "            running_loss = 0.0\n",
        "\n",
        "print('Обучение закончено')"
      ],
      "execution_count": 43,
      "outputs": [
        {
          "output_type": "stream",
          "text": [
            "/usr/local/lib/python3.7/dist-packages/ipykernel_launcher.py:11: TqdmDeprecationWarning: This function will be removed in tqdm==5.0.0\n",
            "Please use `tqdm.notebook.tqdm` instead of `tqdm.tqdm_notebook`\n",
            "  # This is added back by InteractiveShellApp.init_path()\n"
          ],
          "name": "stderr"
        },
        {
          "output_type": "display_data",
          "data": {
            "application/vnd.jupyter.widget-view+json": {
              "model_id": "daa82b60b29d4293940705a25974744a",
              "version_minor": 0,
              "version_major": 2
            },
            "text/plain": [
              "HBox(children=(FloatProgress(value=0.0, max=10.0), HTML(value='')))"
            ]
          },
          "metadata": {
            "tags": []
          }
        },
        {
          "output_type": "stream",
          "text": [
            "/usr/local/lib/python3.7/dist-packages/ipykernel_launcher.py:14: TqdmDeprecationWarning: This function will be removed in tqdm==5.0.0\n",
            "Please use `tqdm.notebook.tqdm` instead of `tqdm.tqdm_notebook`\n",
            "  \n"
          ],
          "name": "stderr"
        },
        {
          "output_type": "display_data",
          "data": {
            "application/vnd.jupyter.widget-view+json": {
              "model_id": "556894c7f90f4e59ad59233820ade583",
              "version_minor": 0,
              "version_major": 2
            },
            "text/plain": [
              "HBox(children=(FloatProgress(value=0.0, max=12500.0), HTML(value='')))"
            ]
          },
          "metadata": {
            "tags": []
          }
        },
        {
          "output_type": "stream",
          "text": [
            "[1,  2000] loss: 2.303\n",
            "[1,  4000] loss: 2.302\n",
            "[1,  6000] loss: 2.256\n",
            "[1,  8000] loss: 2.013\n",
            "[1, 10000] loss: 1.801\n",
            "[1, 12000] loss: 1.667\n",
            "\n"
          ],
          "name": "stdout"
        },
        {
          "output_type": "display_data",
          "data": {
            "application/vnd.jupyter.widget-view+json": {
              "model_id": "31e65ca5640c44a78ed643475bd81fb2",
              "version_minor": 0,
              "version_major": 2
            },
            "text/plain": [
              "HBox(children=(FloatProgress(value=0.0, max=12500.0), HTML(value='')))"
            ]
          },
          "metadata": {
            "tags": []
          }
        },
        {
          "output_type": "stream",
          "text": [
            "[2,  2000] loss: 1.576\n",
            "[2,  4000] loss: 1.490\n",
            "[2,  6000] loss: 1.447\n",
            "[2,  8000] loss: 1.408\n",
            "[2, 10000] loss: 1.378\n",
            "[2, 12000] loss: 1.340\n",
            "\n"
          ],
          "name": "stdout"
        },
        {
          "output_type": "display_data",
          "data": {
            "application/vnd.jupyter.widget-view+json": {
              "model_id": "ef7c7f463da247beaaacec7ba92e2e6a",
              "version_minor": 0,
              "version_major": 2
            },
            "text/plain": [
              "HBox(children=(FloatProgress(value=0.0, max=12500.0), HTML(value='')))"
            ]
          },
          "metadata": {
            "tags": []
          }
        },
        {
          "output_type": "stream",
          "text": [
            "[3,  2000] loss: 1.254\n",
            "[3,  4000] loss: 1.260\n",
            "[3,  6000] loss: 1.206\n",
            "[3,  8000] loss: 1.213\n",
            "[3, 10000] loss: 1.186\n",
            "[3, 12000] loss: 1.152\n",
            "\n"
          ],
          "name": "stdout"
        },
        {
          "output_type": "display_data",
          "data": {
            "application/vnd.jupyter.widget-view+json": {
              "model_id": "f5378ab5e7e040b0b4af5d58f28a2b3d",
              "version_minor": 0,
              "version_major": 2
            },
            "text/plain": [
              "HBox(children=(FloatProgress(value=0.0, max=12500.0), HTML(value='')))"
            ]
          },
          "metadata": {
            "tags": []
          }
        },
        {
          "output_type": "stream",
          "text": [
            "[4,  2000] loss: 1.079\n",
            "[4,  4000] loss: 1.071\n",
            "[4,  6000] loss: 1.067\n",
            "[4,  8000] loss: 1.050\n",
            "[4, 10000] loss: 1.013\n",
            "[4, 12000] loss: 1.004\n",
            "\n"
          ],
          "name": "stdout"
        },
        {
          "output_type": "display_data",
          "data": {
            "application/vnd.jupyter.widget-view+json": {
              "model_id": "2ff5999dac0347b08f944b06a4ea25b5",
              "version_minor": 0,
              "version_major": 2
            },
            "text/plain": [
              "HBox(children=(FloatProgress(value=0.0, max=12500.0), HTML(value='')))"
            ]
          },
          "metadata": {
            "tags": []
          }
        },
        {
          "output_type": "stream",
          "text": [
            "[5,  2000] loss: 0.913\n",
            "[5,  4000] loss: 0.920\n",
            "[5,  6000] loss: 0.915\n",
            "[5,  8000] loss: 0.897\n",
            "[5, 10000] loss: 0.904\n",
            "[5, 12000] loss: 0.902\n",
            "\n"
          ],
          "name": "stdout"
        },
        {
          "output_type": "display_data",
          "data": {
            "application/vnd.jupyter.widget-view+json": {
              "model_id": "5386814373434ac29d1fc0092e2bdc01",
              "version_minor": 0,
              "version_major": 2
            },
            "text/plain": [
              "HBox(children=(FloatProgress(value=0.0, max=12500.0), HTML(value='')))"
            ]
          },
          "metadata": {
            "tags": []
          }
        },
        {
          "output_type": "stream",
          "text": [
            "[6,  2000] loss: 0.760\n",
            "[6,  4000] loss: 0.797\n",
            "[6,  6000] loss: 0.806\n",
            "[6,  8000] loss: 0.824\n",
            "[6, 10000] loss: 0.792\n",
            "[6, 12000] loss: 0.775\n",
            "\n"
          ],
          "name": "stdout"
        },
        {
          "output_type": "display_data",
          "data": {
            "application/vnd.jupyter.widget-view+json": {
              "model_id": "31faf36d34434e608cd2a2d7662bc580",
              "version_minor": 0,
              "version_major": 2
            },
            "text/plain": [
              "HBox(children=(FloatProgress(value=0.0, max=12500.0), HTML(value='')))"
            ]
          },
          "metadata": {
            "tags": []
          }
        },
        {
          "output_type": "stream",
          "text": [
            "[7,  2000] loss: 0.653\n",
            "[7,  4000] loss: 0.689\n",
            "[7,  6000] loss: 0.683\n",
            "[7,  8000] loss: 0.694\n",
            "[7, 10000] loss: 0.713\n",
            "[7, 12000] loss: 0.702\n",
            "\n"
          ],
          "name": "stdout"
        },
        {
          "output_type": "display_data",
          "data": {
            "application/vnd.jupyter.widget-view+json": {
              "model_id": "3ac5a0f33452492cb9e83f18cb9a81f0",
              "version_minor": 0,
              "version_major": 2
            },
            "text/plain": [
              "HBox(children=(FloatProgress(value=0.0, max=12500.0), HTML(value='')))"
            ]
          },
          "metadata": {
            "tags": []
          }
        },
        {
          "output_type": "stream",
          "text": [
            "[8,  2000] loss: 0.547\n",
            "[8,  4000] loss: 0.588\n",
            "[8,  6000] loss: 0.574\n",
            "[8,  8000] loss: 0.599\n",
            "[8, 10000] loss: 0.622\n",
            "[8, 12000] loss: 0.622\n",
            "\n"
          ],
          "name": "stdout"
        },
        {
          "output_type": "display_data",
          "data": {
            "application/vnd.jupyter.widget-view+json": {
              "model_id": "3fc4c2c3740f4f10b7283ee5ae9a039d",
              "version_minor": 0,
              "version_major": 2
            },
            "text/plain": [
              "HBox(children=(FloatProgress(value=0.0, max=12500.0), HTML(value='')))"
            ]
          },
          "metadata": {
            "tags": []
          }
        },
        {
          "output_type": "stream",
          "text": [
            "[9,  2000] loss: 0.457\n",
            "[9,  4000] loss: 0.484\n",
            "[9,  6000] loss: 0.514\n",
            "[9,  8000] loss: 0.530\n",
            "[9, 10000] loss: 0.549\n",
            "[9, 12000] loss: 0.539\n",
            "\n"
          ],
          "name": "stdout"
        },
        {
          "output_type": "display_data",
          "data": {
            "application/vnd.jupyter.widget-view+json": {
              "model_id": "b00f9caddaca46d3a8724361555f61c6",
              "version_minor": 0,
              "version_major": 2
            },
            "text/plain": [
              "HBox(children=(FloatProgress(value=0.0, max=12500.0), HTML(value='')))"
            ]
          },
          "metadata": {
            "tags": []
          }
        },
        {
          "output_type": "stream",
          "text": [
            "[10,  2000] loss: 0.377\n",
            "[10,  4000] loss: 0.408\n",
            "[10,  6000] loss: 0.431\n",
            "[10,  8000] loss: 0.454\n",
            "[10, 10000] loss: 0.473\n",
            "[10, 12000] loss: 0.474\n",
            "\n",
            "\n",
            "Обучение закончено\n"
          ],
          "name": "stdout"
        }
      ]
    },
    {
      "cell_type": "code",
      "metadata": {
        "colab": {
          "base_uri": "https://localhost:8080/"
        },
        "id": "Ok0mxUXINQru",
        "outputId": "956761ff-d324-4158-b20a-dc458265e30d"
      },
      "source": [
        "class_correct = list(0. for i in range(10))\n",
        "class_total = list(0. for i in range(10))\n",
        "\n",
        "with torch.no_grad():\n",
        "    for data in testloader:\n",
        "        images, labels = data\n",
        "        y_pred = net(images)#.view(4, -1))\n",
        "        _, predicted = torch.max(y_pred, 1)\n",
        "        c = (predicted == labels).squeeze()\n",
        "        for i in range(4):\n",
        "            label = labels[i]\n",
        "            class_correct[label] += c[i].item()\n",
        "            class_total[label] += 1\n",
        "\n",
        "\n",
        "summa = 0\n",
        "for i in range(10):\n",
        "    summa += (100 * class_correct[i] / class_total[i])\n",
        "    print('Accuracy of %5s : %2d %%' % (\n",
        "        classes[i], 100 * class_correct[i] / class_total[i]))\n",
        "print(summa/10, '% of average accuracy.')"
      ],
      "execution_count": 44,
      "outputs": [
        {
          "output_type": "stream",
          "text": [
            "Accuracy of plane : 73 %\n",
            "Accuracy of   car : 83 %\n",
            "Accuracy of  bird : 49 %\n",
            "Accuracy of   cat : 57 %\n",
            "Accuracy of  deer : 60 %\n",
            "Accuracy of   dog : 56 %\n",
            "Accuracy of  frog : 76 %\n",
            "Accuracy of horse : 72 %\n",
            "Accuracy of  ship : 76 %\n",
            "Accuracy of truck : 73 %\n",
            "67.97 % of average accuracy.\n"
          ],
          "name": "stdout"
        }
      ]
    },
    {
      "cell_type": "markdown",
      "metadata": {
        "id": "Nwz2zvrSmvSJ"
      },
      "source": [
        "(Ожидаемый результат -- скорее всего, сходу Вам не удастся выжать из Вашей сетки больше, чем ~70% accuracy (в среднем по всем классам). Если это что-то в этом районе - Вы хорошо постарались)."
      ]
    },
    {
      "cell_type": "markdown",
      "metadata": {
        "id": "BIIpG-8lmvSK"
      },
      "source": [
        "<h3 style=\"text-align: center;\"><b>Полезные ссылки</b></h3>"
      ]
    },
    {
      "cell_type": "markdown",
      "metadata": {
        "id": "cxjnt47smvSO"
      },
      "source": [
        "1). *Примеры написания нейросетей на PyTorch (офийиальные туториалы) (на английском): https://pytorch.org/tutorials/beginner/pytorch_with_examples.html#examples  \n",
        "https://pytorch.org/tutorials/beginner/blitz/cifar10_tutorial.html*"
      ]
    },
    {
      "cell_type": "markdown",
      "metadata": {
        "id": "s0OoUDBDmvSP"
      },
      "source": [
        "2). ***Один из самых подробных и полных курсов по deep learning на данный момент - это курс Стэнфордского Университета (он вообще сейчас один из лидеров в области ИИ, его выпускники работают в Google, Facebook, Amazon, Microsoft, в стартапах в Кремниевой долине):  http://cs231n.github.io/***  "
      ]
    },
    {
      "cell_type": "markdown",
      "metadata": {
        "id": "lfCLur8VmvSR"
      },
      "source": [
        "3). Практически исчерпывающая информация по основам свёрточных нейросетей (из cs231n) (на английском):  \n",
        "\n",
        "http://cs231n.github.io/convolutional-networks/  \n",
        "http://cs231n.github.io/understanding-cnn/  \n",
        "http://cs231n.github.io/transfer-learning/"
      ]
    },
    {
      "cell_type": "markdown",
      "metadata": {
        "id": "9cYDmcZxmvSR"
      },
      "source": [
        "4). Видео о Computer Vision от Andrej Karpathy: https://www.youtube.com/watch?v=u6aEYuemt0M"
      ]
    }
  ]
}